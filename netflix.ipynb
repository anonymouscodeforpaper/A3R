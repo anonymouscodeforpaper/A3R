{
  "cells": [
    {
      "cell_type": "code",
      "execution_count": 1,
      "metadata": {
        "colab": {
          "base_uri": "https://localhost:8080/"
        },
        "id": "67flL1VX7K-o",
        "outputId": "4792c077-33bc-4c2a-ecb7-593668c730ac"
      },
      "outputs": [
        {
          "output_type": "stream",
          "name": "stdout",
          "text": [
            "Mounted at /content/gdrive\n"
          ]
        }
      ],
      "source": [
        "from google.colab import drive\n",
        "drive.mount('/content/gdrive')"
      ]
    },
    {
      "cell_type": "code",
      "execution_count": 2,
      "metadata": {
        "id": "YykyOrs17vO2"
      },
      "outputs": [],
      "source": [
        "import pickle\n",
        "import pandas as pd\n",
        "import torch\n",
        "from torch import nn\n",
        "from sklearn.preprocessing import LabelEncoder\n",
        "from concurrent.futures import ProcessPoolExecutor\n",
        "import numpy as np\n",
        "from operator import itemgetter\n",
        "THREADS = 16\n",
        "from sklearn.metrics import precision_score\n",
        "from sklearn.metrics import recall_score\n",
        "from sklearn.metrics import f1_score\n",
        "import time"
      ]
    },
    {
      "cell_type": "code",
      "execution_count": 3,
      "metadata": {
        "id": "TRWj7DHH7xK5"
      },
      "outputs": [],
      "source": [
        "import pickle\n",
        "import pandas as pd\n",
        "import torch\n",
        "from torch import nn\n",
        "from sklearn.preprocessing import LabelEncoder\n",
        "from concurrent.futures import ProcessPoolExecutor\n",
        "import numpy as np\n",
        "from operator import itemgetter\n",
        "THREADS = 16\n",
        "from sklearn.metrics import precision_score\n",
        "from sklearn.metrics import recall_score\n",
        "from sklearn.metrics import f1_score\n",
        "import time\n",
        "import torch.nn.functional as F\n",
        "loss_func = torch.nn.MSELoss()"
      ]
    },
    {
      "cell_type": "code",
      "execution_count": 4,
      "metadata": {
        "id": "V8xwAuaT7xNT"
      },
      "outputs": [],
      "source": [
        "ratings = pd.read_pickle('/content/gdrive/My Drive/drive/data/netflix/movie_ratings_500_id.pkl')\n",
        "films = pd.read_pickle('/content/gdrive/My Drive/drive/data/netflix/movie_metadata.pkl')"
      ]
    },
    {
      "cell_type": "code",
      "execution_count": 5,
      "metadata": {
        "id": "XD6fyl_i7xPi"
      },
      "outputs": [],
      "source": [
        "row = []\n",
        "for mid,haha in ratings.items():\n",
        "    for info in haha:\n",
        "        info['movie'] = mid\n",
        "        row.append(info)\n",
        "df_ratings = pd.DataFrame(row)\n",
        "row = []\n",
        "for mid,haha in films.items():\n",
        "    haha['movie'] = mid\n",
        "    row.append(haha)\n",
        "df_movie = pd.DataFrame(row)"
      ]
    },
    {
      "cell_type": "code",
      "execution_count": 6,
      "metadata": {
        "id": "y-MUrwEC7xRx"
      },
      "outputs": [],
      "source": [
        "DEVICE = \"cuda\" if torch.cuda.is_available() else \"cpu\""
      ]
    },
    {
      "cell_type": "code",
      "execution_count": 7,
      "metadata": {
        "id": "iwHrVez67xUL"
      },
      "outputs": [],
      "source": [
        "final = pd.merge(df_movie,df_ratings,on='movie')\n",
        "a = final['user_id'].value_counts()[final['user_id'].value_counts() >= 10]\n",
        "final = final[final['user_id'].isin(list(a.index))]\n",
        "final.index = range(len(final))\n",
        "hehe = final.copy()\n",
        "del hehe['title']\n",
        "del hehe['user_rating_date']"
      ]
    },
    {
      "cell_type": "code",
      "execution_count": 8,
      "metadata": {
        "id": "ESVvfBzz7xWZ"
      },
      "outputs": [],
      "source": [
        "movie = dict()\n",
        "for i in range(df_movie.shape[0]):\n",
        "    m = df_movie['movie'][i]\n",
        "    movie.setdefault(m,dict())\n",
        "    movie[m]['director'] = df_movie['director'][i]\n",
        "    movie[m]['genre'] = df_movie['genre'][i]\n",
        "    movie[m]['actors'] = df_movie['actors'][i]\n",
        "    movie[m]['title'] = df_movie['title'][i]"
      ]
    },
    {
      "cell_type": "code",
      "execution_count": 9,
      "metadata": {
        "id": "n1fALcGL7xY4"
      },
      "outputs": [],
      "source": [
        "def map_aspect_values_to_movies(x):\n",
        "    (film, meta), aspect = x\n",
        "    aspects = dict()\n",
        "    if aspect == \"director\":\n",
        "        aspects[meta[aspect]] = 1\n",
        "    else:\n",
        "        for g in meta[aspect]:\n",
        "            aspects[g] = 1\n",
        "    return film, meta, aspects\n",
        "\n",
        "\n",
        "def dict_movie_aspect(paper_films, aspect):\n",
        "    paper_films_aspect_prepended = map(\n",
        "        lambda e: (e, aspect), list(paper_films.items()))\n",
        "    aspect_dict = dict()\n",
        "    with ProcessPoolExecutor(max_workers=THREADS) as executor:\n",
        "        results = executor.map(map_aspect_values_to_movies,\n",
        "                               paper_films_aspect_prepended)\n",
        "    for film, meta, aspects in results:\n",
        "        aspect_dict[film + \"_\" + meta[\"title\"]] = aspects\n",
        "    return aspect_dict"
      ]
    },
    {
      "cell_type": "code",
      "execution_count": 10,
      "metadata": {
        "id": "wEx6InDo7xbY"
      },
      "outputs": [],
      "source": [
        "movie_genres = dict_movie_aspect(movie, \"genre\")\n",
        "movie_directors = dict_movie_aspect(movie,'director')\n",
        "movie_actors = dict_movie_aspect(movie,'actors')\n",
        "actors = pd.DataFrame.from_dict(movie_actors,dtype = 'int64',orient = 'index').T.replace(np.nan, 0).index\n",
        "directors = pd.DataFrame.from_dict(movie_directors,dtype = 'int64',orient = 'index').T.replace(np.nan, 0).index\n",
        "genres = pd.DataFrame.from_dict(movie_genres,dtype = 'int64',orient = 'index').T.replace(np.nan, 0).index"
      ]
    },
    {
      "cell_type": "code",
      "execution_count": 11,
      "metadata": {
        "id": "cydMm20Z7xd3"
      },
      "outputs": [],
      "source": [
        "actors_dict = dict(zip(actors, range(len(actors))))\n",
        "directors_dict = dict(zip(directors, range(\n",
        "    len(actors), len(actors) + len(directors))))\n",
        "genres_dict = dict(zip(genres, range(\n",
        "    len(actors) + len(directors), len(actors) + len(directors) + len(genres))))\n",
        "# max(actors_dict.values()),max(directors_dict.values()),max(genres_dict.values())"
      ]
    },
    {
      "cell_type": "code",
      "execution_count": 12,
      "metadata": {
        "id": "Sq4RVmCJ7xgP"
      },
      "outputs": [],
      "source": [
        "def change_director(x):\n",
        "    return [itemgetter(x)(directors_dict)]\n",
        "\n",
        "\n",
        "def change_actor(x):\n",
        "    return change_list((itemgetter(*x)(actors_dict)))\n",
        "\n",
        "\n",
        "def change_genre(x):\n",
        "    qunima = itemgetter(*x)(genres_dict)\n",
        "    if type(qunima) == int:\n",
        "        return [qunima]\n",
        "    else:\n",
        "        return change_list(qunima)\n",
        "\n",
        "\n",
        "def change_list(x):\n",
        "    return list(x)"
      ]
    },
    {
      "cell_type": "code",
      "execution_count": 13,
      "metadata": {
        "id": "GaiEtHuA7xik"
      },
      "outputs": [],
      "source": [
        "hehe['director'] = hehe['director'].map(change_director)\n",
        "hehe['actors'] = hehe['actors'].map(change_actor)\n",
        "hehe['genre'] = hehe['genre'].map(change_genre)"
      ]
    },
    {
      "cell_type": "code",
      "execution_count": 14,
      "metadata": {
        "id": "Vr6Rvp4c7xlM"
      },
      "outputs": [],
      "source": [
        "hehe = hehe[['user_id','movie','actors','director','genre','user_rating']]\n",
        "hehe['user_rating'] = hehe['user_rating'].astype('float')"
      ]
    },
    {
      "cell_type": "code",
      "execution_count": 15,
      "metadata": {
        "id": "JpvnHwp37xns"
      },
      "outputs": [],
      "source": [
        "le = LabelEncoder()\n",
        "y_user = le.fit_transform(hehe['user_id'])\n",
        "hehe['user_id'] = y_user\n",
        "\n",
        "y_item = le.fit_transform(hehe['movie'])\n",
        "hehe['movie'] = y_item\n"
      ]
    },
    {
      "cell_type": "code",
      "execution_count": 16,
      "metadata": {
        "colab": {
          "base_uri": "https://localhost:8080/"
        },
        "id": "lhSHUlpw7xqT",
        "outputId": "4692a9c3-0c72-436f-ddf1-88b7522e0af0"
      },
      "outputs": [
        {
          "output_type": "stream",
          "name": "stdout",
          "text": [
            "The number of aspects is 1154\n",
            "The number of users is 5128\n"
          ]
        }
      ],
      "source": [
        "print(\"The number of aspects is {}\".format(max(genres_dict.values()) + 1))\n",
        "print(\"The number of users is {}\".format(max(hehe['user_id'])+1))"
      ]
    },
    {
      "cell_type": "code",
      "execution_count": 17,
      "metadata": {
        "id": "qUmuBEap7xs7"
      },
      "outputs": [],
      "source": [
        "from tqdm import tqdm\n",
        "from torch.nn import LeakyReLU\n",
        "leaky = LeakyReLU(0.0)\n",
        "\n",
        "def calculate_score(x, users, aspects):\n",
        "    niubi = []\n",
        "    # users: 128 * 8\n",
        "    first = x.index[0]\n",
        "    val_base = x[first]\n",
        "    actor_base = torch.LongTensor(val_base).to(DEVICE)\n",
        "    actors_base = aspects(actor_base)  # 3 * 8\n",
        "    #actors_base = actors_base + items[first % 128].unsqueeze(1)\n",
        "    #actors_base = F.dropout(actors_base, p=rate, training=True)\n",
        "    pre_rating = torch.mm(actors_base, users[first].unsqueeze(1))\n",
        "    niubi.append(pre_rating)\n",
        "    pre_rating = pre_rating / pre_rating.shape[0]\n",
        "    pre_rating = pre_rating.sum(0)\n",
        "    for i in x.index[1:]:\n",
        "        val = x[i]\n",
        "        actor = torch.LongTensor(val).to(DEVICE)\n",
        "        actors = aspects(actor)\n",
        "        pre_ra = torch.mm(actors, users[i].unsqueeze(1))\n",
        "        niubi.append(pre_ra)\n",
        "        actors_f = pre_ra / pre_ra.shape[0]\n",
        "        actors_f = actors_f.sum(0)\n",
        "        pre_rating = torch.cat((pre_rating, actors_f))\n",
        "    return pre_rating, niubi\n",
        "\n",
        "\n",
        "class aspect_augumentation(nn.Module):\n",
        "    def __init__(self, n_users, n_entity, n_rk, n_factors):\n",
        "        super(aspect_augumentation, self).__init__()\n",
        "        self.n_users = n_users\n",
        "        self.n_entity = n_entity\n",
        "        self.n_rk = n_rk\n",
        "        self.n_factors = n_factors\n",
        "        self.user_factors = torch.nn.Embedding(n_users, n_factors)\n",
        "        self.entity_factors = torch.nn.Embedding(n_entity, n_factors)\n",
        "        self.relation_k = torch.nn.Embedding(n_factors, n_rk)\n",
        "        \n",
        "\n",
        "    def forward(self, user_id, actors_id, directors_id, genres_id):\n",
        "        '''\n",
        "        user_factors: n_users * 64\n",
        "        entity_factors: n_entity * 64\n",
        "        relation_k: 64 * 3\n",
        "        '''\n",
        "        \n",
        "        users = self.user_factors(user_id)  # 128 * 8\n",
        "        aspects = self.entity_factors  # n_entity * 8\n",
        "        users = F.dropout(users, p=rate, training=self.training)\n",
        "        scores = torch.matmul(users, F.dropout(self.relation_k.weight, p=rate, training=self.training))  # 128 * 3\n",
        "        scores = leaky(scores)\n",
        "        m=torch.nn.Softmax(dim=1)  # 128 * 3\n",
        "        scores=m(scores)  # 128 * 3\n",
        "\n",
        "        '''\n",
        "        Compute the importance of each aspects\n",
        "        '''\n",
        "        scores_actors=scores[:, 0] # 128,\n",
        "        scores_directors=scores[:, 1] # 128,\n",
        "        scores_genres=scores[:, 2] # 128,\n",
        "\n",
        "        '''\n",
        "        Compute the contribution of each aspects\n",
        "        '''\n",
        "        contribute_actors,niubi_act=calculate_score(\n",
        "            actors_id, users,aspects)\n",
        "        contribute_directors, niubi_dir=calculate_score(\n",
        "            directors_id, users,aspects)\n",
        "        contribute_genres, niubi_gen=calculate_score(\n",
        "            genres_id, users, aspects)\n",
        "\n",
        "        '''\n",
        "        Compute the final predictions\n",
        "        '''\n",
        "        importance_sum=scores_actors + scores_directors + scores_genres\n",
        "        prediction_sum=contribute_actors * scores_actors + contribute_directors * scores_directors + contribute_genres * scores_genres\n",
        "        prediction=prediction_sum / importance_sum\n",
        "        cnm = [niubi_act,niubi_dir,niubi_gen]\n",
        "\n",
        "        return prediction, scores, contribute_actors, contribute_directors, contribute_genres,cnm"
      ]
    },
    {
      "cell_type": "code",
      "execution_count": 18,
      "metadata": {
        "id": "jeh8gdnS7xvW"
      },
      "outputs": [],
      "source": [
        "def RMSE(data, model,batch_size,items):\n",
        "    users_index = data.iloc[:, 0].values\n",
        "    users = torch.LongTensor(users_index).to(DEVICE)\n",
        "#     items_index = data.iloc[:, 0].values\n",
        "#     items = torch.LongTensor(items_index).to(DEVICE)\n",
        "    actors_id = data.iloc[:, 2]\n",
        "    directors_id = data.iloc[:, 3]\n",
        "    genres_id = data.iloc[:, 4]\n",
        "    rating = torch.FloatTensor(\n",
        "        data.iloc[:, 5].values).to(DEVICE)\n",
        "    rating = (rating + 1) * 2 + 1\n",
        "    prediction,scores,contribute_actors,contribute_directors,contribute_genres,cnm = model(users,actors_id, directors_id, genres_id)\n",
        "    prediction = (prediction + 1) * 2 + 1\n",
        "    rmse = loss_func(prediction, rating)\n",
        "    mae = torch.nn.L1Loss()(prediction, rating)\n",
        "\n",
        "    return rmse ** 0.5,mae, cnm"
      ]
    },
    {
      "cell_type": "code",
      "execution_count": 19,
      "metadata": {
        "id": "QICrYgbc7xx5"
      },
      "outputs": [],
      "source": [
        "def train(lr, dim, reg, batch_size, num_epochs, data, test):\n",
        "    model = aspect_augumentation(5128, 1154, 3, dim).to(DEVICE)\n",
        "    optimizer = torch.optim.Adam(params=model.parameters(), lr=lr)\n",
        "    scheduler = torch.optim.lr_scheduler.ReduceLROnPlateau(\n",
        "        optimizer, mode='min', factor=0.5, patience=5, threshold=0.005, threshold_mode='abs')\n",
        "    for epoch in range(num_epochs):\n",
        "        model.train()\n",
        "        t1 = time.time()\n",
        "        num_example = len(data)\n",
        "        indices = list(range(num_example))\n",
        "        for i in tqdm(range(0, num_example, batch_size)):\n",
        "            \n",
        "            indexs = indices[i:min(i+batch_size, num_example)]\n",
        "            users_index = data.iloc[:, 0].loc[indexs].values\n",
        "            users = torch.LongTensor(users_index).to(DEVICE)\n",
        "            items_index = data.iloc[:, 0].values\n",
        "            items = torch.LongTensor(items_index).to(DEVICE)\n",
        "            actors_id = data.iloc[:, 2].loc[indexs]\n",
        "            actors_id.index = range(len(actors_id))\n",
        "            directors_id = data.iloc[:, 3].loc[indexs]\n",
        "            directors_id.index = range(len(directors_id))\n",
        "            genres_id = data.iloc[:, 4].loc[indexs]\n",
        "            genres_id.index = range(len(genres_id))\n",
        "            rating = torch.FloatTensor(\n",
        "                data.iloc[:, 5].loc[indexs].values).to(DEVICE)\n",
        "            prediction, scores, contribute_actors, contribute_directors, contribute_genres,cnm = model(\n",
        "                users, actors_id, directors_id, genres_id)\n",
        "            #prediction = (prediction + 1) * 2 + 1\n",
        "            optimizer.zero_grad()\n",
        "            err = loss_func(prediction, rating) + reg * ((model.user_factors.weight*model.user_factors.weight).sum() +\n",
        "                                                         (model.entity_factors.weight*model.entity_factors.weight).sum() +\n",
        "                                                         (model.relation_k.weight*model.relation_k.weight).sum())\n",
        "\n",
        "            err.backward()\n",
        "            optimizer.step()\n",
        "        t2 = time.time()\n",
        "        rmse, mae, cnm = RMSE(test, model,batch_size,items)\n",
        "        scheduler.step(rmse)\n",
        "        print(\"Epoch: \", epoch, \" Loss: \", err, \" RMSE in test set:\",\n",
        "              rmse, \"MAE in test set: \", mae)\n",
        "        print(\"Time consumed is:\", t2-t1)\n",
        "    return rmse, mae, model, cnm"
      ]
    },
    {
      "cell_type": "code",
      "execution_count": 20,
      "metadata": {
        "id": "iAsAgOsH9Jdi"
      },
      "outputs": [],
      "source": [
        "hehe['user_rating'] = (hehe['user_rating'] - 1) / 2 - 1"
      ]
    },
    {
      "cell_type": "code",
      "execution_count": 21,
      "metadata": {
        "id": "5dZ6n-gQ7x0e"
      },
      "outputs": [],
      "source": [
        "\n",
        "trainset = hehe.sample(frac=0.8, random_state=0, axis=0)\n",
        "trainset.index = range(len(trainset))\n",
        "testset = hehe[~hehe.index.isin(trainset.index)]\n",
        "testset.index = range(len(testset))\n",
        "rate = 0.0"
      ]
    },
    {
      "cell_type": "code",
      "execution_count": 22,
      "metadata": {
        "id": "0IkkIPX37x3C"
      },
      "outputs": [],
      "source": [
        "def grid(lrs, dims, regs, batch_sizes, num_epochs, data, test):\n",
        "    res = []\n",
        "    models = []\n",
        "    qnm = []\n",
        "    for lr in lrs:\n",
        "        for dim in dims:\n",
        "            for reg in regs:\n",
        "                for batch_size in batch_sizes:\n",
        "                    rmse, mae, model,cnm = train(\n",
        "                        lr, dim, reg, batch_size, num_epochs, data, test)\n",
        "                    res.append(rmse)\n",
        "                    res.append(mae)\n",
        "                    models.append(model)\n",
        "                    qnm.append(cnm)\n",
        "    return res, models,qnm"
      ]
    },
    {
      "cell_type": "code",
      "execution_count": 23,
      "metadata": {
        "colab": {
          "base_uri": "https://localhost:8080/"
        },
        "id": "U2ZjUdyz7x5s",
        "outputId": "0773642f-3c59-45de-c555-3b17b4dd5479"
      },
      "outputs": [
        {
          "output_type": "stream",
          "name": "stderr",
          "text": [
            "100%|██████████| 302/302 [01:32<00:00,  3.25it/s]\n"
          ]
        },
        {
          "output_type": "stream",
          "name": "stdout",
          "text": [
            "Epoch:  0  Loss:  tensor(0.4309, grad_fn=<AddBackward0>)  RMSE in test set: tensor(1.2652, grad_fn=<PowBackward0>) MAE in test set:  tensor(1.0037, grad_fn=<L1LossBackward0>)\n",
            "Time consumed is: 93.01307988166809\n"
          ]
        },
        {
          "output_type": "stream",
          "name": "stderr",
          "text": [
            "100%|██████████| 302/302 [01:36<00:00,  3.11it/s]\n"
          ]
        },
        {
          "output_type": "stream",
          "name": "stdout",
          "text": [
            "Epoch:  1  Loss:  tensor(0.3070, grad_fn=<AddBackward0>)  RMSE in test set: tensor(1.0793, grad_fn=<PowBackward0>) MAE in test set:  tensor(0.8614, grad_fn=<L1LossBackward0>)\n",
            "Time consumed is: 97.01012086868286\n"
          ]
        },
        {
          "output_type": "stream",
          "name": "stderr",
          "text": [
            "100%|██████████| 302/302 [01:35<00:00,  3.16it/s]\n"
          ]
        },
        {
          "output_type": "stream",
          "name": "stdout",
          "text": [
            "Epoch:  2  Loss:  tensor(0.2691, grad_fn=<AddBackward0>)  RMSE in test set: tensor(1.0055, grad_fn=<PowBackward0>) MAE in test set:  tensor(0.7996, grad_fn=<L1LossBackward0>)\n",
            "Time consumed is: 95.65051031112671\n"
          ]
        },
        {
          "output_type": "stream",
          "name": "stderr",
          "text": [
            "100%|██████████| 302/302 [01:37<00:00,  3.09it/s]\n"
          ]
        },
        {
          "output_type": "stream",
          "name": "stdout",
          "text": [
            "Epoch:  3  Loss:  tensor(0.2474, grad_fn=<AddBackward0>)  RMSE in test set: tensor(0.9646, grad_fn=<PowBackward0>) MAE in test set:  tensor(0.7642, grad_fn=<L1LossBackward0>)\n",
            "Time consumed is: 97.71531462669373\n"
          ]
        },
        {
          "output_type": "stream",
          "name": "stderr",
          "text": [
            "100%|██████████| 302/302 [01:40<00:00,  3.01it/s]\n"
          ]
        },
        {
          "output_type": "stream",
          "name": "stdout",
          "text": [
            "Epoch:  4  Loss:  tensor(0.2354, grad_fn=<AddBackward0>)  RMSE in test set: tensor(0.9389, grad_fn=<PowBackward0>) MAE in test set:  tensor(0.7415, grad_fn=<L1LossBackward0>)\n",
            "Time consumed is: 100.28119277954102\n"
          ]
        },
        {
          "output_type": "stream",
          "name": "stderr",
          "text": [
            "100%|██████████| 302/302 [01:36<00:00,  3.12it/s]\n"
          ]
        },
        {
          "output_type": "stream",
          "name": "stdout",
          "text": [
            "Epoch:  5  Loss:  tensor(0.2266, grad_fn=<AddBackward0>)  RMSE in test set: tensor(0.9205, grad_fn=<PowBackward0>) MAE in test set:  tensor(0.7255, grad_fn=<L1LossBackward0>)\n",
            "Time consumed is: 96.8994209766388\n"
          ]
        },
        {
          "output_type": "stream",
          "name": "stderr",
          "text": [
            "100%|██████████| 302/302 [01:38<00:00,  3.07it/s]\n"
          ]
        },
        {
          "output_type": "stream",
          "name": "stdout",
          "text": [
            "Epoch:  6  Loss:  tensor(0.2184, grad_fn=<AddBackward0>)  RMSE in test set: tensor(0.9052, grad_fn=<PowBackward0>) MAE in test set:  tensor(0.7120, grad_fn=<L1LossBackward0>)\n",
            "Time consumed is: 98.344566822052\n"
          ]
        },
        {
          "output_type": "stream",
          "name": "stderr",
          "text": [
            "100%|██████████| 302/302 [01:37<00:00,  3.09it/s]\n"
          ]
        },
        {
          "output_type": "stream",
          "name": "stdout",
          "text": [
            "Epoch:  7  Loss:  tensor(0.2110, grad_fn=<AddBackward0>)  RMSE in test set: tensor(0.8918, grad_fn=<PowBackward0>) MAE in test set:  tensor(0.7001, grad_fn=<L1LossBackward0>)\n",
            "Time consumed is: 97.7338879108429\n"
          ]
        },
        {
          "output_type": "stream",
          "name": "stderr",
          "text": [
            "100%|██████████| 302/302 [01:39<00:00,  3.05it/s]\n"
          ]
        },
        {
          "output_type": "stream",
          "name": "stdout",
          "text": [
            "Epoch:  8  Loss:  tensor(0.2010, grad_fn=<AddBackward0>)  RMSE in test set: tensor(0.8798, grad_fn=<PowBackward0>) MAE in test set:  tensor(0.6892, grad_fn=<L1LossBackward0>)\n",
            "Time consumed is: 99.03611755371094\n"
          ]
        },
        {
          "output_type": "stream",
          "name": "stderr",
          "text": [
            "100%|██████████| 302/302 [01:36<00:00,  3.12it/s]\n"
          ]
        },
        {
          "output_type": "stream",
          "name": "stdout",
          "text": [
            "Epoch:  9  Loss:  tensor(0.1931, grad_fn=<AddBackward0>)  RMSE in test set: tensor(0.8697, grad_fn=<PowBackward0>) MAE in test set:  tensor(0.6796, grad_fn=<L1LossBackward0>)\n",
            "Time consumed is: 96.95470833778381\n"
          ]
        },
        {
          "output_type": "stream",
          "name": "stderr",
          "text": [
            "100%|██████████| 302/302 [01:39<00:00,  3.03it/s]\n"
          ]
        },
        {
          "output_type": "stream",
          "name": "stdout",
          "text": [
            "Epoch:  10  Loss:  tensor(0.1877, grad_fn=<AddBackward0>)  RMSE in test set: tensor(0.8606, grad_fn=<PowBackward0>) MAE in test set:  tensor(0.6710, grad_fn=<L1LossBackward0>)\n",
            "Time consumed is: 99.78519487380981\n"
          ]
        },
        {
          "output_type": "stream",
          "name": "stderr",
          "text": [
            "100%|██████████| 302/302 [01:40<00:00,  3.01it/s]\n"
          ]
        },
        {
          "output_type": "stream",
          "name": "stdout",
          "text": [
            "Epoch:  11  Loss:  tensor(0.1788, grad_fn=<AddBackward0>)  RMSE in test set: tensor(0.8525, grad_fn=<PowBackward0>) MAE in test set:  tensor(0.6633, grad_fn=<L1LossBackward0>)\n",
            "Time consumed is: 100.2308578491211\n"
          ]
        },
        {
          "output_type": "stream",
          "name": "stderr",
          "text": [
            "100%|██████████| 302/302 [01:40<00:00,  3.00it/s]\n"
          ]
        },
        {
          "output_type": "stream",
          "name": "stdout",
          "text": [
            "Epoch:  12  Loss:  tensor(0.1721, grad_fn=<AddBackward0>)  RMSE in test set: tensor(0.8455, grad_fn=<PowBackward0>) MAE in test set:  tensor(0.6566, grad_fn=<L1LossBackward0>)\n",
            "Time consumed is: 100.53334975242615\n"
          ]
        },
        {
          "output_type": "stream",
          "name": "stderr",
          "text": [
            "100%|██████████| 302/302 [01:41<00:00,  2.98it/s]\n"
          ]
        },
        {
          "output_type": "stream",
          "name": "stdout",
          "text": [
            "Epoch:  13  Loss:  tensor(0.1648, grad_fn=<AddBackward0>)  RMSE in test set: tensor(0.8392, grad_fn=<PowBackward0>) MAE in test set:  tensor(0.6504, grad_fn=<L1LossBackward0>)\n",
            "Time consumed is: 101.4190742969513\n"
          ]
        },
        {
          "output_type": "stream",
          "name": "stderr",
          "text": [
            "100%|██████████| 302/302 [01:39<00:00,  3.03it/s]\n"
          ]
        },
        {
          "output_type": "stream",
          "name": "stdout",
          "text": [
            "Epoch:  14  Loss:  tensor(0.1600, grad_fn=<AddBackward0>)  RMSE in test set: tensor(0.8336, grad_fn=<PowBackward0>) MAE in test set:  tensor(0.6447, grad_fn=<L1LossBackward0>)\n",
            "Time consumed is: 99.79467940330505\n"
          ]
        },
        {
          "output_type": "stream",
          "name": "stderr",
          "text": [
            "100%|██████████| 302/302 [01:40<00:00,  3.01it/s]\n"
          ]
        },
        {
          "output_type": "stream",
          "name": "stdout",
          "text": [
            "Epoch:  15  Loss:  tensor(0.1566, grad_fn=<AddBackward0>)  RMSE in test set: tensor(0.8284, grad_fn=<PowBackward0>) MAE in test set:  tensor(0.6396, grad_fn=<L1LossBackward0>)\n",
            "Time consumed is: 100.36964750289917\n"
          ]
        },
        {
          "output_type": "stream",
          "name": "stderr",
          "text": [
            "100%|██████████| 302/302 [01:40<00:00,  3.01it/s]\n"
          ]
        },
        {
          "output_type": "stream",
          "name": "stdout",
          "text": [
            "Epoch:  16  Loss:  tensor(0.1514, grad_fn=<AddBackward0>)  RMSE in test set: tensor(0.8237, grad_fn=<PowBackward0>) MAE in test set:  tensor(0.6350, grad_fn=<L1LossBackward0>)\n",
            "Time consumed is: 100.3152527809143\n"
          ]
        },
        {
          "output_type": "stream",
          "name": "stderr",
          "text": [
            "100%|██████████| 302/302 [01:39<00:00,  3.04it/s]\n"
          ]
        },
        {
          "output_type": "stream",
          "name": "stdout",
          "text": [
            "Epoch:  17  Loss:  tensor(0.1479, grad_fn=<AddBackward0>)  RMSE in test set: tensor(0.8194, grad_fn=<PowBackward0>) MAE in test set:  tensor(0.6309, grad_fn=<L1LossBackward0>)\n",
            "Time consumed is: 99.37623047828674\n"
          ]
        },
        {
          "output_type": "stream",
          "name": "stderr",
          "text": [
            "100%|██████████| 302/302 [01:38<00:00,  3.07it/s]\n"
          ]
        },
        {
          "output_type": "stream",
          "name": "stdout",
          "text": [
            "Epoch:  18  Loss:  tensor(0.1454, grad_fn=<AddBackward0>)  RMSE in test set: tensor(0.8154, grad_fn=<PowBackward0>) MAE in test set:  tensor(0.6271, grad_fn=<L1LossBackward0>)\n",
            "Time consumed is: 98.35535430908203\n"
          ]
        },
        {
          "output_type": "stream",
          "name": "stderr",
          "text": [
            "100%|██████████| 302/302 [01:37<00:00,  3.08it/s]\n"
          ]
        },
        {
          "output_type": "stream",
          "name": "stdout",
          "text": [
            "Epoch:  19  Loss:  tensor(0.1439, grad_fn=<AddBackward0>)  RMSE in test set: tensor(0.8120, grad_fn=<PowBackward0>) MAE in test set:  tensor(0.6238, grad_fn=<L1LossBackward0>)\n",
            "Time consumed is: 97.94350242614746\n"
          ]
        },
        {
          "output_type": "stream",
          "name": "stderr",
          "text": [
            "100%|██████████| 302/302 [01:38<00:00,  3.05it/s]\n"
          ]
        },
        {
          "output_type": "stream",
          "name": "stdout",
          "text": [
            "Epoch:  20  Loss:  tensor(0.1408, grad_fn=<AddBackward0>)  RMSE in test set: tensor(0.8084, grad_fn=<PowBackward0>) MAE in test set:  tensor(0.6207, grad_fn=<L1LossBackward0>)\n",
            "Time consumed is: 98.90346765518188\n"
          ]
        },
        {
          "output_type": "stream",
          "name": "stderr",
          "text": [
            "100%|██████████| 302/302 [01:44<00:00,  2.88it/s]\n"
          ]
        },
        {
          "output_type": "stream",
          "name": "stdout",
          "text": [
            "Epoch:  21  Loss:  tensor(0.1396, grad_fn=<AddBackward0>)  RMSE in test set: tensor(0.8056, grad_fn=<PowBackward0>) MAE in test set:  tensor(0.6179, grad_fn=<L1LossBackward0>)\n",
            "Time consumed is: 104.87434554100037\n"
          ]
        },
        {
          "output_type": "stream",
          "name": "stderr",
          "text": [
            "100%|██████████| 302/302 [01:39<00:00,  3.03it/s]\n"
          ]
        },
        {
          "output_type": "stream",
          "name": "stdout",
          "text": [
            "Epoch:  22  Loss:  tensor(0.1374, grad_fn=<AddBackward0>)  RMSE in test set: tensor(0.8029, grad_fn=<PowBackward0>) MAE in test set:  tensor(0.6152, grad_fn=<L1LossBackward0>)\n",
            "Time consumed is: 99.78041386604309\n"
          ]
        },
        {
          "output_type": "stream",
          "name": "stderr",
          "text": [
            "100%|██████████| 302/302 [01:38<00:00,  3.05it/s]\n"
          ]
        },
        {
          "output_type": "stream",
          "name": "stdout",
          "text": [
            "Epoch:  23  Loss:  tensor(0.1356, grad_fn=<AddBackward0>)  RMSE in test set: tensor(0.8007, grad_fn=<PowBackward0>) MAE in test set:  tensor(0.6128, grad_fn=<L1LossBackward0>)\n",
            "Time consumed is: 98.95236897468567\n"
          ]
        },
        {
          "output_type": "stream",
          "name": "stderr",
          "text": [
            "100%|██████████| 302/302 [01:39<00:00,  3.03it/s]\n"
          ]
        },
        {
          "output_type": "stream",
          "name": "stdout",
          "text": [
            "Epoch:  24  Loss:  tensor(0.1342, grad_fn=<AddBackward0>)  RMSE in test set: tensor(0.7984, grad_fn=<PowBackward0>) MAE in test set:  tensor(0.6105, grad_fn=<L1LossBackward0>)\n",
            "Time consumed is: 99.80102109909058\n"
          ]
        },
        {
          "output_type": "stream",
          "name": "stderr",
          "text": [
            "100%|██████████| 302/302 [01:40<00:00,  3.01it/s]\n"
          ]
        },
        {
          "output_type": "stream",
          "name": "stdout",
          "text": [
            "Epoch:  25  Loss:  tensor(0.1332, grad_fn=<AddBackward0>)  RMSE in test set: tensor(0.7968, grad_fn=<PowBackward0>) MAE in test set:  tensor(0.6088, grad_fn=<L1LossBackward0>)\n",
            "Time consumed is: 100.3443512916565\n"
          ]
        },
        {
          "output_type": "stream",
          "name": "stderr",
          "text": [
            "100%|██████████| 302/302 [01:39<00:00,  3.03it/s]\n"
          ]
        },
        {
          "output_type": "stream",
          "name": "stdout",
          "text": [
            "Epoch:  26  Loss:  tensor(0.1318, grad_fn=<AddBackward0>)  RMSE in test set: tensor(0.7950, grad_fn=<PowBackward0>) MAE in test set:  tensor(0.6070, grad_fn=<L1LossBackward0>)\n",
            "Time consumed is: 99.57459926605225\n"
          ]
        },
        {
          "output_type": "stream",
          "name": "stderr",
          "text": [
            "100%|██████████| 302/302 [01:40<00:00,  3.01it/s]\n"
          ]
        },
        {
          "output_type": "stream",
          "name": "stdout",
          "text": [
            "Epoch:  27  Loss:  tensor(0.1314, grad_fn=<AddBackward0>)  RMSE in test set: tensor(0.7938, grad_fn=<PowBackward0>) MAE in test set:  tensor(0.6056, grad_fn=<L1LossBackward0>)\n",
            "Time consumed is: 100.49044585227966\n"
          ]
        },
        {
          "output_type": "stream",
          "name": "stderr",
          "text": [
            "100%|██████████| 302/302 [01:39<00:00,  3.03it/s]\n"
          ]
        },
        {
          "output_type": "stream",
          "name": "stdout",
          "text": [
            "Epoch:  28  Loss:  tensor(0.1306, grad_fn=<AddBackward0>)  RMSE in test set: tensor(0.7924, grad_fn=<PowBackward0>) MAE in test set:  tensor(0.6043, grad_fn=<L1LossBackward0>)\n",
            "Time consumed is: 99.57606935501099\n"
          ]
        },
        {
          "output_type": "stream",
          "name": "stderr",
          "text": [
            "100%|██████████| 302/302 [01:40<00:00,  3.01it/s]\n"
          ]
        },
        {
          "output_type": "stream",
          "name": "stdout",
          "text": [
            "Epoch:  29  Loss:  tensor(0.1296, grad_fn=<AddBackward0>)  RMSE in test set: tensor(0.7913, grad_fn=<PowBackward0>) MAE in test set:  tensor(0.6030, grad_fn=<L1LossBackward0>)\n",
            "Time consumed is: 100.18286681175232\n"
          ]
        },
        {
          "output_type": "stream",
          "name": "stderr",
          "text": [
            "100%|██████████| 302/302 [01:38<00:00,  3.06it/s]\n"
          ]
        },
        {
          "output_type": "stream",
          "name": "stdout",
          "text": [
            "Epoch:  30  Loss:  tensor(0.1298, grad_fn=<AddBackward0>)  RMSE in test set: tensor(0.7907, grad_fn=<PowBackward0>) MAE in test set:  tensor(0.6019, grad_fn=<L1LossBackward0>)\n",
            "Time consumed is: 98.70299792289734\n"
          ]
        },
        {
          "output_type": "stream",
          "name": "stderr",
          "text": [
            "100%|██████████| 302/302 [01:40<00:00,  3.02it/s]\n"
          ]
        },
        {
          "output_type": "stream",
          "name": "stdout",
          "text": [
            "Epoch:  31  Loss:  tensor(0.1287, grad_fn=<AddBackward0>)  RMSE in test set: tensor(0.7895, grad_fn=<PowBackward0>) MAE in test set:  tensor(0.6006, grad_fn=<L1LossBackward0>)\n",
            "Time consumed is: 100.11902165412903\n"
          ]
        },
        {
          "output_type": "stream",
          "name": "stderr",
          "text": [
            "100%|██████████| 302/302 [01:40<00:00,  3.02it/s]\n"
          ]
        },
        {
          "output_type": "stream",
          "name": "stdout",
          "text": [
            "Epoch:  32  Loss:  tensor(0.1286, grad_fn=<AddBackward0>)  RMSE in test set: tensor(0.7885, grad_fn=<PowBackward0>) MAE in test set:  tensor(0.5995, grad_fn=<L1LossBackward0>)\n",
            "Time consumed is: 100.12824201583862\n"
          ]
        },
        {
          "output_type": "stream",
          "name": "stderr",
          "text": [
            "100%|██████████| 302/302 [01:36<00:00,  3.12it/s]\n"
          ]
        },
        {
          "output_type": "stream",
          "name": "stdout",
          "text": [
            "Epoch:  33  Loss:  tensor(0.1283, grad_fn=<AddBackward0>)  RMSE in test set: tensor(0.7873, grad_fn=<PowBackward0>) MAE in test set:  tensor(0.5982, grad_fn=<L1LossBackward0>)\n",
            "Time consumed is: 96.90084505081177\n"
          ]
        },
        {
          "output_type": "stream",
          "name": "stderr",
          "text": [
            "100%|██████████| 302/302 [01:39<00:00,  3.05it/s]\n"
          ]
        },
        {
          "output_type": "stream",
          "name": "stdout",
          "text": [
            "Epoch:  34  Loss:  tensor(0.1282, grad_fn=<AddBackward0>)  RMSE in test set: tensor(0.7864, grad_fn=<PowBackward0>) MAE in test set:  tensor(0.5973, grad_fn=<L1LossBackward0>)\n",
            "Time consumed is: 99.11878108978271\n"
          ]
        },
        {
          "output_type": "stream",
          "name": "stderr",
          "text": [
            "100%|██████████| 302/302 [01:39<00:00,  3.05it/s]\n"
          ]
        },
        {
          "output_type": "stream",
          "name": "stdout",
          "text": [
            "Epoch:  35  Loss:  tensor(0.1278, grad_fn=<AddBackward0>)  RMSE in test set: tensor(0.7856, grad_fn=<PowBackward0>) MAE in test set:  tensor(0.5962, grad_fn=<L1LossBackward0>)\n",
            "Time consumed is: 99.10190200805664\n"
          ]
        },
        {
          "output_type": "stream",
          "name": "stderr",
          "text": [
            "100%|██████████| 302/302 [01:47<00:00,  2.80it/s]\n"
          ]
        },
        {
          "output_type": "stream",
          "name": "stdout",
          "text": [
            "Epoch:  36  Loss:  tensor(0.1277, grad_fn=<AddBackward0>)  RMSE in test set: tensor(0.7849, grad_fn=<PowBackward0>) MAE in test set:  tensor(0.5954, grad_fn=<L1LossBackward0>)\n",
            "Time consumed is: 107.85960674285889\n"
          ]
        },
        {
          "output_type": "stream",
          "name": "stderr",
          "text": [
            "100%|██████████| 302/302 [01:40<00:00,  3.01it/s]\n"
          ]
        },
        {
          "output_type": "stream",
          "name": "stdout",
          "text": [
            "Epoch:  37  Loss:  tensor(0.1274, grad_fn=<AddBackward0>)  RMSE in test set: tensor(0.7839, grad_fn=<PowBackward0>) MAE in test set:  tensor(0.5943, grad_fn=<L1LossBackward0>)\n",
            "Time consumed is: 100.19218826293945\n"
          ]
        },
        {
          "output_type": "stream",
          "name": "stderr",
          "text": [
            "100%|██████████| 302/302 [01:40<00:00,  3.02it/s]\n"
          ]
        },
        {
          "output_type": "stream",
          "name": "stdout",
          "text": [
            "Epoch:  38  Loss:  tensor(0.1268, grad_fn=<AddBackward0>)  RMSE in test set: tensor(0.7835, grad_fn=<PowBackward0>) MAE in test set:  tensor(0.5938, grad_fn=<L1LossBackward0>)\n",
            "Time consumed is: 100.17797613143921\n"
          ]
        },
        {
          "output_type": "stream",
          "name": "stderr",
          "text": [
            "100%|██████████| 302/302 [01:40<00:00,  3.00it/s]\n"
          ]
        },
        {
          "output_type": "stream",
          "name": "stdout",
          "text": [
            "Epoch:  39  Loss:  tensor(0.1264, grad_fn=<AddBackward0>)  RMSE in test set: tensor(0.7831, grad_fn=<PowBackward0>) MAE in test set:  tensor(0.5931, grad_fn=<L1LossBackward0>)\n",
            "Time consumed is: 100.84711146354675\n"
          ]
        },
        {
          "output_type": "stream",
          "name": "stderr",
          "text": [
            "100%|██████████| 302/302 [01:40<00:00,  3.00it/s]\n"
          ]
        },
        {
          "output_type": "stream",
          "name": "stdout",
          "text": [
            "Epoch:  40  Loss:  tensor(0.1171, grad_fn=<AddBackward0>)  RMSE in test set: tensor(0.7766, grad_fn=<PowBackward0>) MAE in test set:  tensor(0.5852, grad_fn=<L1LossBackward0>)\n",
            "Time consumed is: 100.70455193519592\n"
          ]
        },
        {
          "output_type": "stream",
          "name": "stderr",
          "text": [
            "100%|██████████| 302/302 [01:42<00:00,  2.95it/s]\n"
          ]
        },
        {
          "output_type": "stream",
          "name": "stdout",
          "text": [
            "Epoch:  41  Loss:  tensor(0.1154, grad_fn=<AddBackward0>)  RMSE in test set: tensor(0.7750, grad_fn=<PowBackward0>) MAE in test set:  tensor(0.5835, grad_fn=<L1LossBackward0>)\n",
            "Time consumed is: 102.39303994178772\n"
          ]
        },
        {
          "output_type": "stream",
          "name": "stderr",
          "text": [
            "100%|██████████| 302/302 [01:41<00:00,  2.98it/s]\n"
          ]
        },
        {
          "output_type": "stream",
          "name": "stdout",
          "text": [
            "Epoch:  42  Loss:  tensor(0.1146, grad_fn=<AddBackward0>)  RMSE in test set: tensor(0.7742, grad_fn=<PowBackward0>) MAE in test set:  tensor(0.5826, grad_fn=<L1LossBackward0>)\n",
            "Time consumed is: 101.29661560058594\n"
          ]
        },
        {
          "output_type": "stream",
          "name": "stderr",
          "text": [
            "100%|██████████| 302/302 [01:42<00:00,  2.95it/s]\n"
          ]
        },
        {
          "output_type": "stream",
          "name": "stdout",
          "text": [
            "Epoch:  43  Loss:  tensor(0.1140, grad_fn=<AddBackward0>)  RMSE in test set: tensor(0.7735, grad_fn=<PowBackward0>) MAE in test set:  tensor(0.5820, grad_fn=<L1LossBackward0>)\n",
            "Time consumed is: 102.34207487106323\n"
          ]
        },
        {
          "output_type": "stream",
          "name": "stderr",
          "text": [
            "100%|██████████| 302/302 [01:39<00:00,  3.04it/s]\n"
          ]
        },
        {
          "output_type": "stream",
          "name": "stdout",
          "text": [
            "Epoch:  44  Loss:  tensor(0.1136, grad_fn=<AddBackward0>)  RMSE in test set: tensor(0.7731, grad_fn=<PowBackward0>) MAE in test set:  tensor(0.5814, grad_fn=<L1LossBackward0>)\n",
            "Time consumed is: 99.44388365745544\n"
          ]
        },
        {
          "output_type": "stream",
          "name": "stderr",
          "text": [
            "100%|██████████| 302/302 [01:40<00:00,  3.02it/s]\n"
          ]
        },
        {
          "output_type": "stream",
          "name": "stdout",
          "text": [
            "Epoch:  45  Loss:  tensor(0.1136, grad_fn=<AddBackward0>)  RMSE in test set: tensor(0.7728, grad_fn=<PowBackward0>) MAE in test set:  tensor(0.5809, grad_fn=<L1LossBackward0>)\n",
            "Time consumed is: 100.02516150474548\n"
          ]
        },
        {
          "output_type": "stream",
          "name": "stderr",
          "text": [
            "100%|██████████| 302/302 [01:39<00:00,  3.03it/s]\n"
          ]
        },
        {
          "output_type": "stream",
          "name": "stdout",
          "text": [
            "Epoch:  46  Loss:  tensor(0.1128, grad_fn=<AddBackward0>)  RMSE in test set: tensor(0.7724, grad_fn=<PowBackward0>) MAE in test set:  tensor(0.5805, grad_fn=<L1LossBackward0>)\n",
            "Time consumed is: 99.66987609863281\n"
          ]
        },
        {
          "output_type": "stream",
          "name": "stderr",
          "text": [
            "100%|██████████| 302/302 [01:42<00:00,  2.96it/s]\n"
          ]
        },
        {
          "output_type": "stream",
          "name": "stdout",
          "text": [
            "Epoch:  47  Loss:  tensor(0.1099, grad_fn=<AddBackward0>)  RMSE in test set: tensor(0.7709, grad_fn=<PowBackward0>) MAE in test set:  tensor(0.5782, grad_fn=<L1LossBackward0>)\n",
            "Time consumed is: 102.11282587051392\n"
          ]
        },
        {
          "output_type": "stream",
          "name": "stderr",
          "text": [
            "100%|██████████| 302/302 [01:38<00:00,  3.07it/s]\n"
          ]
        },
        {
          "output_type": "stream",
          "name": "stdout",
          "text": [
            "Epoch:  48  Loss:  tensor(0.1088, grad_fn=<AddBackward0>)  RMSE in test set: tensor(0.7702, grad_fn=<PowBackward0>) MAE in test set:  tensor(0.5775, grad_fn=<L1LossBackward0>)\n",
            "Time consumed is: 98.33930277824402\n"
          ]
        },
        {
          "output_type": "stream",
          "name": "stderr",
          "text": [
            "100%|██████████| 302/302 [01:39<00:00,  3.03it/s]\n"
          ]
        },
        {
          "output_type": "stream",
          "name": "stdout",
          "text": [
            "Epoch:  49  Loss:  tensor(0.1080, grad_fn=<AddBackward0>)  RMSE in test set: tensor(0.7697, grad_fn=<PowBackward0>) MAE in test set:  tensor(0.5770, grad_fn=<L1LossBackward0>)\n",
            "Time consumed is: 99.81387519836426\n"
          ]
        },
        {
          "output_type": "stream",
          "name": "stderr",
          "text": [
            "100%|██████████| 302/302 [01:40<00:00,  3.00it/s]\n"
          ]
        },
        {
          "output_type": "stream",
          "name": "stdout",
          "text": [
            "Epoch:  50  Loss:  tensor(0.1076, grad_fn=<AddBackward0>)  RMSE in test set: tensor(0.7694, grad_fn=<PowBackward0>) MAE in test set:  tensor(0.5766, grad_fn=<L1LossBackward0>)\n",
            "Time consumed is: 100.84882497787476\n"
          ]
        },
        {
          "output_type": "stream",
          "name": "stderr",
          "text": [
            "100%|██████████| 302/302 [01:38<00:00,  3.06it/s]\n"
          ]
        },
        {
          "output_type": "stream",
          "name": "stdout",
          "text": [
            "Epoch:  51  Loss:  tensor(0.1072, grad_fn=<AddBackward0>)  RMSE in test set: tensor(0.7691, grad_fn=<PowBackward0>) MAE in test set:  tensor(0.5763, grad_fn=<L1LossBackward0>)\n",
            "Time consumed is: 98.762216091156\n"
          ]
        },
        {
          "output_type": "stream",
          "name": "stderr",
          "text": [
            "100%|██████████| 302/302 [01:36<00:00,  3.12it/s]\n"
          ]
        },
        {
          "output_type": "stream",
          "name": "stdout",
          "text": [
            "Epoch:  52  Loss:  tensor(0.1068, grad_fn=<AddBackward0>)  RMSE in test set: tensor(0.7688, grad_fn=<PowBackward0>) MAE in test set:  tensor(0.5761, grad_fn=<L1LossBackward0>)\n",
            "Time consumed is: 96.91433453559875\n"
          ]
        },
        {
          "output_type": "stream",
          "name": "stderr",
          "text": [
            "100%|██████████| 302/302 [01:55<00:00,  2.61it/s]\n"
          ]
        },
        {
          "output_type": "stream",
          "name": "stdout",
          "text": [
            "Epoch:  53  Loss:  tensor(0.1065, grad_fn=<AddBackward0>)  RMSE in test set: tensor(0.7685, grad_fn=<PowBackward0>) MAE in test set:  tensor(0.5757, grad_fn=<L1LossBackward0>)\n",
            "Time consumed is: 115.8699209690094\n"
          ]
        },
        {
          "output_type": "stream",
          "name": "stderr",
          "text": [
            "100%|██████████| 302/302 [01:43<00:00,  2.92it/s]\n"
          ]
        },
        {
          "output_type": "stream",
          "name": "stdout",
          "text": [
            "Epoch:  54  Loss:  tensor(0.1055, grad_fn=<AddBackward0>)  RMSE in test set: tensor(0.7677, grad_fn=<PowBackward0>) MAE in test set:  tensor(0.5749, grad_fn=<L1LossBackward0>)\n",
            "Time consumed is: 103.46740412712097\n"
          ]
        },
        {
          "output_type": "stream",
          "name": "stderr",
          "text": [
            "100%|██████████| 302/302 [01:40<00:00,  3.02it/s]\n"
          ]
        },
        {
          "output_type": "stream",
          "name": "stdout",
          "text": [
            "Epoch:  55  Loss:  tensor(0.1048, grad_fn=<AddBackward0>)  RMSE in test set: tensor(0.7674, grad_fn=<PowBackward0>) MAE in test set:  tensor(0.5746, grad_fn=<L1LossBackward0>)\n",
            "Time consumed is: 100.12786674499512\n"
          ]
        },
        {
          "output_type": "stream",
          "name": "stderr",
          "text": [
            "100%|██████████| 302/302 [01:38<00:00,  3.07it/s]\n"
          ]
        },
        {
          "output_type": "stream",
          "name": "stdout",
          "text": [
            "Epoch:  56  Loss:  tensor(0.1044, grad_fn=<AddBackward0>)  RMSE in test set: tensor(0.7672, grad_fn=<PowBackward0>) MAE in test set:  tensor(0.5743, grad_fn=<L1LossBackward0>)\n",
            "Time consumed is: 98.32678699493408\n"
          ]
        },
        {
          "output_type": "stream",
          "name": "stderr",
          "text": [
            "100%|██████████| 302/302 [01:40<00:00,  3.00it/s]\n"
          ]
        },
        {
          "output_type": "stream",
          "name": "stdout",
          "text": [
            "Epoch:  57  Loss:  tensor(0.1040, grad_fn=<AddBackward0>)  RMSE in test set: tensor(0.7670, grad_fn=<PowBackward0>) MAE in test set:  tensor(0.5742, grad_fn=<L1LossBackward0>)\n",
            "Time consumed is: 100.57178163528442\n"
          ]
        },
        {
          "output_type": "stream",
          "name": "stderr",
          "text": [
            "100%|██████████| 302/302 [01:41<00:00,  2.96it/s]\n"
          ]
        },
        {
          "output_type": "stream",
          "name": "stdout",
          "text": [
            "Epoch:  58  Loss:  tensor(0.1038, grad_fn=<AddBackward0>)  RMSE in test set: tensor(0.7669, grad_fn=<PowBackward0>) MAE in test set:  tensor(0.5740, grad_fn=<L1LossBackward0>)\n",
            "Time consumed is: 101.9014539718628\n"
          ]
        },
        {
          "output_type": "stream",
          "name": "stderr",
          "text": [
            "100%|██████████| 302/302 [01:39<00:00,  3.05it/s]\n"
          ]
        },
        {
          "output_type": "stream",
          "name": "stdout",
          "text": [
            "Epoch:  59  Loss:  tensor(0.1035, grad_fn=<AddBackward0>)  RMSE in test set: tensor(0.7667, grad_fn=<PowBackward0>) MAE in test set:  tensor(0.5738, grad_fn=<L1LossBackward0>)\n",
            "Time consumed is: 99.17880272865295\n"
          ]
        },
        {
          "output_type": "stream",
          "name": "stderr",
          "text": [
            "100%|██████████| 302/302 [01:38<00:00,  3.07it/s]\n"
          ]
        },
        {
          "output_type": "stream",
          "name": "stdout",
          "text": [
            "Epoch:  60  Loss:  tensor(0.1031, grad_fn=<AddBackward0>)  RMSE in test set: tensor(0.7662, grad_fn=<PowBackward0>) MAE in test set:  tensor(0.5734, grad_fn=<L1LossBackward0>)\n",
            "Time consumed is: 98.28386974334717\n"
          ]
        },
        {
          "output_type": "stream",
          "name": "stderr",
          "text": [
            "100%|██████████| 302/302 [01:42<00:00,  2.95it/s]\n"
          ]
        },
        {
          "output_type": "stream",
          "name": "stdout",
          "text": [
            "Epoch:  61  Loss:  tensor(0.1029, grad_fn=<AddBackward0>)  RMSE in test set: tensor(0.7660, grad_fn=<PowBackward0>) MAE in test set:  tensor(0.5733, grad_fn=<L1LossBackward0>)\n",
            "Time consumed is: 102.24553513526917\n"
          ]
        },
        {
          "output_type": "stream",
          "name": "stderr",
          "text": [
            "100%|██████████| 302/302 [01:40<00:00,  2.99it/s]\n"
          ]
        },
        {
          "output_type": "stream",
          "name": "stdout",
          "text": [
            "Epoch:  62  Loss:  tensor(0.1026, grad_fn=<AddBackward0>)  RMSE in test set: tensor(0.7660, grad_fn=<PowBackward0>) MAE in test set:  tensor(0.5732, grad_fn=<L1LossBackward0>)\n",
            "Time consumed is: 100.86773419380188\n"
          ]
        },
        {
          "output_type": "stream",
          "name": "stderr",
          "text": [
            "100%|██████████| 302/302 [01:38<00:00,  3.07it/s]\n"
          ]
        },
        {
          "output_type": "stream",
          "name": "stdout",
          "text": [
            "Epoch:  63  Loss:  tensor(0.1024, grad_fn=<AddBackward0>)  RMSE in test set: tensor(0.7659, grad_fn=<PowBackward0>) MAE in test set:  tensor(0.5731, grad_fn=<L1LossBackward0>)\n",
            "Time consumed is: 98.275066614151\n"
          ]
        },
        {
          "output_type": "stream",
          "name": "stderr",
          "text": [
            "100%|██████████| 302/302 [01:38<00:00,  3.06it/s]\n"
          ]
        },
        {
          "output_type": "stream",
          "name": "stdout",
          "text": [
            "Epoch:  64  Loss:  tensor(0.1022, grad_fn=<AddBackward0>)  RMSE in test set: tensor(0.7659, grad_fn=<PowBackward0>) MAE in test set:  tensor(0.5730, grad_fn=<L1LossBackward0>)\n",
            "Time consumed is: 98.80889678001404\n"
          ]
        },
        {
          "output_type": "stream",
          "name": "stderr",
          "text": [
            "100%|██████████| 302/302 [01:39<00:00,  3.03it/s]\n"
          ]
        },
        {
          "output_type": "stream",
          "name": "stdout",
          "text": [
            "Epoch:  65  Loss:  tensor(0.1021, grad_fn=<AddBackward0>)  RMSE in test set: tensor(0.7658, grad_fn=<PowBackward0>) MAE in test set:  tensor(0.5729, grad_fn=<L1LossBackward0>)\n",
            "Time consumed is: 99.60769867897034\n"
          ]
        },
        {
          "output_type": "stream",
          "name": "stderr",
          "text": [
            "100%|██████████| 302/302 [01:40<00:00,  3.01it/s]\n"
          ]
        },
        {
          "output_type": "stream",
          "name": "stdout",
          "text": [
            "Epoch:  66  Loss:  tensor(0.1019, grad_fn=<AddBackward0>)  RMSE in test set: tensor(0.7658, grad_fn=<PowBackward0>) MAE in test set:  tensor(0.5729, grad_fn=<L1LossBackward0>)\n",
            "Time consumed is: 100.26186728477478\n"
          ]
        },
        {
          "output_type": "stream",
          "name": "stderr",
          "text": [
            "100%|██████████| 302/302 [01:38<00:00,  3.07it/s]\n"
          ]
        },
        {
          "output_type": "stream",
          "name": "stdout",
          "text": [
            "Epoch:  67  Loss:  tensor(0.1018, grad_fn=<AddBackward0>)  RMSE in test set: tensor(0.7658, grad_fn=<PowBackward0>) MAE in test set:  tensor(0.5728, grad_fn=<L1LossBackward0>)\n",
            "Time consumed is: 98.4596540927887\n"
          ]
        },
        {
          "output_type": "stream",
          "name": "stderr",
          "text": [
            "100%|██████████| 302/302 [01:38<00:00,  3.06it/s]\n"
          ]
        },
        {
          "output_type": "stream",
          "name": "stdout",
          "text": [
            "Epoch:  68  Loss:  tensor(0.1017, grad_fn=<AddBackward0>)  RMSE in test set: tensor(0.7657, grad_fn=<PowBackward0>) MAE in test set:  tensor(0.5728, grad_fn=<L1LossBackward0>)\n",
            "Time consumed is: 98.72101473808289\n"
          ]
        },
        {
          "output_type": "stream",
          "name": "stderr",
          "text": [
            "100%|██████████| 302/302 [01:38<00:00,  3.07it/s]\n"
          ]
        },
        {
          "output_type": "stream",
          "name": "stdout",
          "text": [
            "Epoch:  69  Loss:  tensor(0.1016, grad_fn=<AddBackward0>)  RMSE in test set: tensor(0.7657, grad_fn=<PowBackward0>) MAE in test set:  tensor(0.5727, grad_fn=<L1LossBackward0>)\n",
            "Time consumed is: 98.54817938804626\n"
          ]
        },
        {
          "output_type": "stream",
          "name": "stderr",
          "text": [
            "100%|██████████| 302/302 [01:38<00:00,  3.07it/s]\n"
          ]
        },
        {
          "output_type": "stream",
          "name": "stdout",
          "text": [
            "Epoch:  70  Loss:  tensor(0.1014, grad_fn=<AddBackward0>)  RMSE in test set: tensor(0.7655, grad_fn=<PowBackward0>) MAE in test set:  tensor(0.5725, grad_fn=<L1LossBackward0>)\n",
            "Time consumed is: 98.42822098731995\n"
          ]
        },
        {
          "output_type": "stream",
          "name": "stderr",
          "text": [
            "100%|██████████| 302/302 [01:40<00:00,  3.02it/s]\n"
          ]
        },
        {
          "output_type": "stream",
          "name": "stdout",
          "text": [
            "Epoch:  71  Loss:  tensor(0.1013, grad_fn=<AddBackward0>)  RMSE in test set: tensor(0.7654, grad_fn=<PowBackward0>) MAE in test set:  tensor(0.5725, grad_fn=<L1LossBackward0>)\n",
            "Time consumed is: 100.04018521308899\n"
          ]
        },
        {
          "output_type": "stream",
          "name": "stderr",
          "text": [
            "100%|██████████| 302/302 [01:41<00:00,  2.97it/s]\n"
          ]
        },
        {
          "output_type": "stream",
          "name": "stdout",
          "text": [
            "Epoch:  72  Loss:  tensor(0.1012, grad_fn=<AddBackward0>)  RMSE in test set: tensor(0.7654, grad_fn=<PowBackward0>) MAE in test set:  tensor(0.5724, grad_fn=<L1LossBackward0>)\n",
            "Time consumed is: 101.84288334846497\n"
          ]
        },
        {
          "output_type": "stream",
          "name": "stderr",
          "text": [
            "100%|██████████| 302/302 [01:39<00:00,  3.05it/s]\n"
          ]
        },
        {
          "output_type": "stream",
          "name": "stdout",
          "text": [
            "Epoch:  73  Loss:  tensor(0.1011, grad_fn=<AddBackward0>)  RMSE in test set: tensor(0.7654, grad_fn=<PowBackward0>) MAE in test set:  tensor(0.5724, grad_fn=<L1LossBackward0>)\n",
            "Time consumed is: 99.08991932868958\n"
          ]
        },
        {
          "output_type": "stream",
          "name": "stderr",
          "text": [
            "100%|██████████| 302/302 [01:37<00:00,  3.10it/s]\n"
          ]
        },
        {
          "output_type": "stream",
          "name": "stdout",
          "text": [
            "Epoch:  74  Loss:  tensor(0.1010, grad_fn=<AddBackward0>)  RMSE in test set: tensor(0.7654, grad_fn=<PowBackward0>) MAE in test set:  tensor(0.5724, grad_fn=<L1LossBackward0>)\n",
            "Time consumed is: 97.59444046020508\n"
          ]
        },
        {
          "output_type": "stream",
          "name": "stderr",
          "text": [
            "100%|██████████| 302/302 [01:39<00:00,  3.02it/s]\n"
          ]
        },
        {
          "output_type": "stream",
          "name": "stdout",
          "text": [
            "Epoch:  75  Loss:  tensor(0.1009, grad_fn=<AddBackward0>)  RMSE in test set: tensor(0.7654, grad_fn=<PowBackward0>) MAE in test set:  tensor(0.5723, grad_fn=<L1LossBackward0>)\n",
            "Time consumed is: 99.99058413505554\n"
          ]
        },
        {
          "output_type": "stream",
          "name": "stderr",
          "text": [
            "100%|██████████| 302/302 [01:42<00:00,  2.96it/s]\n"
          ]
        },
        {
          "output_type": "stream",
          "name": "stdout",
          "text": [
            "Epoch:  76  Loss:  tensor(0.1008, grad_fn=<AddBackward0>)  RMSE in test set: tensor(0.7653, grad_fn=<PowBackward0>) MAE in test set:  tensor(0.5723, grad_fn=<L1LossBackward0>)\n",
            "Time consumed is: 102.19602751731873\n"
          ]
        },
        {
          "output_type": "stream",
          "name": "stderr",
          "text": [
            "100%|██████████| 302/302 [01:40<00:00,  3.02it/s]\n"
          ]
        },
        {
          "output_type": "stream",
          "name": "stdout",
          "text": [
            "Epoch:  77  Loss:  tensor(0.1008, grad_fn=<AddBackward0>)  RMSE in test set: tensor(0.7653, grad_fn=<PowBackward0>) MAE in test set:  tensor(0.5722, grad_fn=<L1LossBackward0>)\n",
            "Time consumed is: 100.17105770111084\n"
          ]
        },
        {
          "output_type": "stream",
          "name": "stderr",
          "text": [
            "100%|██████████| 302/302 [01:39<00:00,  3.03it/s]\n"
          ]
        },
        {
          "output_type": "stream",
          "name": "stdout",
          "text": [
            "Epoch:  78  Loss:  tensor(0.1007, grad_fn=<AddBackward0>)  RMSE in test set: tensor(0.7653, grad_fn=<PowBackward0>) MAE in test set:  tensor(0.5722, grad_fn=<L1LossBackward0>)\n",
            "Time consumed is: 99.65358209609985\n"
          ]
        },
        {
          "output_type": "stream",
          "name": "stderr",
          "text": [
            "100%|██████████| 302/302 [01:37<00:00,  3.11it/s]\n"
          ]
        },
        {
          "output_type": "stream",
          "name": "stdout",
          "text": [
            "Epoch:  79  Loss:  tensor(0.1007, grad_fn=<AddBackward0>)  RMSE in test set: tensor(0.7653, grad_fn=<PowBackward0>) MAE in test set:  tensor(0.5722, grad_fn=<L1LossBackward0>)\n",
            "Time consumed is: 97.06085300445557\n"
          ]
        },
        {
          "output_type": "stream",
          "name": "stderr",
          "text": [
            "100%|██████████| 302/302 [01:39<00:00,  3.03it/s]\n"
          ]
        },
        {
          "output_type": "stream",
          "name": "stdout",
          "text": [
            "Epoch:  80  Loss:  tensor(0.1006, grad_fn=<AddBackward0>)  RMSE in test set: tensor(0.7652, grad_fn=<PowBackward0>) MAE in test set:  tensor(0.5722, grad_fn=<L1LossBackward0>)\n",
            "Time consumed is: 99.74656987190247\n"
          ]
        },
        {
          "output_type": "stream",
          "name": "stderr",
          "text": [
            "100%|██████████| 302/302 [01:38<00:00,  3.06it/s]\n"
          ]
        },
        {
          "output_type": "stream",
          "name": "stdout",
          "text": [
            "Epoch:  81  Loss:  tensor(0.1006, grad_fn=<AddBackward0>)  RMSE in test set: tensor(0.7652, grad_fn=<PowBackward0>) MAE in test set:  tensor(0.5722, grad_fn=<L1LossBackward0>)\n",
            "Time consumed is: 98.77566027641296\n"
          ]
        },
        {
          "output_type": "stream",
          "name": "stderr",
          "text": [
            "100%|██████████| 302/302 [01:37<00:00,  3.10it/s]\n"
          ]
        },
        {
          "output_type": "stream",
          "name": "stdout",
          "text": [
            "Epoch:  82  Loss:  tensor(0.1005, grad_fn=<AddBackward0>)  RMSE in test set: tensor(0.7652, grad_fn=<PowBackward0>) MAE in test set:  tensor(0.5722, grad_fn=<L1LossBackward0>)\n",
            "Time consumed is: 97.58103156089783\n"
          ]
        },
        {
          "output_type": "stream",
          "name": "stderr",
          "text": [
            "100%|██████████| 302/302 [01:38<00:00,  3.06it/s]\n"
          ]
        },
        {
          "output_type": "stream",
          "name": "stdout",
          "text": [
            "Epoch:  83  Loss:  tensor(0.1005, grad_fn=<AddBackward0>)  RMSE in test set: tensor(0.7652, grad_fn=<PowBackward0>) MAE in test set:  tensor(0.5722, grad_fn=<L1LossBackward0>)\n",
            "Time consumed is: 98.70212173461914\n"
          ]
        },
        {
          "output_type": "stream",
          "name": "stderr",
          "text": [
            "100%|██████████| 302/302 [01:37<00:00,  3.09it/s]\n"
          ]
        },
        {
          "output_type": "stream",
          "name": "stdout",
          "text": [
            "Epoch:  84  Loss:  tensor(0.1005, grad_fn=<AddBackward0>)  RMSE in test set: tensor(0.7652, grad_fn=<PowBackward0>) MAE in test set:  tensor(0.5721, grad_fn=<L1LossBackward0>)\n",
            "Time consumed is: 97.8475661277771\n"
          ]
        },
        {
          "output_type": "stream",
          "name": "stderr",
          "text": [
            "100%|██████████| 302/302 [01:39<00:00,  3.04it/s]\n"
          ]
        },
        {
          "output_type": "stream",
          "name": "stdout",
          "text": [
            "Epoch:  85  Loss:  tensor(0.1005, grad_fn=<AddBackward0>)  RMSE in test set: tensor(0.7652, grad_fn=<PowBackward0>) MAE in test set:  tensor(0.5721, grad_fn=<L1LossBackward0>)\n",
            "Time consumed is: 99.43649244308472\n"
          ]
        },
        {
          "output_type": "stream",
          "name": "stderr",
          "text": [
            "100%|██████████| 302/302 [01:39<00:00,  3.05it/s]\n"
          ]
        },
        {
          "output_type": "stream",
          "name": "stdout",
          "text": [
            "Epoch:  86  Loss:  tensor(0.1004, grad_fn=<AddBackward0>)  RMSE in test set: tensor(0.7652, grad_fn=<PowBackward0>) MAE in test set:  tensor(0.5721, grad_fn=<L1LossBackward0>)\n",
            "Time consumed is: 99.11326336860657\n"
          ]
        },
        {
          "output_type": "stream",
          "name": "stderr",
          "text": [
            "100%|██████████| 302/302 [01:38<00:00,  3.07it/s]\n"
          ]
        },
        {
          "output_type": "stream",
          "name": "stdout",
          "text": [
            "Epoch:  87  Loss:  tensor(0.1004, grad_fn=<AddBackward0>)  RMSE in test set: tensor(0.7652, grad_fn=<PowBackward0>) MAE in test set:  tensor(0.5721, grad_fn=<L1LossBackward0>)\n",
            "Time consumed is: 98.45294666290283\n"
          ]
        },
        {
          "output_type": "stream",
          "name": "stderr",
          "text": [
            "100%|██████████| 302/302 [01:38<00:00,  3.05it/s]\n"
          ]
        },
        {
          "output_type": "stream",
          "name": "stdout",
          "text": [
            "Epoch:  88  Loss:  tensor(0.1004, grad_fn=<AddBackward0>)  RMSE in test set: tensor(0.7652, grad_fn=<PowBackward0>) MAE in test set:  tensor(0.5721, grad_fn=<L1LossBackward0>)\n",
            "Time consumed is: 98.88527274131775\n"
          ]
        },
        {
          "output_type": "stream",
          "name": "stderr",
          "text": [
            "100%|██████████| 302/302 [01:38<00:00,  3.06it/s]\n"
          ]
        },
        {
          "output_type": "stream",
          "name": "stdout",
          "text": [
            "Epoch:  89  Loss:  tensor(0.1004, grad_fn=<AddBackward0>)  RMSE in test set: tensor(0.7652, grad_fn=<PowBackward0>) MAE in test set:  tensor(0.5721, grad_fn=<L1LossBackward0>)\n",
            "Time consumed is: 98.85428428649902\n"
          ]
        },
        {
          "output_type": "stream",
          "name": "stderr",
          "text": [
            "100%|██████████| 302/302 [01:38<00:00,  3.06it/s]\n"
          ]
        },
        {
          "output_type": "stream",
          "name": "stdout",
          "text": [
            "Epoch:  90  Loss:  tensor(0.1004, grad_fn=<AddBackward0>)  RMSE in test set: tensor(0.7652, grad_fn=<PowBackward0>) MAE in test set:  tensor(0.5721, grad_fn=<L1LossBackward0>)\n",
            "Time consumed is: 98.73614716529846\n"
          ]
        },
        {
          "output_type": "stream",
          "name": "stderr",
          "text": [
            "100%|██████████| 302/302 [01:38<00:00,  3.06it/s]\n"
          ]
        },
        {
          "output_type": "stream",
          "name": "stdout",
          "text": [
            "Epoch:  91  Loss:  tensor(0.1004, grad_fn=<AddBackward0>)  RMSE in test set: tensor(0.7652, grad_fn=<PowBackward0>) MAE in test set:  tensor(0.5721, grad_fn=<L1LossBackward0>)\n",
            "Time consumed is: 98.7129111289978\n"
          ]
        },
        {
          "output_type": "stream",
          "name": "stderr",
          "text": [
            "100%|██████████| 302/302 [01:40<00:00,  2.99it/s]\n"
          ]
        },
        {
          "output_type": "stream",
          "name": "stdout",
          "text": [
            "Epoch:  92  Loss:  tensor(0.1003, grad_fn=<AddBackward0>)  RMSE in test set: tensor(0.7652, grad_fn=<PowBackward0>) MAE in test set:  tensor(0.5721, grad_fn=<L1LossBackward0>)\n",
            "Time consumed is: 100.88289475440979\n"
          ]
        },
        {
          "output_type": "stream",
          "name": "stderr",
          "text": [
            "100%|██████████| 302/302 [01:38<00:00,  3.08it/s]\n"
          ]
        },
        {
          "output_type": "stream",
          "name": "stdout",
          "text": [
            "Epoch:  93  Loss:  tensor(0.1003, grad_fn=<AddBackward0>)  RMSE in test set: tensor(0.7652, grad_fn=<PowBackward0>) MAE in test set:  tensor(0.5721, grad_fn=<L1LossBackward0>)\n",
            "Time consumed is: 98.21327352523804\n"
          ]
        },
        {
          "output_type": "stream",
          "name": "stderr",
          "text": [
            "100%|██████████| 302/302 [01:39<00:00,  3.04it/s]\n"
          ]
        },
        {
          "output_type": "stream",
          "name": "stdout",
          "text": [
            "Epoch:  94  Loss:  tensor(0.1003, grad_fn=<AddBackward0>)  RMSE in test set: tensor(0.7652, grad_fn=<PowBackward0>) MAE in test set:  tensor(0.5721, grad_fn=<L1LossBackward0>)\n",
            "Time consumed is: 99.2907645702362\n"
          ]
        },
        {
          "output_type": "stream",
          "name": "stderr",
          "text": [
            "100%|██████████| 302/302 [01:39<00:00,  3.04it/s]\n"
          ]
        },
        {
          "output_type": "stream",
          "name": "stdout",
          "text": [
            "Epoch:  95  Loss:  tensor(0.1003, grad_fn=<AddBackward0>)  RMSE in test set: tensor(0.7652, grad_fn=<PowBackward0>) MAE in test set:  tensor(0.5721, grad_fn=<L1LossBackward0>)\n",
            "Time consumed is: 99.42118096351624\n"
          ]
        },
        {
          "output_type": "stream",
          "name": "stderr",
          "text": [
            "100%|██████████| 302/302 [01:37<00:00,  3.10it/s]\n"
          ]
        },
        {
          "output_type": "stream",
          "name": "stdout",
          "text": [
            "Epoch:  96  Loss:  tensor(0.1003, grad_fn=<AddBackward0>)  RMSE in test set: tensor(0.7652, grad_fn=<PowBackward0>) MAE in test set:  tensor(0.5721, grad_fn=<L1LossBackward0>)\n",
            "Time consumed is: 97.3632755279541\n"
          ]
        },
        {
          "output_type": "stream",
          "name": "stderr",
          "text": [
            "100%|██████████| 302/302 [01:36<00:00,  3.12it/s]\n"
          ]
        },
        {
          "output_type": "stream",
          "name": "stdout",
          "text": [
            "Epoch:  97  Loss:  tensor(0.1003, grad_fn=<AddBackward0>)  RMSE in test set: tensor(0.7652, grad_fn=<PowBackward0>) MAE in test set:  tensor(0.5721, grad_fn=<L1LossBackward0>)\n",
            "Time consumed is: 96.92659378051758\n"
          ]
        },
        {
          "output_type": "stream",
          "name": "stderr",
          "text": [
            "100%|██████████| 302/302 [01:39<00:00,  3.02it/s]\n"
          ]
        },
        {
          "output_type": "stream",
          "name": "stdout",
          "text": [
            "Epoch:  98  Loss:  tensor(0.1003, grad_fn=<AddBackward0>)  RMSE in test set: tensor(0.7652, grad_fn=<PowBackward0>) MAE in test set:  tensor(0.5721, grad_fn=<L1LossBackward0>)\n",
            "Time consumed is: 99.9218978881836\n"
          ]
        },
        {
          "output_type": "stream",
          "name": "stderr",
          "text": [
            "100%|██████████| 302/302 [01:39<00:00,  3.03it/s]\n"
          ]
        },
        {
          "output_type": "stream",
          "name": "stdout",
          "text": [
            "Epoch:  99  Loss:  tensor(0.1003, grad_fn=<AddBackward0>)  RMSE in test set: tensor(0.7652, grad_fn=<PowBackward0>) MAE in test set:  tensor(0.5721, grad_fn=<L1LossBackward0>)\n",
            "Time consumed is: 99.61150002479553\n"
          ]
        }
      ],
      "source": [
        "lrs = [1e-2]\n",
        "dims = [8]\n",
        "regs = [5e-7]\n",
        "batch_sizes = [512]\n",
        "num_epochs = 100\n",
        "rmse, mae, model, cnm = train(lrs[0],dims[0],regs[0],batch_sizes[0],num_epochs,trainset,testset)"
      ]
    },
    {
      "cell_type": "code",
      "execution_count": 24,
      "metadata": {
        "id": "Vr4rd0V67x8o"
      },
      "outputs": [],
      "source": [
        "state = { 'model': model.state_dict()}   \n",
        "torch.save(state, '/content/gdrive/My Drive/drive/data/netflix/model_netflix_09059.pkl')\n",
        "# hehe_model = aspect_augumentation(5128, 1154, 3, 8)\n",
        "# checkpoint = torch.load('model_netflix.pkl')\n",
        "# hehe_model.load_state_dict(checkpoint['model'])"
      ]
    },
    {
      "cell_type": "code",
      "execution_count": 25,
      "metadata": {
        "colab": {
          "base_uri": "https://localhost:8080/"
        },
        "id": "BtFyGyAQ7x_O",
        "outputId": "f0c80406-6b26-40ad-96ba-fafd2dbeba2f"
      },
      "outputs": [
        {
          "output_type": "stream",
          "name": "stdout",
          "text": [
            "Looking in indexes: https://pypi.org/simple, https://us-python.pkg.dev/colab-wheels/public/simple/\n",
            "Collecting umap-learn\n",
            "  Downloading umap-learn-0.5.3.tar.gz (88 kB)\n",
            "\u001b[K     |████████████████████████████████| 88 kB 3.3 MB/s \n",
            "\u001b[?25hRequirement already satisfied: numpy>=1.17 in /usr/local/lib/python3.7/dist-packages (from umap-learn) (1.21.6)\n",
            "Requirement already satisfied: scikit-learn>=0.22 in /usr/local/lib/python3.7/dist-packages (from umap-learn) (1.0.2)\n",
            "Requirement already satisfied: scipy>=1.0 in /usr/local/lib/python3.7/dist-packages (from umap-learn) (1.7.3)\n",
            "Requirement already satisfied: numba>=0.49 in /usr/local/lib/python3.7/dist-packages (from umap-learn) (0.56.0)\n",
            "Collecting pynndescent>=0.5\n",
            "  Downloading pynndescent-0.5.7.tar.gz (1.1 MB)\n",
            "\u001b[K     |████████████████████████████████| 1.1 MB 38.4 MB/s \n",
            "\u001b[?25hRequirement already satisfied: tqdm in /usr/local/lib/python3.7/dist-packages (from umap-learn) (4.64.0)\n",
            "Requirement already satisfied: importlib-metadata in /usr/local/lib/python3.7/dist-packages (from numba>=0.49->umap-learn) (4.12.0)\n",
            "Requirement already satisfied: llvmlite<0.40,>=0.39.0dev0 in /usr/local/lib/python3.7/dist-packages (from numba>=0.49->umap-learn) (0.39.0)\n",
            "Requirement already satisfied: setuptools in /usr/local/lib/python3.7/dist-packages (from numba>=0.49->umap-learn) (57.4.0)\n",
            "Requirement already satisfied: joblib>=0.11 in /usr/local/lib/python3.7/dist-packages (from pynndescent>=0.5->umap-learn) (1.1.0)\n",
            "Requirement already satisfied: threadpoolctl>=2.0.0 in /usr/local/lib/python3.7/dist-packages (from scikit-learn>=0.22->umap-learn) (3.1.0)\n",
            "Requirement already satisfied: zipp>=0.5 in /usr/local/lib/python3.7/dist-packages (from importlib-metadata->numba>=0.49->umap-learn) (3.8.1)\n",
            "Requirement already satisfied: typing-extensions>=3.6.4 in /usr/local/lib/python3.7/dist-packages (from importlib-metadata->numba>=0.49->umap-learn) (4.1.1)\n",
            "Building wheels for collected packages: umap-learn, pynndescent\n",
            "  Building wheel for umap-learn (setup.py) ... \u001b[?25l\u001b[?25hdone\n",
            "  Created wheel for umap-learn: filename=umap_learn-0.5.3-py3-none-any.whl size=82829 sha256=7cb8a274270d32c6cc9ebef9f776a139aca919aca52bd2c28f95e4904325afde\n",
            "  Stored in directory: /root/.cache/pip/wheels/b3/52/a5/1fd9e3e76a7ab34f134c07469cd6f16e27ef3a37aeff1fe821\n",
            "  Building wheel for pynndescent (setup.py) ... \u001b[?25l\u001b[?25hdone\n",
            "  Created wheel for pynndescent: filename=pynndescent-0.5.7-py3-none-any.whl size=54286 sha256=03548d57d8186741dbe096c4d92ac8a72a73439d7ff1298f9a339757f4139d61\n",
            "  Stored in directory: /root/.cache/pip/wheels/7f/2a/f8/7bd5dcec71bd5c669f6f574db3113513696b98f3f9b51f496c\n",
            "Successfully built umap-learn pynndescent\n",
            "Installing collected packages: pynndescent, umap-learn\n",
            "Successfully installed pynndescent-0.5.7 umap-learn-0.5.3\n",
            "Looking in indexes: https://pypi.org/simple, https://us-python.pkg.dev/colab-wheels/public/simple/\n",
            "Requirement already satisfied: umap-learn[plot] in /usr/local/lib/python3.7/dist-packages (0.5.3)\n",
            "Requirement already satisfied: scipy>=1.0 in /usr/local/lib/python3.7/dist-packages (from umap-learn[plot]) (1.7.3)\n",
            "Requirement already satisfied: scikit-learn>=0.22 in /usr/local/lib/python3.7/dist-packages (from umap-learn[plot]) (1.0.2)\n",
            "Requirement already satisfied: numba>=0.49 in /usr/local/lib/python3.7/dist-packages (from umap-learn[plot]) (0.56.0)\n",
            "Requirement already satisfied: numpy>=1.17 in /usr/local/lib/python3.7/dist-packages (from umap-learn[plot]) (1.21.6)\n",
            "Requirement already satisfied: pynndescent>=0.5 in /usr/local/lib/python3.7/dist-packages (from umap-learn[plot]) (0.5.7)\n",
            "Requirement already satisfied: tqdm in /usr/local/lib/python3.7/dist-packages (from umap-learn[plot]) (4.64.0)\n",
            "Collecting datashader\n",
            "  Downloading datashader-0.14.2-py2.py3-none-any.whl (18.2 MB)\n",
            "\u001b[K     |████████████████████████████████| 18.2 MB 801 kB/s \n",
            "\u001b[?25hRequirement already satisfied: pandas in /usr/local/lib/python3.7/dist-packages (from umap-learn[plot]) (1.3.5)\n",
            "Requirement already satisfied: scikit-image in /usr/local/lib/python3.7/dist-packages (from umap-learn[plot]) (0.18.3)\n",
            "Requirement already satisfied: holoviews in /usr/local/lib/python3.7/dist-packages (from umap-learn[plot]) (1.14.9)\n",
            "Requirement already satisfied: matplotlib in /usr/local/lib/python3.7/dist-packages (from umap-learn[plot]) (3.2.2)\n",
            "Requirement already satisfied: colorcet in /usr/local/lib/python3.7/dist-packages (from umap-learn[plot]) (3.0.0)\n",
            "Requirement already satisfied: seaborn in /usr/local/lib/python3.7/dist-packages (from umap-learn[plot]) (0.11.2)\n",
            "Requirement already satisfied: bokeh in /usr/local/lib/python3.7/dist-packages (from umap-learn[plot]) (2.3.3)\n",
            "Requirement already satisfied: importlib-metadata in /usr/local/lib/python3.7/dist-packages (from numba>=0.49->umap-learn[plot]) (4.12.0)\n",
            "Requirement already satisfied: llvmlite<0.40,>=0.39.0dev0 in /usr/local/lib/python3.7/dist-packages (from numba>=0.49->umap-learn[plot]) (0.39.0)\n",
            "Requirement already satisfied: setuptools in /usr/local/lib/python3.7/dist-packages (from numba>=0.49->umap-learn[plot]) (57.4.0)\n",
            "Requirement already satisfied: joblib>=0.11 in /usr/local/lib/python3.7/dist-packages (from pynndescent>=0.5->umap-learn[plot]) (1.1.0)\n",
            "Requirement already satisfied: threadpoolctl>=2.0.0 in /usr/local/lib/python3.7/dist-packages (from scikit-learn>=0.22->umap-learn[plot]) (3.1.0)\n",
            "Requirement already satisfied: Jinja2>=2.9 in /usr/local/lib/python3.7/dist-packages (from bokeh->umap-learn[plot]) (2.11.3)\n",
            "Requirement already satisfied: python-dateutil>=2.1 in /usr/local/lib/python3.7/dist-packages (from bokeh->umap-learn[plot]) (2.8.2)\n",
            "Requirement already satisfied: pillow>=7.1.0 in /usr/local/lib/python3.7/dist-packages (from bokeh->umap-learn[plot]) (7.1.2)\n",
            "Requirement already satisfied: typing-extensions>=3.7.4 in /usr/local/lib/python3.7/dist-packages (from bokeh->umap-learn[plot]) (4.1.1)\n",
            "Requirement already satisfied: packaging>=16.8 in /usr/local/lib/python3.7/dist-packages (from bokeh->umap-learn[plot]) (21.3)\n",
            "Requirement already satisfied: tornado>=5.1 in /usr/local/lib/python3.7/dist-packages (from bokeh->umap-learn[plot]) (5.1.1)\n",
            "Requirement already satisfied: PyYAML>=3.10 in /usr/local/lib/python3.7/dist-packages (from bokeh->umap-learn[plot]) (6.0)\n",
            "Requirement already satisfied: MarkupSafe>=0.23 in /usr/local/lib/python3.7/dist-packages (from Jinja2>=2.9->bokeh->umap-learn[plot]) (2.0.1)\n",
            "Requirement already satisfied: pyparsing!=3.0.5,>=2.0.2 in /usr/local/lib/python3.7/dist-packages (from packaging>=16.8->bokeh->umap-learn[plot]) (3.0.9)\n",
            "Requirement already satisfied: six>=1.5 in /usr/local/lib/python3.7/dist-packages (from python-dateutil>=2.1->bokeh->umap-learn[plot]) (1.15.0)\n",
            "Requirement already satisfied: param>=1.7.0 in /usr/local/lib/python3.7/dist-packages (from colorcet->umap-learn[plot]) (1.12.2)\n",
            "Requirement already satisfied: pyct>=0.4.4 in /usr/local/lib/python3.7/dist-packages (from colorcet->umap-learn[plot]) (0.4.8)\n",
            "Collecting datashape>=0.5.1\n",
            "  Downloading datashape-0.5.2.tar.gz (76 kB)\n",
            "\u001b[K     |████████████████████████████████| 76 kB 4.5 MB/s \n",
            "\u001b[?25hRequirement already satisfied: requests in /usr/local/lib/python3.7/dist-packages (from datashader->umap-learn[plot]) (2.23.0)\n",
            "Requirement already satisfied: xarray>=0.9.6 in /usr/local/lib/python3.7/dist-packages (from datashader->umap-learn[plot]) (0.20.2)\n",
            "Requirement already satisfied: dask[complete] in /usr/local/lib/python3.7/dist-packages (from datashader->umap-learn[plot]) (2022.2.0)\n",
            "Requirement already satisfied: multipledispatch>=0.4.7 in /usr/local/lib/python3.7/dist-packages (from datashape>=0.5.1->datashader->umap-learn[plot]) (0.6.0)\n",
            "Requirement already satisfied: pytz>=2017.3 in /usr/local/lib/python3.7/dist-packages (from pandas->umap-learn[plot]) (2022.2.1)\n",
            "Requirement already satisfied: cloudpickle>=1.1.1 in /usr/local/lib/python3.7/dist-packages (from dask[complete]->datashader->umap-learn[plot]) (1.5.0)\n",
            "Requirement already satisfied: fsspec>=0.6.0 in /usr/local/lib/python3.7/dist-packages (from dask[complete]->datashader->umap-learn[plot]) (2022.8.1)\n",
            "Requirement already satisfied: toolz>=0.8.2 in /usr/local/lib/python3.7/dist-packages (from dask[complete]->datashader->umap-learn[plot]) (0.12.0)\n",
            "Requirement already satisfied: partd>=0.3.10 in /usr/local/lib/python3.7/dist-packages (from dask[complete]->datashader->umap-learn[plot]) (1.3.0)\n",
            "Requirement already satisfied: distributed==2022.02.0 in /usr/local/lib/python3.7/dist-packages (from dask[complete]->datashader->umap-learn[plot]) (2022.2.0)\n",
            "Requirement already satisfied: click>=6.6 in /usr/local/lib/python3.7/dist-packages (from distributed==2022.02.0->dask[complete]->datashader->umap-learn[plot]) (7.1.2)\n",
            "Requirement already satisfied: msgpack>=0.6.0 in /usr/local/lib/python3.7/dist-packages (from distributed==2022.02.0->dask[complete]->datashader->umap-learn[plot]) (1.0.4)\n",
            "Requirement already satisfied: psutil>=5.0 in /usr/local/lib/python3.7/dist-packages (from distributed==2022.02.0->dask[complete]->datashader->umap-learn[plot]) (5.4.8)\n",
            "Requirement already satisfied: sortedcontainers!=2.0.0,!=2.0.1 in /usr/local/lib/python3.7/dist-packages (from distributed==2022.02.0->dask[complete]->datashader->umap-learn[plot]) (2.4.0)\n",
            "Requirement already satisfied: zict>=0.1.3 in /usr/local/lib/python3.7/dist-packages (from distributed==2022.02.0->dask[complete]->datashader->umap-learn[plot]) (2.2.0)\n",
            "Requirement already satisfied: tblib>=1.6.0 in /usr/local/lib/python3.7/dist-packages (from distributed==2022.02.0->dask[complete]->datashader->umap-learn[plot]) (1.7.0)\n",
            "Requirement already satisfied: locket in /usr/local/lib/python3.7/dist-packages (from partd>=0.3.10->dask[complete]->datashader->umap-learn[plot]) (1.0.0)\n",
            "Requirement already satisfied: heapdict in /usr/local/lib/python3.7/dist-packages (from zict>=0.1.3->distributed==2022.02.0->dask[complete]->datashader->umap-learn[plot]) (1.0.1)\n",
            "Requirement already satisfied: pyviz-comms>=0.7.4 in /usr/local/lib/python3.7/dist-packages (from holoviews->umap-learn[plot]) (2.2.1)\n",
            "Requirement already satisfied: panel>=0.8.0 in /usr/local/lib/python3.7/dist-packages (from holoviews->umap-learn[plot]) (0.12.1)\n",
            "Requirement already satisfied: markdown in /usr/local/lib/python3.7/dist-packages (from panel>=0.8.0->holoviews->umap-learn[plot]) (3.4.1)\n",
            "Requirement already satisfied: bleach in /usr/local/lib/python3.7/dist-packages (from panel>=0.8.0->holoviews->umap-learn[plot]) (5.0.1)\n",
            "Requirement already satisfied: webencodings in /usr/local/lib/python3.7/dist-packages (from bleach->panel>=0.8.0->holoviews->umap-learn[plot]) (0.5.1)\n",
            "Requirement already satisfied: zipp>=0.5 in /usr/local/lib/python3.7/dist-packages (from importlib-metadata->numba>=0.49->umap-learn[plot]) (3.8.1)\n",
            "Requirement already satisfied: kiwisolver>=1.0.1 in /usr/local/lib/python3.7/dist-packages (from matplotlib->umap-learn[plot]) (1.4.4)\n",
            "Requirement already satisfied: cycler>=0.10 in /usr/local/lib/python3.7/dist-packages (from matplotlib->umap-learn[plot]) (0.11.0)\n",
            "Requirement already satisfied: urllib3!=1.25.0,!=1.25.1,<1.26,>=1.21.1 in /usr/local/lib/python3.7/dist-packages (from requests->datashader->umap-learn[plot]) (1.24.3)\n",
            "Requirement already satisfied: chardet<4,>=3.0.2 in /usr/local/lib/python3.7/dist-packages (from requests->datashader->umap-learn[plot]) (3.0.4)\n",
            "Requirement already satisfied: certifi>=2017.4.17 in /usr/local/lib/python3.7/dist-packages (from requests->datashader->umap-learn[plot]) (2022.6.15)\n",
            "Requirement already satisfied: idna<3,>=2.5 in /usr/local/lib/python3.7/dist-packages (from requests->datashader->umap-learn[plot]) (2.10)\n",
            "Requirement already satisfied: tifffile>=2019.7.26 in /usr/local/lib/python3.7/dist-packages (from scikit-image->umap-learn[plot]) (2021.11.2)\n",
            "Requirement already satisfied: PyWavelets>=1.1.1 in /usr/local/lib/python3.7/dist-packages (from scikit-image->umap-learn[plot]) (1.3.0)\n",
            "Requirement already satisfied: networkx>=2.0 in /usr/local/lib/python3.7/dist-packages (from scikit-image->umap-learn[plot]) (2.6.3)\n",
            "Requirement already satisfied: imageio>=2.3.0 in /usr/local/lib/python3.7/dist-packages (from scikit-image->umap-learn[plot]) (2.9.0)\n",
            "Building wheels for collected packages: datashape\n",
            "  Building wheel for datashape (setup.py) ... \u001b[?25l\u001b[?25hdone\n",
            "  Created wheel for datashape: filename=datashape-0.5.2-py3-none-any.whl size=59438 sha256=b303da3b4edcdf32f178de09549c321fd0943873caeff37f467d53c08b5781c2\n",
            "  Stored in directory: /root/.cache/pip/wheels/b5/b7/80/333a5c3312ed4cd54f5d5b869868c14e0c6002cb5c7238b52d\n",
            "Successfully built datashape\n",
            "Installing collected packages: datashape, datashader\n",
            "Successfully installed datashader-0.14.2 datashape-0.5.2\n"
          ]
        }
      ],
      "source": [
        "!pip install umap-learn\n",
        "!pip install \"umap-learn[plot]\""
      ]
    },
    {
      "cell_type": "code",
      "execution_count": 26,
      "metadata": {
        "id": "vkQpZT_w7yBy"
      },
      "outputs": [],
      "source": [
        "import sklearn.datasets\n",
        "import pandas as pd\n",
        "import numpy as np\n",
        "import umap\n",
        "from umap import UMAP\n",
        "import umap.plot"
      ]
    },
    {
      "cell_type": "code",
      "execution_count": 27,
      "metadata": {
        "id": "ioYq2qT0iHfQ"
      },
      "outputs": [],
      "source": [
        "import networkx as nx\n",
        "import matplotlib.pyplot as plt\n",
        "\n",
        "\n",
        "def xiba(hehe,model):\n",
        "    users_index = hehe.iloc[:, 0].values\n",
        "    users = torch.LongTensor(users_index).to(DEVICE)\n",
        "    actors_id = hehe.iloc[:, 2]\n",
        "    directors_id = hehe.iloc[:, 3]\n",
        "    genres_id = hehe.iloc[:, 4]\n",
        "    rating = torch.FloatTensor(\n",
        "        hehe.iloc[:, 5].values).to(DEVICE)\n",
        "    prediction,scores,contribute_actors,contribute_directors,contribute_genres, cnm = model(users, actors_id, directors_id, genres_id)\n",
        "    return prediction,scores,contribute_actors,contribute_directors,contribute_genres,cnm"
      ]
    },
    {
      "cell_type": "code",
      "execution_count": 28,
      "metadata": {
        "id": "MrITpNbQ7yEg"
      },
      "outputs": [],
      "source": [
        "prediction, scores, contribute_actors, contribute_directors, contribute_genres,cnm = xiba(testset,model)"
      ]
    },
    {
      "cell_type": "code",
      "execution_count": 29,
      "metadata": {
        "colab": {
          "base_uri": "https://localhost:8080/"
        },
        "id": "_8jnCV_K7yHD",
        "outputId": "0d6c4d46-15b9-4fa9-ff80-86ba6515a92d"
      },
      "outputs": [
        {
          "output_type": "execute_result",
          "data": {
            "text/plain": [
              "tensor([1.0000, 0.0000, 0.5000,  ..., 0.5000, 1.0000, 0.5000])"
            ]
          },
          "metadata": {},
          "execution_count": 29
        }
      ],
      "source": [
        "rating = torch.FloatTensor(\n",
        "        testset.iloc[:, 5].values)\n",
        "rating"
      ]
    },
    {
      "cell_type": "code",
      "execution_count": 30,
      "metadata": {
        "colab": {
          "base_uri": "https://localhost:8080/"
        },
        "id": "UEotXs-xi17u",
        "outputId": "a584c4ca-453f-4434-b343-39dee979f1e0"
      },
      "outputs": [
        {
          "output_type": "execute_result",
          "data": {
            "text/plain": [
              "tensor([ 0.6775, -0.3084,  0.2390,  ...,  0.5217,  0.9111,  0.5586],\n",
              "       grad_fn=<DivBackward0>)"
            ]
          },
          "metadata": {},
          "execution_count": 30
        }
      ],
      "source": [
        "prediction"
      ]
    },
    {
      "cell_type": "code",
      "execution_count": 31,
      "metadata": {
        "id": "-OpkKw3W7yJ1"
      },
      "outputs": [],
      "source": [
        "X = scores.cpu().data.numpy()\n",
        "from sklearn.cluster import KMeans"
      ]
    },
    {
      "cell_type": "code",
      "execution_count": 32,
      "metadata": {
        "colab": {
          "base_uri": "https://localhost:8080/",
          "height": 388
        },
        "id": "h5BUVZYh7yMZ",
        "outputId": "08b43fcf-efff-476b-d238-6d841c0153b7"
      },
      "outputs": [
        {
          "output_type": "display_data",
          "data": {
            "text/plain": [
              "<Figure size 1080x432 with 1 Axes>"
            ],
            "image/png": "[encoded data removed]"
          },
          "metadata": {
            "needs_background": "light"
          }
        }
      ],
      "source": [
        "inertia = []   \n",
        "\n",
        "for k in range(1,11):  \n",
        "    algorithm = (KMeans(n_clusters=k,  \n",
        "                       init=\"k-means++\",  \n",
        "                       n_init=10,  \n",
        "                       max_iter=300,  \n",
        "                       tol=0.0001,  \n",
        "                       random_state=111,  \n",
        "                       algorithm=\"full\"))  \n",
        "    algorithm.fit(X)  \n",
        "    inertia.append(algorithm.inertia_) \n",
        "plt.figure(1,figsize=(15,6))\n",
        "plt.plot(np.arange(1,11), inertia, 'o')  \n",
        "plt.plot(np.arange(1,11), inertia, '-', alpha=0.5)\n",
        "\n",
        "plt.xlabel(\"Choose of K\")\n",
        "plt.ylabel(\"Interia\")\n",
        "plt.show()"
      ]
    },
    {
      "cell_type": "code",
      "execution_count": 33,
      "metadata": {
        "colab": {
          "base_uri": "https://localhost:8080/"
        },
        "id": "hcU6uZ-Z7yOP",
        "outputId": "7291b983-1052-4422-9011-ee36336d77f0"
      },
      "outputs": [
        {
          "output_type": "stream",
          "name": "stdout",
          "text": [
            "Starting compute t-SNE Embedding...\n"
          ]
        },
        {
          "output_type": "stream",
          "name": "stderr",
          "text": [
            "/usr/local/lib/python3.7/dist-packages/sklearn/manifold/_t_sne.py:793: FutureWarning: The default learning rate in TSNE will change from 200.0 to 'auto' in 1.2.\n",
            "  FutureWarning,\n",
            "/usr/local/lib/python3.7/dist-packages/sklearn/manifold/_t_sne.py:986: FutureWarning: The PCA initialization in TSNE will change to have the standard deviation of PC1 equal to 1e-4 in 1.2. This will ensure better convergence.\n",
            "  FutureWarning,\n"
          ]
        }
      ],
      "source": [
        "estimators = KMeans(n_clusters=3)\n",
        "estimators.fit(X)\n",
        "labele = estimators.labels_\n",
        "from sklearn.manifold import TSNE\n",
        "import matplotlib.pyplot as plt\n",
        "data, label, n_samples, n_features,title = X, labele, 11604, 3,'Cluster of users according to importances of contexts'\n",
        "print('Starting compute t-SNE Embedding...')\n",
        "ts = TSNE(n_components=2, init='pca', random_state=0)\n",
        "\n",
        "reslut = ts.fit_transform(data)\n",
        "\n",
        "x_min, x_max = np.min(reslut, 0), np.max(reslut, 0)\n",
        "reslut = (reslut - x_min) / (x_max - x_min)"
      ]
    },
    {
      "cell_type": "code",
      "execution_count": 34,
      "metadata": {
        "colab": {
          "base_uri": "https://localhost:8080/",
          "height": 284
        },
        "id": "w-l_yvDTjLTk",
        "outputId": "7e8f9494-8d1c-46cb-9186-023f64327985"
      },
      "outputs": [
        {
          "output_type": "display_data",
          "data": {
            "text/plain": [
              "<Figure size 432x288 with 1 Axes>"
            ],
            "image/png": "[encoded data removed]"
          },
          "metadata": {
            "needs_background": "light"
          }
        }
      ],
      "source": [
        "fig = plt.figure()\n",
        "ax = plt.subplot(111)\n",
        "for i in range(reslut.shape[0]):\n",
        "    plt.text(reslut[i, 0], reslut[i, 1], str(label[i]), color=plt.cm.Set1(label[i]),\n",
        "                 fontdict={'weight': 'bold', 'size': 7})\n",
        "plt.xlabel('Component 1')\n",
        "plt.ylabel('Component 2')\n",
        "plt.text(0.015,0.93, 'Cluster 2', fontsize=15)\n",
        "plt.text(0.015,0.10, 'Cluster 1', fontsize=15)\n",
        "plt.text(0.80,0.9, 'Cluster 3', fontsize=15)\n",
        "plt.xticks()\n",
        "plt.yticks()\n",
        "#plt.title(title, fontsize=14)\n",
        "plt.savefig('/content/gdrive/My Drive/drive/data/netflix/jb_0909.png')\n",
        "plt.show()"
      ]
    },
    {
      "cell_type": "code",
      "execution_count": 35,
      "metadata": {
        "id": "CJeefWaojYQM"
      },
      "outputs": [],
      "source": [
        "df_empty = pd.DataFrame(columns=['first','second','third','label'])\n",
        "df_empty['first'] = X[:,0]\n",
        "df_empty['second'] = X[:,1]\n",
        "df_empty['third'] = X[:,2]\n",
        "df_empty['label'] = labele"
      ]
    },
    {
      "cell_type": "code",
      "execution_count": 36,
      "metadata": {
        "colab": {
          "base_uri": "https://localhost:8080/"
        },
        "id": "oChePdDJjbea",
        "outputId": "8673872b-4b04-44cb-aa2d-373223a7e7ac"
      },
      "outputs": [
        {
          "output_type": "execute_result",
          "data": {
            "text/plain": [
              "(0.10714333, 0.1235355, 0.7693212)"
            ]
          },
          "metadata": {},
          "execution_count": 36
        }
      ],
      "source": [
        "df_empty[df_empty['label'] == 0]['first'].mean(),df_empty[df_empty['label'] == 0]['second'].mean(),df_empty[df_empty['label'] == 0]['third'].mean()"
      ]
    },
    {
      "cell_type": "code",
      "execution_count": 37,
      "metadata": {
        "colab": {
          "base_uri": "https://localhost:8080/"
        },
        "id": "f9h4qhzUjcJ2",
        "outputId": "a5afd0f2-e960-496c-e023-f5752d89ec27"
      },
      "outputs": [
        {
          "output_type": "execute_result",
          "data": {
            "text/plain": [
              "(0.850255, 0.08435004, 0.06539487)"
            ]
          },
          "metadata": {},
          "execution_count": 37
        }
      ],
      "source": [
        "df_empty[df_empty['label'] == 1]['first'].mean(),df_empty[df_empty['label'] == 1]['second'].mean(),df_empty[df_empty['label'] == 1]['third'].mean()"
      ]
    },
    {
      "cell_type": "code",
      "execution_count": 38,
      "metadata": {
        "colab": {
          "base_uri": "https://localhost:8080/"
        },
        "id": "mMWvyuHyjffq",
        "outputId": "1ee111f7-958c-4795-ea7d-4cd74363f662"
      },
      "outputs": [
        {
          "output_type": "execute_result",
          "data": {
            "text/plain": [
              "(0.33712015, 0.33332503, 0.32955483)"
            ]
          },
          "metadata": {},
          "execution_count": 38
        }
      ],
      "source": [
        "df_empty[df_empty['label'] == 2]['first'].mean(),df_empty[df_empty['label'] == 2]['second'].mean(),df_empty[df_empty['label'] == 2]['third'].mean()"
      ]
    },
    {
      "cell_type": "code",
      "execution_count": 39,
      "metadata": {
        "colab": {
          "base_uri": "https://localhost:8080/",
          "height": 492
        },
        "id": "xLd8ZC0Yjji0",
        "outputId": "8778c747-ea7a-4b51-86e4-d6ae83cf394f"
      },
      "outputs": [
        {
          "output_type": "stream",
          "name": "stderr",
          "text": [
            "/usr/local/lib/python3.7/dist-packages/umap/spectral.py:261: UserWarning: WARNING: spectral initialisation failed! The eigenvector solver\n",
            "failed. This is likely due to too small an eigengap. Consider\n",
            "adding some noise or jitter to your data.\n",
            "\n",
            "Falling back to random initialisation!\n",
            "  \"WARNING: spectral initialisation failed! The eigenvector solver\\n\"\n",
            "/usr/local/lib/python3.7/dist-packages/umap/spectral.py:261: UserWarning: WARNING: spectral initialisation failed! The eigenvector solver\n",
            "failed. This is likely due to too small an eigengap. Consider\n",
            "adding some noise or jitter to your data.\n",
            "\n",
            "Falling back to random initialisation!\n",
            "  \"WARNING: spectral initialisation failed! The eigenvector solver\\n\"\n"
          ]
        },
        {
          "output_type": "display_data",
          "data": {
            "text/plain": [
              "<Figure size 432x288 with 1 Axes>"
            ],
            "image/png": "[encoded data removed]"
          },
          "metadata": {
            "needs_background": "light"
          }
        }
      ],
      "source": [
        "mapper = UMAP().fit(X)\n",
        "reslut = UMAP().fit_transform(X)\n",
        "\n",
        "x_min, x_max = np.min(reslut, 0), np.max(reslut, 0)\n",
        "reslut = (reslut - x_min) / (x_max - x_min)\n",
        "\n",
        "fig = plt.figure()\n",
        "ax = plt.subplot(111)\n",
        "for i in range(reslut.shape[0]):\n",
        "    plt.text(reslut[i, 0], reslut[i, 1], '+', color=plt.cm.Set1(labele[i]),\n",
        "                 fontdict={'weight': 'bold', 'size': 7})\n",
        "plt.xlabel('Component 1')\n",
        "plt.ylabel('Component 2')\n",
        "plt.xticks()\n",
        "plt.yticks()\n",
        "#plt.title(title, fize=14)\n",
        "plt.savefig('/content/gdrive/My Drive/drive/data/netflix/jb_umap_0909.png')\n",
        "plt.show()"
      ]
    },
    {
      "cell_type": "code",
      "execution_count": 40,
      "metadata": {
        "colab": {
          "base_uri": "https://localhost:8080/",
          "height": 693
        },
        "id": "a9wBVKo5jr6s",
        "outputId": "bd6bd448-5a40-48b1-9868-0c8704d7e24a"
      },
      "outputs": [
        {
          "output_type": "stream",
          "name": "stderr",
          "text": [
            "WARNING:matplotlib.axes._axes:*c* argument looks like a single numeric RGB or RGBA sequence, which should be avoided as value-mapping will have precedence in case its length matches with *x* & *y*.  Please use the *color* keyword-argument or provide a 2-D array with a single row if you intend to specify the same RGB or RGBA value for all points.\n"
          ]
        },
        {
          "output_type": "execute_result",
          "data": {
            "text/plain": [
              "<matplotlib.axes._subplots.AxesSubplot at 0x7faa899f3cd0>"
            ]
          },
          "metadata": {},
          "execution_count": 40
        },
        {
          "output_type": "display_data",
          "data": {
            "text/plain": [
              "<Figure size 800x800 with 1 Axes>"
            ],
            "image/png": "[encoded data removed]"
          },
          "metadata": {}
        }
      ],
      "source": [
        "umap.plot.points(mapper)"
      ]
    },
    {
      "cell_type": "code",
      "execution_count": 41,
      "metadata": {
        "colab": {
          "base_uri": "https://localhost:8080/",
          "height": 655
        },
        "id": "DwKQq8JxjsZ8",
        "outputId": "4a6cb821-8761-4aea-d7d4-531abe9c1e7c"
      },
      "outputs": [
        {
          "output_type": "execute_result",
          "data": {
            "text/plain": [
              "<matplotlib.axes._subplots.AxesSubplot at 0x7faa95bdea50>"
            ]
          },
          "metadata": {},
          "execution_count": 41
        },
        {
          "output_type": "display_data",
          "data": {
            "text/plain": [
              "<Figure size 800x800 with 1 Axes>"
            ],
            "image/png": "[encoded data removed]"
          },
          "metadata": {}
        }
      ],
      "source": [
        "umap.plot.points(mapper, labels=labele, color_key_cmap='Paired', theme='fire')\n"
      ]
    },
    {
      "cell_type": "code",
      "execution_count": 42,
      "metadata": {
        "colab": {
          "base_uri": "https://localhost:8080/",
          "height": 285
        },
        "id": "NMeAc2VbjvPv",
        "outputId": "69762d9d-41bb-4266-c979-f28a67f730eb"
      },
      "outputs": [
        {
          "output_type": "execute_result",
          "data": {
            "text/plain": [
              "<matplotlib.axes._subplots.AxesSubplot at 0x7faa9203e8d0>"
            ]
          },
          "metadata": {},
          "execution_count": 42
        },
        {
          "output_type": "display_data",
          "data": {
            "text/plain": [
              "<Figure size 432x288 with 1 Axes>"
            ],
            "image/png": "[encoded data removed]"
          },
          "metadata": {}
        }
      ],
      "source": [
        "umap.plot.diagnostic(mapper, diagnostic_type='pca')"
      ]
    },
    {
      "cell_type": "code",
      "execution_count": 43,
      "metadata": {
        "colab": {
          "base_uri": "https://localhost:8080/",
          "height": 285
        },
        "id": "vLrmNVJVjyIy",
        "outputId": "d7bb6f13-e6cf-4cd7-febc-a1162c82c6e2"
      },
      "outputs": [
        {
          "output_type": "execute_result",
          "data": {
            "text/plain": [
              "<matplotlib.axes._subplots.AxesSubplot at 0x7faa93f57810>"
            ]
          },
          "metadata": {},
          "execution_count": 43
        },
        {
          "output_type": "display_data",
          "data": {
            "text/plain": [
              "<Figure size 432x288 with 1 Axes>"
            ],
            "image/png": "[encoded data removed]"
          },
          "metadata": {}
        }
      ],
      "source": [
        "umap.plot.diagnostic(mapper, diagnostic_type='vq')\n"
      ]
    },
    {
      "cell_type": "code",
      "execution_count": 44,
      "metadata": {
        "id": "sBG0pp4ObjT7",
        "colab": {
          "base_uri": "https://localhost:8080/",
          "height": 424
        },
        "outputId": "c3617a01-5dab-4d20-da1d-b2b9789296ab"
      },
      "outputs": [
        {
          "output_type": "execute_result",
          "data": {
            "text/plain": [
              "       user_id  movie           actors director               genre  \\\n",
              "0         2826    468  [466, 114, 121]   [1074]  [1142, 1140, 1135]   \n",
              "1         1684    468  [466, 114, 121]   [1074]  [1142, 1140, 1135]   \n",
              "2         5033    468  [466, 114, 121]   [1074]  [1142, 1140, 1135]   \n",
              "3          318    468  [466, 114, 121]   [1074]  [1142, 1140, 1135]   \n",
              "4         4322    468  [466, 114, 121]   [1074]  [1142, 1140, 1135]   \n",
              "...        ...    ...              ...      ...                 ...   \n",
              "38611      120    488  [405, 198, 744]   [1076]        [1135, 1137]   \n",
              "38612     2147    488  [405, 198, 744]   [1076]        [1135, 1137]   \n",
              "38613     1019    488  [405, 198, 744]   [1076]        [1135, 1137]   \n",
              "38614      208    488  [405, 198, 744]   [1076]        [1135, 1137]   \n",
              "38615     2078    488  [405, 198, 744]   [1076]        [1135, 1137]   \n",
              "\n",
              "       user_rating  \n",
              "0              1.0  \n",
              "1              0.0  \n",
              "2              0.5  \n",
              "3              0.0  \n",
              "4              0.0  \n",
              "...            ...  \n",
              "38611         -0.5  \n",
              "38612          0.5  \n",
              "38613          0.5  \n",
              "38614          1.0  \n",
              "38615          0.5  \n",
              "\n",
              "[38616 rows x 6 columns]"
            ],
            "text/html": [
              "\n",
              "  <div id=\"df-db6955c2-bd68-4b66-9cab-32d39ee435ce\">\n",
              "    <div class=\"colab-df-container\">\n",
              "      <div>\n",
              "<style scoped>\n",
              "    .dataframe tbody tr th:only-of-type {\n",
              "        vertical-align: middle;\n",
              "    }\n",
              "\n",
              "    .dataframe tbody tr th {\n",
              "        vertical-align: top;\n",
              "    }\n",
              "\n",
              "    .dataframe thead th {\n",
              "        text-align: right;\n",
              "    }\n",
              "</style>\n",
              "<table border=\"1\" class=\"dataframe\">\n",
              "  <thead>\n",
              "    <tr style=\"text-align: right;\">\n",
              "      <th></th>\n",
              "      <th>user_id</th>\n",
              "      <th>movie</th>\n",
              "      <th>actors</th>\n",
              "      <th>director</th>\n",
              "      <th>genre</th>\n",
              "      <th>user_rating</th>\n",
              "    </tr>\n",
              "  </thead>\n",
              "  <tbody>\n",
              "    <tr>\n",
              "      <th>0</th>\n",
              "      <td>2826</td>\n",
              "      <td>468</td>\n",
              "      <td>[466, 114, 121]</td>\n",
              "      <td>[1074]</td>\n",
              "      <td>[1142, 1140, 1135]</td>\n",
              "      <td>1.0</td>\n",
              "    </tr>\n",
              "    <tr>\n",
              "      <th>1</th>\n",
              "      <td>1684</td>\n",
              "      <td>468</td>\n",
              "      <td>[466, 114, 121]</td>\n",
              "      <td>[1074]</td>\n",
              "      <td>[1142, 1140, 1135]</td>\n",
              "      <td>0.0</td>\n",
              "    </tr>\n",
              "    <tr>\n",
              "      <th>2</th>\n",
              "      <td>5033</td>\n",
              "      <td>468</td>\n",
              "      <td>[466, 114, 121]</td>\n",
              "      <td>[1074]</td>\n",
              "      <td>[1142, 1140, 1135]</td>\n",
              "      <td>0.5</td>\n",
              "    </tr>\n",
              "    <tr>\n",
              "      <th>3</th>\n",
              "      <td>318</td>\n",
              "      <td>468</td>\n",
              "      <td>[466, 114, 121]</td>\n",
              "      <td>[1074]</td>\n",
              "      <td>[1142, 1140, 1135]</td>\n",
              "      <td>0.0</td>\n",
              "    </tr>\n",
              "    <tr>\n",
              "      <th>4</th>\n",
              "      <td>4322</td>\n",
              "      <td>468</td>\n",
              "      <td>[466, 114, 121]</td>\n",
              "      <td>[1074]</td>\n",
              "      <td>[1142, 1140, 1135]</td>\n",
              "      <td>0.0</td>\n",
              "    </tr>\n",
              "    <tr>\n",
              "      <th>...</th>\n",
              "      <td>...</td>\n",
              "      <td>...</td>\n",
              "      <td>...</td>\n",
              "      <td>...</td>\n",
              "      <td>...</td>\n",
              "      <td>...</td>\n",
              "    </tr>\n",
              "    <tr>\n",
              "      <th>38611</th>\n",
              "      <td>120</td>\n",
              "      <td>488</td>\n",
              "      <td>[405, 198, 744]</td>\n",
              "      <td>[1076]</td>\n",
              "      <td>[1135, 1137]</td>\n",
              "      <td>-0.5</td>\n",
              "    </tr>\n",
              "    <tr>\n",
              "      <th>38612</th>\n",
              "      <td>2147</td>\n",
              "      <td>488</td>\n",
              "      <td>[405, 198, 744]</td>\n",
              "      <td>[1076]</td>\n",
              "      <td>[1135, 1137]</td>\n",
              "      <td>0.5</td>\n",
              "    </tr>\n",
              "    <tr>\n",
              "      <th>38613</th>\n",
              "      <td>1019</td>\n",
              "      <td>488</td>\n",
              "      <td>[405, 198, 744]</td>\n",
              "      <td>[1076]</td>\n",
              "      <td>[1135, 1137]</td>\n",
              "      <td>0.5</td>\n",
              "    </tr>\n",
              "    <tr>\n",
              "      <th>38614</th>\n",
              "      <td>208</td>\n",
              "      <td>488</td>\n",
              "      <td>[405, 198, 744]</td>\n",
              "      <td>[1076]</td>\n",
              "      <td>[1135, 1137]</td>\n",
              "      <td>1.0</td>\n",
              "    </tr>\n",
              "    <tr>\n",
              "      <th>38615</th>\n",
              "      <td>2078</td>\n",
              "      <td>488</td>\n",
              "      <td>[405, 198, 744]</td>\n",
              "      <td>[1076]</td>\n",
              "      <td>[1135, 1137]</td>\n",
              "      <td>0.5</td>\n",
              "    </tr>\n",
              "  </tbody>\n",
              "</table>\n",
              "<p>38616 rows × 6 columns</p>\n",
              "</div>\n",
              "      <button class=\"colab-df-convert\" onclick=\"convertToInteractive('df-db6955c2-bd68-4b66-9cab-32d39ee435ce')\"\n",
              "              title=\"Convert this dataframe to an interactive table.\"\n",
              "              style=\"display:none;\">\n",
              "        \n",
              "  <svg xmlns=\"http://www.w3.org/2000/svg\" height=\"24px\"viewBox=\"0 0 24 24\"\n",
              "       width=\"24px\">\n",
              "    <path d=\"M0 0h24v24H0V0z\" fill=\"none\"/>\n",
              "    <path d=\"M18.56 5.44l.94 2.06.94-2.06 2.06-.94-2.06-.94-.94-2.06-.94 2.06-2.06.94zm-11 1L8.5 8.5l.94-2.06 2.06-.94-2.06-.94L8.5 2.5l-.94 2.06-2.06.94zm10 10l.94 2.06.94-2.06 2.06-.94-2.06-.94-.94-2.06-.94 2.06-2.06.94z\"/><path d=\"M17.41 7.96l-1.37-1.37c-.4-.4-.92-.59-1.43-.59-.52 0-1.04.2-1.43.59L10.3 9.45l-7.72 7.72c-.78.78-.78 2.05 0 2.83L4 21.41c.39.39.9.59 1.41.59.51 0 1.02-.2 1.41-.59l7.78-7.78 2.81-2.81c.8-.78.8-2.07 0-2.86zM5.41 20L4 18.59l7.72-7.72 1.47 1.35L5.41 20z\"/>\n",
              "  </svg>\n",
              "      </button>\n",
              "      \n",
              "  <style>\n",
              "    .colab-df-container {\n",
              "      display:flex;\n",
              "      flex-wrap:wrap;\n",
              "      gap: 12px;\n",
              "    }\n",
              "\n",
              "    .colab-df-convert {\n",
              "      background-color: #E8F0FE;\n",
              "      border: none;\n",
              "      border-radius: 50%;\n",
              "      cursor: pointer;\n",
              "      display: none;\n",
              "      fill: #1967D2;\n",
              "      height: 32px;\n",
              "      padding: 0 0 0 0;\n",
              "      width: 32px;\n",
              "    }\n",
              "\n",
              "    .colab-df-convert:hover {\n",
              "      background-color: #E2EBFA;\n",
              "      box-shadow: 0px 1px 2px rgba(60, 64, 67, 0.3), 0px 1px 3px 1px rgba(60, 64, 67, 0.15);\n",
              "      fill: #174EA6;\n",
              "    }\n",
              "\n",
              "    [theme=dark] .colab-df-convert {\n",
              "      background-color: #3B4455;\n",
              "      fill: #D2E3FC;\n",
              "    }\n",
              "\n",
              "    [theme=dark] .colab-df-convert:hover {\n",
              "      background-color: #434B5C;\n",
              "      box-shadow: 0px 1px 3px 1px rgba(0, 0, 0, 0.15);\n",
              "      filter: drop-shadow(0px 1px 2px rgba(0, 0, 0, 0.3));\n",
              "      fill: #FFFFFF;\n",
              "    }\n",
              "  </style>\n",
              "\n",
              "      <script>\n",
              "        const buttonEl =\n",
              "          document.querySelector('#df-db6955c2-bd68-4b66-9cab-32d39ee435ce button.colab-df-convert');\n",
              "        buttonEl.style.display =\n",
              "          google.colab.kernel.accessAllowed ? 'block' : 'none';\n",
              "\n",
              "        async function convertToInteractive(key) {\n",
              "          const element = document.querySelector('#df-db6955c2-bd68-4b66-9cab-32d39ee435ce');\n",
              "          const dataTable =\n",
              "            await google.colab.kernel.invokeFunction('convertToInteractive',\n",
              "                                                     [key], {});\n",
              "          if (!dataTable) return;\n",
              "\n",
              "          const docLinkHtml = 'Like what you see? Visit the ' +\n",
              "            '<a target=\"_blank\" href=https://colab.research.google.com/notebooks/data_table.ipynb>data table notebook</a>'\n",
              "            + ' to learn more about interactive tables.';\n",
              "          element.innerHTML = '';\n",
              "          dataTable['output_type'] = 'display_data';\n",
              "          await google.colab.output.renderOutput(dataTable, element);\n",
              "          const docLink = document.createElement('div');\n",
              "          docLink.innerHTML = docLinkHtml;\n",
              "          element.appendChild(docLink);\n",
              "        }\n",
              "      </script>\n",
              "    </div>\n",
              "  </div>\n",
              "  "
            ]
          },
          "metadata": {},
          "execution_count": 44
        }
      ],
      "source": [
        "testset"
      ]
    },
    {
      "cell_type": "code",
      "source": [
        "i = 38613 ## the index of user-item interaction in the testset\n",
        "item_map = dict(zip(y_item,final['title'].values))\n",
        "\n",
        "user_index = testset['user_id'][i] ## user\n",
        "item_index = testset['movie'][i]\n",
        "\n",
        "movie_name = item_map[item_index]\n",
        "\n",
        "\n",
        "dict_actors = {v:k for k,v in actors_dict.items()}\n",
        "dict_directors = {v:k for k,v in directors_dict.items()}\n",
        "dict_genres = {v:k for k,v in genres_dict.items()}\n",
        "\n",
        "\n",
        "importance = scores.cpu().detach().numpy()\n",
        "arg_actors = cnm[0][i].detach().numpy()\n",
        "arg_directors = cnm[1][i].detach().numpy()\n",
        "arg_genres = cnm[2][i].detach().numpy()\n",
        "\n",
        "info = testset.iloc[i]\n",
        "movies = info['movie']\n",
        "actors_id = info['actors']\n",
        "directors_id = info['director']\n",
        "genres_id = info['genre']\n",
        "\n",
        "actors_name = itemgetter(*actors_id)(dict_actors)\n",
        "directors_name = itemgetter(*directors_id)(dict_directors)\n",
        "\n",
        "genres_name = itemgetter(*genres_id)(dict_genres)"
      ],
      "metadata": {
        "id": "N4_y_0gK90qi"
      },
      "execution_count": 63,
      "outputs": []
    },
    {
      "cell_type": "code",
      "source": [
        "import networkx as nx\n",
        "import matplotlib.pyplot as plt\n",
        "\n",
        "G=nx.DiGraph()\n",
        "\n",
        "G.add_node(actors_name[0],pos=(-1,0))\n",
        "G.add_node(actors_name[1],pos=(-1,4))\n",
        "G.add_node(actors_name[2],pos=(4,8))\n",
        "G.add_node(directors_name,pos=(8,4))\n",
        "G.add_node(genres_name[0],pos=(8,0))\n",
        "G.add_node(genres_name[1],pos=(4,0))\n",
        "G.add_node(movie_name,pos=(4,4))\n",
        "\n",
        "\n",
        "G.add_edge(actors_name[0],movie_name,weight=round(float(importance[i][0] * (max(arg_actors[0],0))/ 3),2))\n",
        "G.add_edge(actors_name[1],movie_name,weight=round(float(importance[i][0] *(max(arg_actors[1],0)) / 3),2))\n",
        "G.add_edge(actors_name[2],movie_name,weight=round(float(importance[i][0] *(max(arg_actors[2],0)) / 3),2))\n",
        "G.add_edge(directors_name,movie_name,weight=round(float(importance[i][1] *(max(arg_directors[0],0)) / 1),2))\n",
        "G.add_edge(genres_name[0],movie_name,weight=round(float(importance[i][2] *(float(arg_genres[0])) / 2),2))\n",
        "G.add_edge(genres_name[1],movie_name,weight=round(float(importance[i][2] *(float(arg_genres[1])) / 2),2))\n",
        "\n",
        "\n",
        "pos=nx.get_node_attributes(G,'pos')\n",
        "nx.draw(G,pos,with_labels=True)\n",
        "labels = nx.get_edge_attributes(G,'weight')\n",
        "nx.draw_networkx_edge_labels(G,pos,edge_labels=labels)"
      ],
      "metadata": {
        "colab": {
          "base_uri": "https://localhost:8080/",
          "height": 423
        },
        "id": "lS3HxvTF967C",
        "outputId": "cad567a2-03cc-4b8b-db97-1132d441d94e"
      },
      "execution_count": 64,
      "outputs": [
        {
          "output_type": "execute_result",
          "data": {
            "text/plain": [
              "{('Christian Bale', 'The Machinist'): Text(1.5, 2.0, '0.09'),\n",
              " ('Jennifer Jason Leigh', 'The Machinist'): Text(1.5, 4.0, '0.0'),\n",
              " ('Aitana Sánchez-Gijón', 'The Machinist'): Text(4.0, 6.0, '0.49'),\n",
              " ('Brad Anderson', 'The Machinist'): Text(6.0, 4.0, '0.03'),\n",
              " ('Drama', 'The Machinist'): Text(6.0, 2.0, '-0.0'),\n",
              " ('Thriller', 'The Machinist'): Text(4.0, 2.0, '-0.01')}"
            ]
          },
          "metadata": {},
          "execution_count": 64
        },
        {
          "output_type": "display_data",
          "data": {
            "text/plain": [
              "<Figure size 432x288 with 1 Axes>"
            ],
            "image/png": "[encoded data removed]"
          },
          "metadata": {}
        }
      ]
    }
  ],
  "metadata": {
    "colab": {
      "collapsed_sections": [],
      "provenance": []
    },
    "kernelspec": {
      "display_name": "Python 3",
      "name": "python3"
    },
    "language_info": {
      "name": "python"
    }
  },
  "nbformat": 4,
  "nbformat_minor": 0
}