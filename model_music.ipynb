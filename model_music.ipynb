{
 "cells": [
  {
   "cell_type": "code",
   "execution_count": null,
   "metadata": {},
   "outputs": [],
   "source": [
    "#!/usr/bin/env python\n",
    "# coding: utf-8\n",
    "\n",
    "# In[1]:\n",
    "\n",
    "\n",
    "from tqdm import tqdm\n",
    "from torch.nn import LeakyReLU\n",
    "leaky = LeakyReLU(0.2)\n",
    "from torch import nn\n",
    "import torch\n",
    "import torch.nn.functional as F\n",
    "\n",
    "# In[3]:\n",
    "\n",
    "\n",
    "def calculate_score(x, users, aspects):\n",
    "    niubi = []\n",
    "    first = x.index[0]\n",
    "    val_base = [x[first]]\n",
    "    actor_base = torch.LongTensor(val_base)\n",
    "    actors_base = aspects(actor_base)\n",
    "    pre_rating = torch.mm(actors_base, users[first].unsqueeze(1))\n",
    "    niubi.append(pre_rating)\n",
    "    pre_rating = pre_rating / pre_rating.shape[0]\n",
    "    pre_rating = pre_rating.sum(0)\n",
    "    for i in x.index[1:]:\n",
    "        val = [x[i]]\n",
    "        actor = torch.LongTensor(val)\n",
    "        actors = aspects(actor)\n",
    "        pre_ra = torch.mm(actors, users[i].unsqueeze(1))\n",
    "        niubi.append(pre_ra)\n",
    "        actors_f = pre_ra / pre_ra.shape[0]\n",
    "        actors_f = actors_f.sum(0)\n",
    "        pre_rating = torch.cat((pre_rating, actors_f))\n",
    "    return pre_rating, niubi  ### pre_rating is the rating after averaging on the type; niu is the rating before averaging on the type\n",
    "\n",
    "\n",
    "class aspect_augumentation_music(nn.Module):\n",
    "    def __init__(self, n_users, n_entity, n_rk, n_factors):\n",
    "        super(aspect_augumentation_music, self).__init__()\n",
    "        \n",
    "        \n",
    "        '''\n",
    "        n_users denotes the numeber of users\n",
    "        n_entity denotes the number of attributes\n",
    "        n_rk denotes the number of attribute type\n",
    "        n_factors denotes the embedding size\n",
    "        '''\n",
    "        self.n_users = n_users\n",
    "        self.n_entity = n_entity\n",
    "        self.n_rk = n_rk\n",
    "        self.n_factors = n_factors\n",
    "        self.user_factors = torch.nn.Embedding(n_users, n_factors)\n",
    "        self.entity_factors = torch.nn.Embedding(n_entity, n_factors)\n",
    "        self.relation_k = torch.nn.Embedding(n_factors, n_rk)\n",
    "\n",
    "    def forward(self, user_id, artists_id, categories_id,rate):\n",
    "        '''\n",
    "        user_factors: n_users * 64\n",
    "        entity_factors: n_entity * 64\n",
    "        relation_k: 64 * 3\n",
    "        artists_id is the index of authors\n",
    "        categories_id is the the index of genres\n",
    "        '''\n",
    "\n",
    "        users = self.user_factors(user_id)  # 128 * 8 We get the representation of users\n",
    "        aspects = self.entity_factors  # n_entity * 8 We get the representation of aspects\n",
    "        \n",
    "        \n",
    "        users = F.dropout(users, p=rate, training=self.training) ## Here we apply dropout \n",
    "        \n",
    "        '''\n",
    "        Compute the importance of each aspects\n",
    "        '''\n",
    "        scores = torch.matmul(users, F.dropout(\n",
    "            self.relation_k.weight, p=rate, training=self.training))  # 128 * 3 Here, we compute the score of each attribute type to users, Equation 1 in the paper\n",
    "        scores = leaky(scores)\n",
    "        m = torch.nn.Softmax(dim=1)  # 128 * 3 \n",
    "        scores = m(scores)  # 128 * 3 We normalize the score to get the importance of each attribute type to users, Equation 2 in the paper\n",
    "\n",
    "\n",
    "        '''\n",
    "        Compute the importance of each aspects\n",
    "        '''\n",
    "        scores_actors = scores[:, 0]  # 128,\n",
    "        scores_directors = scores[:, 1]  # 128,\n",
    "\n",
    "        '''\n",
    "        Compute the contribution of each aspects\n",
    "        '''\n",
    "        contribute_actors, niubi_act = calculate_score(\n",
    "            artists_id, users, aspects)\n",
    "        contribute_directors, niubi_dir = calculate_score(\n",
    "            categories_id, users, aspects)\n",
    "\n",
    "        '''\n",
    "        Compute the final predictions\n",
    "        '''\n",
    "        importance_sum = scores_actors + scores_directors\n",
    "        prediction_sum = contribute_actors * scores_actors + \\\n",
    "            contribute_directors * scores_directors\n",
    "        prediction = prediction_sum / importance_sum\n",
    "        cnm = [niubi_act, niubi_dir]\n",
    "\n",
    "        return prediction, scores, contribute_actors, contribute_directors, cnm\n",
    "    \n",
    "        '''\n",
    "        prediction is the the prediction of ratings; \n",
    "        scores represent the importance of each attribute type;\n",
    "        contribute_actors denote the contribution of authors;\n",
    "        contribute_directors denote the contribution of genres;\n",
    "        cnm is score before averaging\n",
    "        ''' \n",
    "\n",
    "\n",
    "# In[ ]:\n",
    "\n",
    "\n",
    "\n",
    "\n"
   ]
  },
  {
   "cell_type": "code",
   "execution_count": 11,
   "metadata": {},
   "outputs": [],
   "source": [
    "from data_loader import read_attributes"
   ]
  },
  {
   "cell_type": "code",
   "execution_count": 13,
   "metadata": {},
   "outputs": [],
   "source": [
    "a = read_attributes('music')"
   ]
  },
  {
   "cell_type": "code",
   "execution_count": 16,
   "metadata": {},
   "outputs": [
    {
     "name": "stdout",
     "output_type": "stream",
     "text": [
      "None\n"
     ]
    }
   ],
   "source": [
    "print(a)"
   ]
  },
  {
   "cell_type": "code",
   "execution_count": 34,
   "metadata": {},
   "outputs": [],
   "source": [
    "ratings = pd.read_excel('data/music/Data_InCarMusic.xlsx', usecols=[0,1,2], sheet_name='ContextualRating')\n",
    "       \n",
    "    \n",
    "music_df = pd.read_excel('data/music/Data_InCarMusic.xlsx', usecols=[0,2,7], sheet_name='Music Track')\n",
    "genre_map = {1: 'Blues music', 2: 'Classical music', 3: 'Country music', 4: 'Disco music', 5: 'Hip Hop music', 6: 'Jazz music',\n",
    "              7: 'Metal music', 8: 'Pop music', 9: 'Reggae music', 10: 'Rock music'}\n",
    "music_df = music_df.rename(columns = {' category_id':'category_id',' artist':'artist'})\n",
    "music_df['category_id'] = music_df['category_id'].map(genre_map)\n"
   ]
  },
  {
   "cell_type": "code",
   "execution_count": 35,
   "metadata": {},
   "outputs": [
    {
     "data": {
      "text/plain": [
       "Index(['UserID', 'ItemID', ' Rating'], dtype='object')"
      ]
     },
     "execution_count": 35,
     "metadata": {},
     "output_type": "execute_result"
    }
   ],
   "source": [
    "ratings.columns"
   ]
  },
  {
   "cell_type": "code",
   "execution_count": 36,
   "metadata": {},
   "outputs": [
    {
     "data": {
      "text/plain": [
       "Index(['id', 'artist', 'category_id'], dtype='object')"
      ]
     },
     "execution_count": 36,
     "metadata": {},
     "output_type": "execute_result"
    }
   ],
   "source": [
    "music_df.columns"
   ]
  },
  {
   "cell_type": "code",
   "execution_count": 37,
   "metadata": {},
   "outputs": [
    {
     "name": "stderr",
     "output_type": "stream",
     "text": [
      "<ipython-input-37-84ab6652ac08>:12: FutureWarning: In a future version, passing float-dtype values containing NaN and an integer dtype will raise IntCastingNaNError (subclass of ValueError) instead of silently ignoring the passed dtype. To retain the old behavior, call Series(arr) or DataFrame(arr) without passing a dtype.\n",
      "  cartegory = pd.DataFrame.from_dict(\n",
      "<ipython-input-37-84ab6652ac08>:14: FutureWarning: In a future version, passing float-dtype values containing NaN and an integer dtype will raise IntCastingNaNError (subclass of ValueError) instead of silently ignoring the passed dtype. To retain the old behavior, call Series(arr) or DataFrame(arr) without passing a dtype.\n",
      "  artist = pd.DataFrame.from_dict(\n"
     ]
    }
   ],
   "source": [
    "\n",
    "\n",
    "  # Stock the attributes of music in a dictionary\n",
    "info = {}\n",
    "for ind in music_df.index:\n",
    "    music = music_df['id'][ind]\n",
    "    info.setdefault(music, {})\n",
    "    info[music]['artist'] = [music_df['artist'][ind]]\n",
    "    info[music]['category'] = [music_df['category_id'][ind]]\n",
    "\n",
    "music_category = dict_movie_aspect(info, \"category\")\n",
    "music_artist = dict_movie_aspect(info, 'artist')\n",
    "\n",
    "cartegory = pd.DataFrame.from_dict(\n",
    "        music_category, dtype='int64', orient='index').T.replace(np.nan, 0).index\n",
    "artist = pd.DataFrame.from_dict(\n",
    "        music_artist, dtype='int64', orient='index').T.replace(np.nan, 0).index\n",
    "\n",
    "category_dict = dict(zip(cartegory, range(len(cartegory))))\n",
    "artist_dict = dict(\n",
    "        zip(artist, range(len(cartegory), len(cartegory) + len(artist))))"
   ]
  },
  {
   "cell_type": "code",
   "execution_count": 39,
   "metadata": {},
   "outputs": [
    {
     "data": {
      "text/plain": [
       "Index(['id', 'artist', 'category_id'], dtype='object')"
      ]
     },
     "execution_count": 39,
     "metadata": {},
     "output_type": "execute_result"
    }
   ],
   "source": [
    "music_df.columns"
   ]
  },
  {
   "cell_type": "code",
   "execution_count": 40,
   "metadata": {},
   "outputs": [],
   "source": [
    "ratings = pd.read_excel('data/music/Data_InCarMusic.xlsx', usecols=[0,1,2], sheet_name='ContextualRating')\n",
    "       \n",
    "    \n",
    "music_df = pd.read_excel('data/music/Data_InCarMusic.xlsx', usecols=[0,2,7], sheet_name='Music Track')"
   ]
  },
  {
   "cell_type": "code",
   "execution_count": 43,
   "metadata": {},
   "outputs": [
    {
     "data": {
      "text/plain": [
       "Index(['UserID', 'ItemID', ' Rating'], dtype='object')"
      ]
     },
     "execution_count": 43,
     "metadata": {},
     "output_type": "execute_result"
    }
   ],
   "source": [
    "ratings.columns"
   ]
  },
  {
   "cell_type": "code",
   "execution_count": 42,
   "metadata": {},
   "outputs": [
    {
     "data": {
      "text/html": [
       "<div>\n",
       "<style scoped>\n",
       "    .dataframe tbody tr th:only-of-type {\n",
       "        vertical-align: middle;\n",
       "    }\n",
       "\n",
       "    .dataframe tbody tr th {\n",
       "        vertical-align: top;\n",
       "    }\n",
       "\n",
       "    .dataframe thead th {\n",
       "        text-align: right;\n",
       "    }\n",
       "</style>\n",
       "<table border=\"1\" class=\"dataframe\">\n",
       "  <thead>\n",
       "    <tr style=\"text-align: right;\">\n",
       "      <th></th>\n",
       "      <th>id</th>\n",
       "      <th>artist</th>\n",
       "      <th>category_id</th>\n",
       "    </tr>\n",
       "  </thead>\n",
       "  <tbody>\n",
       "    <tr>\n",
       "      <th>0</th>\n",
       "      <td>248</td>\n",
       "      <td>B.B.King</td>\n",
       "      <td>1</td>\n",
       "    </tr>\n",
       "    <tr>\n",
       "      <th>1</th>\n",
       "      <td>250</td>\n",
       "      <td>Mamie Smith</td>\n",
       "      <td>1</td>\n",
       "    </tr>\n",
       "    <tr>\n",
       "      <th>2</th>\n",
       "      <td>251</td>\n",
       "      <td>Robert Johnson</td>\n",
       "      <td>1</td>\n",
       "    </tr>\n",
       "    <tr>\n",
       "      <th>3</th>\n",
       "      <td>252</td>\n",
       "      <td>T-Bone Walker</td>\n",
       "      <td>1</td>\n",
       "    </tr>\n",
       "    <tr>\n",
       "      <th>4</th>\n",
       "      <td>253</td>\n",
       "      <td>Antonio Vivaldi</td>\n",
       "      <td>2</td>\n",
       "    </tr>\n",
       "    <tr>\n",
       "      <th>...</th>\n",
       "      <td>...</td>\n",
       "      <td>...</td>\n",
       "      <td>...</td>\n",
       "    </tr>\n",
       "    <tr>\n",
       "      <th>134</th>\n",
       "      <td>759</td>\n",
       "      <td>Fettes Brot</td>\n",
       "      <td>8</td>\n",
       "    </tr>\n",
       "    <tr>\n",
       "      <th>135</th>\n",
       "      <td>761</td>\n",
       "      <td>Lady GaGa</td>\n",
       "      <td>8</td>\n",
       "    </tr>\n",
       "    <tr>\n",
       "      <th>136</th>\n",
       "      <td>760</td>\n",
       "      <td>Bon Jovi</td>\n",
       "      <td>10</td>\n",
       "    </tr>\n",
       "    <tr>\n",
       "      <th>137</th>\n",
       "      <td>762</td>\n",
       "      <td>DJ Gollum vs. Basslovers United</td>\n",
       "      <td>4</td>\n",
       "    </tr>\n",
       "    <tr>\n",
       "      <th>138</th>\n",
       "      <td>758</td>\n",
       "      <td>Dominik Buchele</td>\n",
       "      <td>8</td>\n",
       "    </tr>\n",
       "  </tbody>\n",
       "</table>\n",
       "<p>139 rows × 3 columns</p>\n",
       "</div>"
      ],
      "text/plain": [
       "      id                           artist   category_id\n",
       "0    248                         B.B.King             1\n",
       "1    250                      Mamie Smith             1\n",
       "2    251                   Robert Johnson             1\n",
       "3    252                    T-Bone Walker             1\n",
       "4    253                  Antonio Vivaldi             2\n",
       "..   ...                              ...           ...\n",
       "134  759                      Fettes Brot             8\n",
       "135  761                        Lady GaGa             8\n",
       "136  760                         Bon Jovi            10\n",
       "137  762  DJ Gollum vs. Basslovers United             4\n",
       "138  758                  Dominik Buchele             8\n",
       "\n",
       "[139 rows x 3 columns]"
      ]
     },
     "execution_count": 42,
     "metadata": {},
     "output_type": "execute_result"
    }
   ],
   "source": [
    "music_df"
   ]
  },
  {
   "cell_type": "code",
   "execution_count": null,
   "metadata": {},
   "outputs": [],
   "source": []
  }
 ],
 "metadata": {
  "kernelspec": {
   "display_name": "Python 3",
   "language": "python",
   "name": "python3"
  },
  "language_info": {
   "codemirror_mode": {
    "name": "ipython",
    "version": 3
   },
   "file_extension": ".py",
   "mimetype": "text/x-python",
   "name": "python",
   "nbconvert_exporter": "python",
   "pygments_lexer": "ipython3",
   "version": "3.8.3"
  }
 },
 "nbformat": 4,
 "nbformat_minor": 4
}
