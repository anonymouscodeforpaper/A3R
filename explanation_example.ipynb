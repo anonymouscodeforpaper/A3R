{
 "cells": [
  {
   "cell_type": "code",
   "execution_count": null,
   "metadata": {
    "colab": {
     "base_uri": "https://localhost:8080/"
    },
    "id": "1kj-ghjlB4Ha",
    "outputId": "873ef212-2fe2-4850-85ff-e7897877b8be"
   },
   "outputs": [
    {
     "name": "stdout",
     "output_type": "stream",
     "text": [
      "Mounted at /content/gdrive\n"
     ]
    }
   ],
   "source": [
    "from google.colab import drive\n",
    "drive.mount('/content/gdrive')"
   ]
  },
  {
   "cell_type": "code",
   "execution_count": null,
   "metadata": {
    "id": "gL5nYOLIP6Lm"
   },
   "outputs": [],
   "source": [
    "import pickle\n",
    "import pandas as pd\n",
    "import torch\n",
    "from torch import nn\n",
    "from sklearn.preprocessing import LabelEncoder\n",
    "from concurrent.futures import ProcessPoolExecutor\n",
    "import numpy as np\n",
    "from operator import itemgetter\n",
    "THREADS = 16\n",
    "from sklearn.metrics import precision_score\n",
    "from sklearn.metrics import recall_score\n",
    "from sklearn.metrics import f1_score\n",
    "import time"
   ]
  },
  {
   "cell_type": "code",
   "execution_count": null,
   "metadata": {
    "id": "Pu8ORD1mP8Or"
   },
   "outputs": [],
   "source": [
    "import pickle\n",
    "import pandas as pd\n",
    "import torch\n",
    "from torch import nn\n",
    "from sklearn.preprocessing import LabelEncoder\n",
    "from concurrent.futures import ProcessPoolExecutor\n",
    "import numpy as np\n",
    "from operator import itemgetter\n",
    "THREADS = 16\n",
    "from sklearn.metrics import precision_score\n",
    "from sklearn.metrics import recall_score\n",
    "from sklearn.metrics import f1_score\n",
    "import time\n",
    "import torch.nn.functional as F\n",
    "loss_func = torch.nn.MSELoss()"
   ]
  },
  {
   "cell_type": "code",
   "execution_count": null,
   "metadata": {
    "id": "wlnTH5z5P9zN"
   },
   "outputs": [],
   "source": [
    "ratings = pd.read_pickle('/content/gdrive/My Drive/drive/data/netflix/movie_ratings_500_id.pkl')\n",
    "films = pd.read_pickle('/content/gdrive/My Drive/drive/data/netflix/movie_metadata.pkl')"
   ]
  },
  {
   "cell_type": "code",
   "execution_count": null,
   "metadata": {
    "id": "VyBcQui0P_uW"
   },
   "outputs": [],
   "source": [
    "row = []\n",
    "for mid,haha in ratings.items():\n",
    "    for info in haha:\n",
    "        info['movie'] = mid\n",
    "        row.append(info)\n",
    "df_ratings = pd.DataFrame(row)\n",
    "row = []\n",
    "for mid,haha in films.items():\n",
    "    haha['movie'] = mid\n",
    "    row.append(haha)\n",
    "df_movie = pd.DataFrame(row)"
   ]
  },
  {
   "cell_type": "code",
   "execution_count": null,
   "metadata": {
    "colab": {
     "base_uri": "https://localhost:8080/",
     "height": 424
    },
    "id": "hfseEHhJQBtB",
    "outputId": "9403767a-024e-4720-a5a5-99ce6abc68ed"
   },
   "outputs": [
    {
     "data": {
      "text/html": [
       "\n",
       "  <div id=\"df-9515868c-a373-48d6-bdf3-6caa4edc95bb\">\n",
       "    <div class=\"colab-df-container\">\n",
       "      <div>\n",
       "<style scoped>\n",
       "    .dataframe tbody tr th:only-of-type {\n",
       "        vertical-align: middle;\n",
       "    }\n",
       "\n",
       "    .dataframe tbody tr th {\n",
       "        vertical-align: top;\n",
       "    }\n",
       "\n",
       "    .dataframe thead th {\n",
       "        text-align: right;\n",
       "    }\n",
       "</style>\n",
       "<table border=\"1\" class=\"dataframe\">\n",
       "  <thead>\n",
       "    <tr style=\"text-align: right;\">\n",
       "      <th></th>\n",
       "      <th>director</th>\n",
       "      <th>genre</th>\n",
       "      <th>actors</th>\n",
       "      <th>title</th>\n",
       "      <th>movie</th>\n",
       "    </tr>\n",
       "  </thead>\n",
       "  <tbody>\n",
       "    <tr>\n",
       "      <th>0</th>\n",
       "      <td>Peter Segal</td>\n",
       "      <td>[Comedy]</td>\n",
       "      <td>[Jack Nicholson, Adam Sandler, Marisa Tomei, W...</td>\n",
       "      <td>Anger Management</td>\n",
       "      <td>tt0305224</td>\n",
       "    </tr>\n",
       "    <tr>\n",
       "      <th>1</th>\n",
       "      <td>Gillian Armstrong</td>\n",
       "      <td>[Drama, Romance, Thriller]</td>\n",
       "      <td>[Cate Blanchett, James Fleet, Abigail Cruttenden]</td>\n",
       "      <td>Charlotte Gray</td>\n",
       "      <td>tt0245046</td>\n",
       "    </tr>\n",
       "    <tr>\n",
       "      <th>2</th>\n",
       "      <td>Pedro Almodóvar</td>\n",
       "      <td>[Drama]</td>\n",
       "      <td>[Cecilia Roth, Marisa Paredes, Candela Peña, P...</td>\n",
       "      <td>All About My Mother</td>\n",
       "      <td>tt0185125</td>\n",
       "    </tr>\n",
       "    <tr>\n",
       "      <th>3</th>\n",
       "      <td>Ben Stiller</td>\n",
       "      <td>[Comedy]</td>\n",
       "      <td>[Ben Stiller, Owen Wilson, Christine Taylor, W...</td>\n",
       "      <td>Zoolander</td>\n",
       "      <td>tt0196229</td>\n",
       "    </tr>\n",
       "    <tr>\n",
       "      <th>4</th>\n",
       "      <td>Marc Forster</td>\n",
       "      <td>[Biography, Drama, Family]</td>\n",
       "      <td>[Johnny Depp, Kate Winslet, Julie Christie, Du...</td>\n",
       "      <td>Finding Neverland</td>\n",
       "      <td>tt0308644</td>\n",
       "    </tr>\n",
       "    <tr>\n",
       "      <th>...</th>\n",
       "      <td>...</td>\n",
       "      <td>...</td>\n",
       "      <td>...</td>\n",
       "      <td>...</td>\n",
       "      <td>...</td>\n",
       "    </tr>\n",
       "    <tr>\n",
       "      <th>523</th>\n",
       "      <td>George Tillman Jr.</td>\n",
       "      <td>[Biography, Drama]</td>\n",
       "      <td>[Cuba Gooding Jr., Robert De Niro, Charlize Th...</td>\n",
       "      <td>Men of Honor</td>\n",
       "      <td>tt0203019</td>\n",
       "    </tr>\n",
       "    <tr>\n",
       "      <th>524</th>\n",
       "      <td>Sam Mendes</td>\n",
       "      <td>[Drama, Romance]</td>\n",
       "      <td>[Kevin Spacey, Annette Bening, Thora Birch, We...</td>\n",
       "      <td>American Beauty</td>\n",
       "      <td>tt0169547</td>\n",
       "    </tr>\n",
       "    <tr>\n",
       "      <th>525</th>\n",
       "      <td>Robert Rodriguez</td>\n",
       "      <td>[Action, Adventure, Comedy]</td>\n",
       "      <td>[Alexa PenaVega, Daryl Sabara, Antonio Banderas]</td>\n",
       "      <td>Spy Kids</td>\n",
       "      <td>tt0227538</td>\n",
       "    </tr>\n",
       "    <tr>\n",
       "      <th>526</th>\n",
       "      <td>Nora Ephron</td>\n",
       "      <td>[Comedy, Fantasy, Romance]</td>\n",
       "      <td>[Nicole Kidman, Will Ferrell, Shirley MacLaine...</td>\n",
       "      <td>Bewitched</td>\n",
       "      <td>tt0374536</td>\n",
       "    </tr>\n",
       "    <tr>\n",
       "      <th>527</th>\n",
       "      <td>Brad Anderson</td>\n",
       "      <td>[Drama, Thriller]</td>\n",
       "      <td>[Christian Bale, Jennifer Jason Leigh, Aitana ...</td>\n",
       "      <td>The Machinist</td>\n",
       "      <td>tt0361862</td>\n",
       "    </tr>\n",
       "  </tbody>\n",
       "</table>\n",
       "<p>528 rows × 5 columns</p>\n",
       "</div>\n",
       "      <button class=\"colab-df-convert\" onclick=\"convertToInteractive('df-9515868c-a373-48d6-bdf3-6caa4edc95bb')\"\n",
       "              title=\"Convert this dataframe to an interactive table.\"\n",
       "              style=\"display:none;\">\n",
       "        \n",
       "  <svg xmlns=\"http://www.w3.org/2000/svg\" height=\"24px\"viewBox=\"0 0 24 24\"\n",
       "       width=\"24px\">\n",
       "    <path d=\"M0 0h24v24H0V0z\" fill=\"none\"/>\n",
       "    <path d=\"M18.56 5.44l.94 2.06.94-2.06 2.06-.94-2.06-.94-.94-2.06-.94 2.06-2.06.94zm-11 1L8.5 8.5l.94-2.06 2.06-.94-2.06-.94L8.5 2.5l-.94 2.06-2.06.94zm10 10l.94 2.06.94-2.06 2.06-.94-2.06-.94-.94-2.06-.94 2.06-2.06.94z\"/><path d=\"M17.41 7.96l-1.37-1.37c-.4-.4-.92-.59-1.43-.59-.52 0-1.04.2-1.43.59L10.3 9.45l-7.72 7.72c-.78.78-.78 2.05 0 2.83L4 21.41c.39.39.9.59 1.41.59.51 0 1.02-.2 1.41-.59l7.78-7.78 2.81-2.81c.8-.78.8-2.07 0-2.86zM5.41 20L4 18.59l7.72-7.72 1.47 1.35L5.41 20z\"/>\n",
       "  </svg>\n",
       "      </button>\n",
       "      \n",
       "  <style>\n",
       "    .colab-df-container {\n",
       "      display:flex;\n",
       "      flex-wrap:wrap;\n",
       "      gap: 12px;\n",
       "    }\n",
       "\n",
       "    .colab-df-convert {\n",
       "      background-color: #E8F0FE;\n",
       "      border: none;\n",
       "      border-radius: 50%;\n",
       "      cursor: pointer;\n",
       "      display: none;\n",
       "      fill: #1967D2;\n",
       "      height: 32px;\n",
       "      padding: 0 0 0 0;\n",
       "      width: 32px;\n",
       "    }\n",
       "\n",
       "    .colab-df-convert:hover {\n",
       "      background-color: #E2EBFA;\n",
       "      box-shadow: 0px 1px 2px rgba(60, 64, 67, 0.3), 0px 1px 3px 1px rgba(60, 64, 67, 0.15);\n",
       "      fill: #174EA6;\n",
       "    }\n",
       "\n",
       "    [theme=dark] .colab-df-convert {\n",
       "      background-color: #3B4455;\n",
       "      fill: #D2E3FC;\n",
       "    }\n",
       "\n",
       "    [theme=dark] .colab-df-convert:hover {\n",
       "      background-color: #434B5C;\n",
       "      box-shadow: 0px 1px 3px 1px rgba(0, 0, 0, 0.15);\n",
       "      filter: drop-shadow(0px 1px 2px rgba(0, 0, 0, 0.3));\n",
       "      fill: #FFFFFF;\n",
       "    }\n",
       "  </style>\n",
       "\n",
       "      <script>\n",
       "        const buttonEl =\n",
       "          document.querySelector('#df-9515868c-a373-48d6-bdf3-6caa4edc95bb button.colab-df-convert');\n",
       "        buttonEl.style.display =\n",
       "          google.colab.kernel.accessAllowed ? 'block' : 'none';\n",
       "\n",
       "        async function convertToInteractive(key) {\n",
       "          const element = document.querySelector('#df-9515868c-a373-48d6-bdf3-6caa4edc95bb');\n",
       "          const dataTable =\n",
       "            await google.colab.kernel.invokeFunction('convertToInteractive',\n",
       "                                                     [key], {});\n",
       "          if (!dataTable) return;\n",
       "\n",
       "          const docLinkHtml = 'Like what you see? Visit the ' +\n",
       "            '<a target=\"_blank\" href=https://colab.research.google.com/notebooks/data_table.ipynb>data table notebook</a>'\n",
       "            + ' to learn more about interactive tables.';\n",
       "          element.innerHTML = '';\n",
       "          dataTable['output_type'] = 'display_data';\n",
       "          await google.colab.output.renderOutput(dataTable, element);\n",
       "          const docLink = document.createElement('div');\n",
       "          docLink.innerHTML = docLinkHtml;\n",
       "          element.appendChild(docLink);\n",
       "        }\n",
       "      </script>\n",
       "    </div>\n",
       "  </div>\n",
       "  "
      ],
      "text/plain": [
       "               director                        genre  \\\n",
       "0           Peter Segal                     [Comedy]   \n",
       "1     Gillian Armstrong   [Drama, Romance, Thriller]   \n",
       "2       Pedro Almodóvar                      [Drama]   \n",
       "3           Ben Stiller                     [Comedy]   \n",
       "4          Marc Forster   [Biography, Drama, Family]   \n",
       "..                  ...                          ...   \n",
       "523  George Tillman Jr.           [Biography, Drama]   \n",
       "524          Sam Mendes             [Drama, Romance]   \n",
       "525    Robert Rodriguez  [Action, Adventure, Comedy]   \n",
       "526         Nora Ephron   [Comedy, Fantasy, Romance]   \n",
       "527       Brad Anderson            [Drama, Thriller]   \n",
       "\n",
       "                                                actors                title  \\\n",
       "0    [Jack Nicholson, Adam Sandler, Marisa Tomei, W...     Anger Management   \n",
       "1    [Cate Blanchett, James Fleet, Abigail Cruttenden]       Charlotte Gray   \n",
       "2    [Cecilia Roth, Marisa Paredes, Candela Peña, P...  All About My Mother   \n",
       "3    [Ben Stiller, Owen Wilson, Christine Taylor, W...            Zoolander   \n",
       "4    [Johnny Depp, Kate Winslet, Julie Christie, Du...    Finding Neverland   \n",
       "..                                                 ...                  ...   \n",
       "523  [Cuba Gooding Jr., Robert De Niro, Charlize Th...         Men of Honor   \n",
       "524  [Kevin Spacey, Annette Bening, Thora Birch, We...      American Beauty   \n",
       "525   [Alexa PenaVega, Daryl Sabara, Antonio Banderas]             Spy Kids   \n",
       "526  [Nicole Kidman, Will Ferrell, Shirley MacLaine...            Bewitched   \n",
       "527  [Christian Bale, Jennifer Jason Leigh, Aitana ...        The Machinist   \n",
       "\n",
       "         movie  \n",
       "0    tt0305224  \n",
       "1    tt0245046  \n",
       "2    tt0185125  \n",
       "3    tt0196229  \n",
       "4    tt0308644  \n",
       "..         ...  \n",
       "523  tt0203019  \n",
       "524  tt0169547  \n",
       "525  tt0227538  \n",
       "526  tt0374536  \n",
       "527  tt0361862  \n",
       "\n",
       "[528 rows x 5 columns]"
      ]
     },
     "execution_count": 7,
     "metadata": {},
     "output_type": "execute_result"
    }
   ],
   "source": [
    "df_movie"
   ]
  },
  {
   "cell_type": "code",
   "execution_count": null,
   "metadata": {
    "id": "gFc876mVQNcJ"
   },
   "outputs": [],
   "source": [
    "a = df_movie['director'].value_counts()[df_movie['director'].value_counts() >= 2]\n",
    "df_movie = df_movie[df_movie['director'].isin(list(a.index))]\n",
    "df_movie.index = range(len(df_movie))"
   ]
  },
  {
   "cell_type": "code",
   "execution_count": null,
   "metadata": {
    "id": "8m0j4cKvQQ3B"
   },
   "outputs": [],
   "source": [
    "DEVICE = \"cuda\" if torch.cuda.is_available() else \"cpu\""
   ]
  },
  {
   "cell_type": "code",
   "execution_count": null,
   "metadata": {
    "id": "leCZ0WU3QQ66"
   },
   "outputs": [],
   "source": [
    "final = pd.merge(df_movie,df_ratings,on='movie')\n",
    "a = final['user_id'].value_counts()[final['user_id'].value_counts() >= 10]\n",
    "final = final[final['user_id'].isin(list(a.index))]\n",
    "final.index = range(len(final))\n",
    "hehe = final.copy()\n",
    "del hehe['title']\n",
    "del hehe['user_rating_date']"
   ]
  },
  {
   "cell_type": "code",
   "execution_count": null,
   "metadata": {
    "id": "2ljV6-DBQQ8-"
   },
   "outputs": [],
   "source": [
    "movie = dict()\n",
    "for i in range(df_movie.shape[0]):\n",
    "    m = df_movie['movie'][i]\n",
    "    movie.setdefault(m,dict())\n",
    "    movie[m]['director'] = df_movie['director'][i]\n",
    "    movie[m]['genre'] = df_movie['genre'][i]\n",
    "    movie[m]['actors'] = df_movie['actors'][i]\n",
    "    movie[m]['title'] = df_movie['title'][i]"
   ]
  },
  {
   "cell_type": "code",
   "execution_count": null,
   "metadata": {
    "id": "qNj24E1gQRAY"
   },
   "outputs": [],
   "source": [
    "def map_aspect_values_to_movies(x):\n",
    "    (film, meta), aspect = x\n",
    "    aspects = dict()\n",
    "    if aspect == \"director\":\n",
    "        aspects[meta[aspect]] = 1\n",
    "    else:\n",
    "        for g in meta[aspect]:\n",
    "            aspects[g] = 1\n",
    "    return film, meta, aspects\n",
    "\n",
    "\n",
    "def dict_movie_aspect(paper_films, aspect):\n",
    "    paper_films_aspect_prepended = map(\n",
    "        lambda e: (e, aspect), list(paper_films.items()))\n",
    "    aspect_dict = dict()\n",
    "    with ProcessPoolExecutor(max_workers=THREADS) as executor:\n",
    "        results = executor.map(map_aspect_values_to_movies,\n",
    "                               paper_films_aspect_prepended)\n",
    "    for film, meta, aspects in results:\n",
    "        aspect_dict[film + \"_\" + meta[\"title\"]] = aspects\n",
    "    return aspect_dict"
   ]
  },
  {
   "cell_type": "code",
   "execution_count": null,
   "metadata": {
    "id": "awwCj4kXQRDJ"
   },
   "outputs": [],
   "source": [
    "movie_genres = dict_movie_aspect(movie, \"genre\")\n",
    "movie_directors = dict_movie_aspect(movie,'director')\n",
    "movie_actors = dict_movie_aspect(movie,'actors')\n",
    "actors = pd.DataFrame.from_dict(movie_actors,dtype = 'int64',orient = 'index').T.replace(np.nan, 0).index\n",
    "directors = pd.DataFrame.from_dict(movie_directors,dtype = 'int64',orient = 'index').T.replace(np.nan, 0).index\n",
    "genres = pd.DataFrame.from_dict(movie_genres,dtype = 'int64',orient = 'index').T.replace(np.nan, 0).index"
   ]
  },
  {
   "cell_type": "code",
   "execution_count": null,
   "metadata": {
    "colab": {
     "base_uri": "https://localhost:8080/"
    },
    "id": "uf_a0yCJQRF2",
    "outputId": "09ec696a-e137-4ef4-8147-e87eaf8801f7"
   },
   "outputs": [
    {
     "data": {
      "text/plain": [
       "(507, 608, 626)"
      ]
     },
     "execution_count": 14,
     "metadata": {},
     "output_type": "execute_result"
    }
   ],
   "source": [
    "actors_dict = dict(zip(actors, range(len(actors))))\n",
    "directors_dict = dict(zip(directors, range(\n",
    "    len(actors), len(actors) + len(directors))))\n",
    "genres_dict = dict(zip(genres, range(\n",
    "    len(actors) + len(directors), len(actors) + len(directors) + len(genres))))\n",
    "max(actors_dict.values()),max(directors_dict.values()),max(genres_dict.values())"
   ]
  },
  {
   "cell_type": "code",
   "execution_count": null,
   "metadata": {
    "id": "lhEPf9f-QRIp"
   },
   "outputs": [],
   "source": [
    "def change_director(x):\n",
    "    return [itemgetter(x)(directors_dict)]\n",
    "\n",
    "\n",
    "def change_actor(x):\n",
    "    return change_list((itemgetter(*x)(actors_dict)))\n",
    "\n",
    "\n",
    "def change_genre(x):\n",
    "    qunima = itemgetter(*x)(genres_dict)\n",
    "    if type(qunima) == int:\n",
    "        return [qunima]\n",
    "    else:\n",
    "        return change_list(qunima)\n",
    "\n",
    "\n",
    "def change_list(x):\n",
    "    return list(x)"
   ]
  },
  {
   "cell_type": "code",
   "execution_count": null,
   "metadata": {
    "id": "YfWf6cr7QRLb"
   },
   "outputs": [],
   "source": [
    "hehe['director'] = hehe['director'].map(change_director)\n",
    "hehe['actors'] = hehe['actors'].map(change_actor)\n",
    "hehe['genre'] = hehe['genre'].map(change_genre)"
   ]
  },
  {
   "cell_type": "code",
   "execution_count": null,
   "metadata": {
    "id": "L6bWHor8QRNR"
   },
   "outputs": [],
   "source": [
    "hehe = hehe[['user_id','movie','actors','director','genre','user_rating']]\n",
    "hehe['user_rating'] = hehe['user_rating'].astype('float')"
   ]
  },
  {
   "cell_type": "code",
   "execution_count": null,
   "metadata": {
    "id": "mSERuaQcQRRj"
   },
   "outputs": [],
   "source": [
    "le = LabelEncoder()\n",
    "y_user = le.fit_transform(hehe['user_id'])\n",
    "hehe['user_id'] = y_user\n",
    "\n",
    "y_movie = le.fit_transform(hehe['movie'])\n",
    "hehe['movie'] = y_movie\n"
   ]
  },
  {
   "cell_type": "code",
   "execution_count": null,
   "metadata": {
    "colab": {
     "base_uri": "https://localhost:8080/"
    },
    "id": "vi7CRQesQRUo",
    "outputId": "ee0ed53d-8236-4014-897e-3cfc41448f75"
   },
   "outputs": [
    {
     "name": "stdout",
     "output_type": "stream",
     "text": [
      "The number of aspects is 627\n",
      "The number of users is 2802\n"
     ]
    }
   ],
   "source": [
    "print(\"The number of aspects is {}\".format(max(genres_dict.values()) + 1))\n",
    "print(\"The number of users is {}\".format(max(hehe['user_id'])+1))"
   ]
  },
  {
   "cell_type": "code",
   "execution_count": null,
   "metadata": {
    "id": "J7g5Ijs7QRWi"
   },
   "outputs": [],
   "source": [
    "from tqdm import tqdm\n",
    "from torch.nn import LeakyReLU\n",
    "leaky = LeakyReLU(0.2)\n",
    "\n",
    "def calculate_score(x, users, aspects):\n",
    "    niubi = []\n",
    "    # users: 128 * 8\n",
    "    first = x.index[0]\n",
    "    val_base = x[first]\n",
    "    actor_base = torch.LongTensor(val_base).to(DEVICE)\n",
    "    actors_base = aspects(actor_base)  # 3 * 8\n",
    "    #actors_base = actors_base + items[first % 128].unsqueeze(1)\n",
    "    #actors_base = F.dropout(actors_base, p=rate, training=True)\n",
    "    pre_rating = torch.mm(actors_base, users[first].unsqueeze(1))\n",
    "    niubi.append(pre_rating)\n",
    "    pre_rating = pre_rating / pre_rating.shape[0]\n",
    "    pre_rating = pre_rating.sum(0)\n",
    "    for i in x.index[1:]:\n",
    "        val = x[i]\n",
    "        actor = torch.LongTensor(val).to(DEVICE)\n",
    "        actors = aspects(actor)\n",
    "        pre_ra = torch.mm(actors, users[i].unsqueeze(1))\n",
    "        niubi.append(pre_ra)\n",
    "        actors_f = pre_ra / pre_ra.shape[0]\n",
    "        actors_f = actors_f.sum(0)\n",
    "        pre_rating = torch.cat((pre_rating, actors_f))\n",
    "    return pre_rating, niubi\n",
    "\n",
    "\n",
    "class aspect_augumentation(nn.Module):\n",
    "    def __init__(self, n_users, n_entity, n_rk, n_factors):\n",
    "        super(aspect_augumentation, self).__init__()\n",
    "        self.n_users = n_users\n",
    "        self.n_entity = n_entity\n",
    "        self.n_rk = n_rk\n",
    "        self.n_factors = n_factors\n",
    "        self.user_factors = torch.nn.Embedding(n_users, n_factors)\n",
    "        self.entity_factors = torch.nn.Embedding(n_entity, n_factors)\n",
    "        self.relation_k = torch.nn.Embedding(n_factors, n_rk)\n",
    "        \n",
    "\n",
    "    def forward(self, user_id, actors_id, directors_id, genres_id):\n",
    "        '''\n",
    "        user_factors: n_users * 64\n",
    "        entity_factors: n_entity * 64\n",
    "        relation_k: 64 * 3\n",
    "        '''\n",
    "        \n",
    "        users = self.user_factors(user_id)  # 128 * 8\n",
    "        aspects = self.entity_factors  # n_entity * 8\n",
    "        users = F.dropout(users, p=rate, training=self.training)\n",
    "        scores = torch.matmul(users, F.dropout(self.relation_k.weight, p=rate, training=self.training))  # 128 * 3\n",
    "        scores = leaky(scores)\n",
    "        m=torch.nn.Softmax(dim=1)  # 128 * 3\n",
    "        scores=m(scores)  # 128 * 3\n",
    "\n",
    "        '''\n",
    "        Compute the importance of each aspects\n",
    "        '''\n",
    "        scores_actors=scores[:, 0] # 128,\n",
    "        scores_directors=scores[:, 1] # 128,\n",
    "        scores_genres=scores[:, 2] # 128,\n",
    "\n",
    "        '''\n",
    "        Compute the contribution of each aspects\n",
    "        '''\n",
    "        contribute_actors,niubi_act=calculate_score(\n",
    "            actors_id, users,aspects)\n",
    "        contribute_directors, niubi_dir=calculate_score(\n",
    "            directors_id, users,aspects)\n",
    "        contribute_genres, niubi_gen=calculate_score(\n",
    "            genres_id, users, aspects)\n",
    "\n",
    "        '''\n",
    "        Compute the final predictions\n",
    "        '''\n",
    "        importance_sum=scores_actors + scores_directors + scores_genres\n",
    "        prediction_sum=contribute_actors * scores_actors + contribute_directors * scores_directors + contribute_genres * scores_genres\n",
    "        prediction=prediction_sum / importance_sum\n",
    "        cnm = [niubi_act,niubi_dir,niubi_gen]\n",
    "\n",
    "        return prediction, scores, contribute_actors, contribute_directors, contribute_genres,cnm"
   ]
  },
  {
   "cell_type": "code",
   "execution_count": null,
   "metadata": {
    "id": "RHSuQzmzQRal"
   },
   "outputs": [],
   "source": [
    "def RMSE(data, model,batch_size,items):\n",
    "    users_index = data.iloc[:, 0].values\n",
    "    users = torch.LongTensor(users_index).to(DEVICE)\n",
    "#     items_index = data.iloc[:, 0].values\n",
    "#     items = torch.LongTensor(items_index).to(DEVICE)\n",
    "    actors_id = data.iloc[:, 2]\n",
    "    directors_id = data.iloc[:, 3]\n",
    "    genres_id = data.iloc[:, 4]\n",
    "    rating = torch.FloatTensor(\n",
    "        data.iloc[:, 5].values).to(DEVICE)\n",
    "    prediction,scores,contribute_actors,contribute_directors,contribute_genres,cnm = model(users,actors_id, directors_id, genres_id)\n",
    "    rmse = loss_func(prediction, rating)\n",
    "    mae = torch.nn.L1Loss()(prediction, rating)\n",
    "    return rmse ** 0.5,mae, cnm"
   ]
  },
  {
   "cell_type": "code",
   "execution_count": null,
   "metadata": {
    "id": "5lPC9L8gQRdi"
   },
   "outputs": [],
   "source": [
    "def train(lr, dim, reg, batch_size, num_epochs, data, test):\n",
    "    model = aspect_augumentation(2802, 627, 3, dim).to(DEVICE)\n",
    "    optimizer = torch.optim.Adam(params=model.parameters(), lr=lr)\n",
    "    scheduler = torch.optim.lr_scheduler.ReduceLROnPlateau(\n",
    "        optimizer, mode='min', factor=0.5, patience=5, threshold=0.005, threshold_mode='abs')\n",
    "    for epoch in range(num_epochs):\n",
    "        model.train()\n",
    "        t1 = time.time()\n",
    "        num_example = len(data)\n",
    "        indices = list(range(num_example))\n",
    "        for i in tqdm(range(0, num_example, batch_size)):\n",
    "            optimizer.zero_grad()\n",
    "            indexs = indices[i:min(i+batch_size, num_example)]\n",
    "            users_index = data.iloc[:, 0].loc[indexs].values\n",
    "            users = torch.LongTensor(users_index).to(DEVICE)\n",
    "            items_index = data.iloc[:, 0].values\n",
    "            items = torch.LongTensor(items_index).to(DEVICE)\n",
    "            actors_id = data.iloc[:, 2].loc[indexs]\n",
    "            actors_id.index = range(len(actors_id))\n",
    "            directors_id = data.iloc[:, 3].loc[indexs]\n",
    "            directors_id.index = range(len(directors_id))\n",
    "            genres_id = data.iloc[:, 4].loc[indexs]\n",
    "            genres_id.index = range(len(genres_id))\n",
    "            rating = torch.FloatTensor(\n",
    "                data.iloc[:, 5].loc[indexs].values).to(DEVICE)\n",
    "            prediction, scores, contribute_actors, contribute_directors, contribute_genres,cnm = model(\n",
    "                users, actors_id, directors_id, genres_id)\n",
    "\n",
    "            err = loss_func(prediction, rating) + reg * ((model.user_factors.weight*model.user_factors.weight).sum() +\n",
    "                                                         (model.entity_factors.weight*model.entity_factors.weight).sum() +\n",
    "                                                         (model.relation_k.weight*model.relation_k.weight).sum())\n",
    "\n",
    "            err.backward()\n",
    "            optimizer.step()\n",
    "        t2 = time.time()\n",
    "        rmse, mae,cnm = RMSE(test, model,batch_size,items)\n",
    "        scheduler.step(rmse)\n",
    "        print(\"Epoch: \", epoch, \" Loss: \", err, \" RMSE in test set:\",\n",
    "              rmse, \"MAE in test set: \", mae)\n",
    "        print(\"Time consumed is:\", t2-t1)\n",
    "    return rmse, mae, model, cnm"
   ]
  },
  {
   "cell_type": "code",
   "execution_count": null,
   "metadata": {
    "id": "_GuYNo7kQRfU"
   },
   "outputs": [],
   "source": [
    "trainset = hehe.sample(frac=0.8, random_state=0, axis=0)\n",
    "trainset.index = range(len(trainset))\n",
    "testset = hehe[~hehe.index.isin(trainset.index)]\n",
    "testset.index = range(len(testset))\n",
    "rate = 0.0"
   ]
  },
  {
   "cell_type": "code",
   "execution_count": null,
   "metadata": {
    "id": "n53iF0LLQRjH"
   },
   "outputs": [],
   "source": [
    "def grid(lrs, dims, regs, batch_sizes, num_epochs, data, test):\n",
    "    res = []\n",
    "    models = []\n",
    "    qnm = []\n",
    "    for lr in lrs:\n",
    "        for dim in dims:\n",
    "            for reg in regs:\n",
    "                for batch_size in batch_sizes:\n",
    "                    rmse, mae,model,cnm = train(\n",
    "                        lr, dim, reg, batch_size, num_epochs, data, test)\n",
    "                    res.append(rmse)\n",
    "                    res.append(mae)\n",
    "                    models.append(model)\n",
    "                    qnm.append(cnm)\n",
    "    return res, models,qnm"
   ]
  },
  {
   "cell_type": "code",
   "execution_count": null,
   "metadata": {
    "colab": {
     "base_uri": "https://localhost:8080/"
    },
    "id": "SobUr5CFQRmF",
    "outputId": "6d62ad7d-f645-44de-ed65-7f9d29180062"
   },
   "outputs": [
    {
     "name": "stderr",
     "output_type": "stream",
     "text": [
      "100%|██████████| 268/268 [00:40<00:00,  6.58it/s]\n"
     ]
    },
    {
     "name": "stdout",
     "output_type": "stream",
     "text": [
      "Epoch:  0  Loss:  tensor(3.7389, grad_fn=<AddBackward0>)  RMSE in test set: tensor(1.6397, grad_fn=<PowBackward0>) MAE in test set:  tensor(1.2850, grad_fn=<L1LossBackward0>)\n",
      "Time consumed is: 40.74706840515137\n"
     ]
    },
    {
     "name": "stderr",
     "output_type": "stream",
     "text": [
      "100%|██████████| 268/268 [00:42<00:00,  6.28it/s]\n"
     ]
    },
    {
     "name": "stdout",
     "output_type": "stream",
     "text": [
      "Epoch:  1  Loss:  tensor(1.2640, grad_fn=<AddBackward0>)  RMSE in test set: tensor(1.0617, grad_fn=<PowBackward0>) MAE in test set:  tensor(0.8354, grad_fn=<L1LossBackward0>)\n",
      "Time consumed is: 42.6899151802063\n"
     ]
    },
    {
     "name": "stderr",
     "output_type": "stream",
     "text": [
      "100%|██████████| 268/268 [00:41<00:00,  6.53it/s]\n"
     ]
    },
    {
     "name": "stdout",
     "output_type": "stream",
     "text": [
      "Epoch:  2  Loss:  tensor(0.9200, grad_fn=<AddBackward0>)  RMSE in test set: tensor(0.9752, grad_fn=<PowBackward0>) MAE in test set:  tensor(0.7700, grad_fn=<L1LossBackward0>)\n",
      "Time consumed is: 41.054805755615234\n"
     ]
    },
    {
     "name": "stderr",
     "output_type": "stream",
     "text": [
      "100%|██████████| 268/268 [00:40<00:00,  6.55it/s]\n"
     ]
    },
    {
     "name": "stdout",
     "output_type": "stream",
     "text": [
      "Epoch:  3  Loss:  tensor(0.8400, grad_fn=<AddBackward0>)  RMSE in test set: tensor(0.9513, grad_fn=<PowBackward0>) MAE in test set:  tensor(0.7514, grad_fn=<L1LossBackward0>)\n",
      "Time consumed is: 40.89973759651184\n"
     ]
    },
    {
     "name": "stderr",
     "output_type": "stream",
     "text": [
      "100%|██████████| 268/268 [00:39<00:00,  6.81it/s]\n"
     ]
    },
    {
     "name": "stdout",
     "output_type": "stream",
     "text": [
      "Epoch:  4  Loss:  tensor(0.8113, grad_fn=<AddBackward0>)  RMSE in test set: tensor(0.9416, grad_fn=<PowBackward0>) MAE in test set:  tensor(0.7432, grad_fn=<L1LossBackward0>)\n",
      "Time consumed is: 39.361757040023804\n"
     ]
    },
    {
     "name": "stderr",
     "output_type": "stream",
     "text": [
      "100%|██████████| 268/268 [00:38<00:00,  6.99it/s]\n"
     ]
    },
    {
     "name": "stdout",
     "output_type": "stream",
     "text": [
      "Epoch:  5  Loss:  tensor(0.7988, grad_fn=<AddBackward0>)  RMSE in test set: tensor(0.9360, grad_fn=<PowBackward0>) MAE in test set:  tensor(0.7383, grad_fn=<L1LossBackward0>)\n",
      "Time consumed is: 38.37834882736206\n"
     ]
    },
    {
     "name": "stderr",
     "output_type": "stream",
     "text": [
      "100%|██████████| 268/268 [00:39<00:00,  6.74it/s]\n"
     ]
    },
    {
     "name": "stdout",
     "output_type": "stream",
     "text": [
      "Epoch:  6  Loss:  tensor(0.7866, grad_fn=<AddBackward0>)  RMSE in test set: tensor(0.9311, grad_fn=<PowBackward0>) MAE in test set:  tensor(0.7340, grad_fn=<L1LossBackward0>)\n",
      "Time consumed is: 39.746039390563965\n"
     ]
    },
    {
     "name": "stderr",
     "output_type": "stream",
     "text": [
      "100%|██████████| 268/268 [00:38<00:00,  6.99it/s]\n"
     ]
    },
    {
     "name": "stdout",
     "output_type": "stream",
     "text": [
      "Epoch:  7  Loss:  tensor(0.7679, grad_fn=<AddBackward0>)  RMSE in test set: tensor(0.9258, grad_fn=<PowBackward0>) MAE in test set:  tensor(0.7293, grad_fn=<L1LossBackward0>)\n",
      "Time consumed is: 38.340455055236816\n"
     ]
    },
    {
     "name": "stderr",
     "output_type": "stream",
     "text": [
      "100%|██████████| 268/268 [00:39<00:00,  6.79it/s]\n"
     ]
    },
    {
     "name": "stdout",
     "output_type": "stream",
     "text": [
      "Epoch:  8  Loss:  tensor(0.7411, grad_fn=<AddBackward0>)  RMSE in test set: tensor(0.9198, grad_fn=<PowBackward0>) MAE in test set:  tensor(0.7241, grad_fn=<L1LossBackward0>)\n",
      "Time consumed is: 39.503592014312744\n"
     ]
    },
    {
     "name": "stderr",
     "output_type": "stream",
     "text": [
      "100%|██████████| 268/268 [00:38<00:00,  7.00it/s]\n"
     ]
    },
    {
     "name": "stdout",
     "output_type": "stream",
     "text": [
      "Epoch:  9  Loss:  tensor(0.7102, grad_fn=<AddBackward0>)  RMSE in test set: tensor(0.9133, grad_fn=<PowBackward0>) MAE in test set:  tensor(0.7183, grad_fn=<L1LossBackward0>)\n",
      "Time consumed is: 38.27863049507141\n"
     ]
    },
    {
     "name": "stderr",
     "output_type": "stream",
     "text": [
      "100%|██████████| 268/268 [00:39<00:00,  6.77it/s]\n"
     ]
    },
    {
     "name": "stdout",
     "output_type": "stream",
     "text": [
      "Epoch:  10  Loss:  tensor(0.6816, grad_fn=<AddBackward0>)  RMSE in test set: tensor(0.9068, grad_fn=<PowBackward0>) MAE in test set:  tensor(0.7123, grad_fn=<L1LossBackward0>)\n",
      "Time consumed is: 39.60263204574585\n"
     ]
    },
    {
     "name": "stderr",
     "output_type": "stream",
     "text": [
      "100%|██████████| 268/268 [00:38<00:00,  7.03it/s]\n"
     ]
    },
    {
     "name": "stdout",
     "output_type": "stream",
     "text": [
      "Epoch:  11  Loss:  tensor(0.6607, grad_fn=<AddBackward0>)  RMSE in test set: tensor(0.9005, grad_fn=<PowBackward0>) MAE in test set:  tensor(0.7064, grad_fn=<L1LossBackward0>)\n",
      "Time consumed is: 38.160974740982056\n"
     ]
    },
    {
     "name": "stderr",
     "output_type": "stream",
     "text": [
      "100%|██████████| 268/268 [00:38<00:00,  6.90it/s]\n"
     ]
    },
    {
     "name": "stdout",
     "output_type": "stream",
     "text": [
      "Epoch:  12  Loss:  tensor(0.6333, grad_fn=<AddBackward0>)  RMSE in test set: tensor(0.8944, grad_fn=<PowBackward0>) MAE in test set:  tensor(0.7005, grad_fn=<L1LossBackward0>)\n",
      "Time consumed is: 38.844255208969116\n"
     ]
    },
    {
     "name": "stderr",
     "output_type": "stream",
     "text": [
      "100%|██████████| 268/268 [00:38<00:00,  6.97it/s]\n"
     ]
    },
    {
     "name": "stdout",
     "output_type": "stream",
     "text": [
      "Epoch:  13  Loss:  tensor(0.6186, grad_fn=<AddBackward0>)  RMSE in test set: tensor(0.8888, grad_fn=<PowBackward0>) MAE in test set:  tensor(0.6948, grad_fn=<L1LossBackward0>)\n",
      "Time consumed is: 38.46560788154602\n"
     ]
    },
    {
     "name": "stderr",
     "output_type": "stream",
     "text": [
      "100%|██████████| 268/268 [00:38<00:00,  6.97it/s]\n"
     ]
    },
    {
     "name": "stdout",
     "output_type": "stream",
     "text": [
      "Epoch:  14  Loss:  tensor(0.5944, grad_fn=<AddBackward0>)  RMSE in test set: tensor(0.8835, grad_fn=<PowBackward0>) MAE in test set:  tensor(0.6895, grad_fn=<L1LossBackward0>)\n",
      "Time consumed is: 38.437018632888794\n"
     ]
    },
    {
     "name": "stderr",
     "output_type": "stream",
     "text": [
      "100%|██████████| 268/268 [00:39<00:00,  6.73it/s]\n"
     ]
    },
    {
     "name": "stdout",
     "output_type": "stream",
     "text": [
      "Epoch:  15  Loss:  tensor(0.5793, grad_fn=<AddBackward0>)  RMSE in test set: tensor(0.8785, grad_fn=<PowBackward0>) MAE in test set:  tensor(0.6844, grad_fn=<L1LossBackward0>)\n",
      "Time consumed is: 39.835015535354614\n"
     ]
    },
    {
     "name": "stderr",
     "output_type": "stream",
     "text": [
      "100%|██████████| 268/268 [00:38<00:00,  6.94it/s]\n"
     ]
    },
    {
     "name": "stdout",
     "output_type": "stream",
     "text": [
      "Epoch:  16  Loss:  tensor(0.5986, grad_fn=<AddBackward0>)  RMSE in test set: tensor(0.8741, grad_fn=<PowBackward0>) MAE in test set:  tensor(0.6798, grad_fn=<L1LossBackward0>)\n",
      "Time consumed is: 38.61941623687744\n"
     ]
    },
    {
     "name": "stderr",
     "output_type": "stream",
     "text": [
      "100%|██████████| 268/268 [00:39<00:00,  6.74it/s]\n"
     ]
    },
    {
     "name": "stdout",
     "output_type": "stream",
     "text": [
      "Epoch:  17  Loss:  tensor(0.5881, grad_fn=<AddBackward0>)  RMSE in test set: tensor(0.8703, grad_fn=<PowBackward0>) MAE in test set:  tensor(0.6760, grad_fn=<L1LossBackward0>)\n",
      "Time consumed is: 39.79235053062439\n"
     ]
    },
    {
     "name": "stderr",
     "output_type": "stream",
     "text": [
      "100%|██████████| 268/268 [00:38<00:00,  6.99it/s]\n"
     ]
    },
    {
     "name": "stdout",
     "output_type": "stream",
     "text": [
      "Epoch:  18  Loss:  tensor(0.5707, grad_fn=<AddBackward0>)  RMSE in test set: tensor(0.8669, grad_fn=<PowBackward0>) MAE in test set:  tensor(0.6724, grad_fn=<L1LossBackward0>)\n",
      "Time consumed is: 38.37879991531372\n"
     ]
    },
    {
     "name": "stderr",
     "output_type": "stream",
     "text": [
      "100%|██████████| 268/268 [00:39<00:00,  6.75it/s]\n"
     ]
    },
    {
     "name": "stdout",
     "output_type": "stream",
     "text": [
      "Epoch:  19  Loss:  tensor(0.5533, grad_fn=<AddBackward0>)  RMSE in test set: tensor(0.8640, grad_fn=<PowBackward0>) MAE in test set:  tensor(0.6693, grad_fn=<L1LossBackward0>)\n",
      "Time consumed is: 39.70633888244629\n"
     ]
    },
    {
     "name": "stderr",
     "output_type": "stream",
     "text": [
      "100%|██████████| 268/268 [00:38<00:00,  6.94it/s]\n"
     ]
    },
    {
     "name": "stdout",
     "output_type": "stream",
     "text": [
      "Epoch:  20  Loss:  tensor(0.5410, grad_fn=<AddBackward0>)  RMSE in test set: tensor(0.8620, grad_fn=<PowBackward0>) MAE in test set:  tensor(0.6669, grad_fn=<L1LossBackward0>)\n",
      "Time consumed is: 38.613059759140015\n"
     ]
    },
    {
     "name": "stderr",
     "output_type": "stream",
     "text": [
      "100%|██████████| 268/268 [00:40<00:00,  6.69it/s]\n"
     ]
    },
    {
     "name": "stdout",
     "output_type": "stream",
     "text": [
      "Epoch:  21  Loss:  tensor(0.5318, grad_fn=<AddBackward0>)  RMSE in test set: tensor(0.8597, grad_fn=<PowBackward0>) MAE in test set:  tensor(0.6643, grad_fn=<L1LossBackward0>)\n",
      "Time consumed is: 40.0429847240448\n"
     ]
    },
    {
     "name": "stderr",
     "output_type": "stream",
     "text": [
      "100%|██████████| 268/268 [00:38<00:00,  6.91it/s]\n"
     ]
    },
    {
     "name": "stdout",
     "output_type": "stream",
     "text": [
      "Epoch:  22  Loss:  tensor(0.5244, grad_fn=<AddBackward0>)  RMSE in test set: tensor(0.8586, grad_fn=<PowBackward0>) MAE in test set:  tensor(0.6627, grad_fn=<L1LossBackward0>)\n",
      "Time consumed is: 38.77608060836792\n"
     ]
    },
    {
     "name": "stderr",
     "output_type": "stream",
     "text": [
      "100%|██████████| 268/268 [00:39<00:00,  6.71it/s]\n"
     ]
    },
    {
     "name": "stdout",
     "output_type": "stream",
     "text": [
      "Epoch:  23  Loss:  tensor(0.5327, grad_fn=<AddBackward0>)  RMSE in test set: tensor(0.8575, grad_fn=<PowBackward0>) MAE in test set:  tensor(0.6612, grad_fn=<L1LossBackward0>)\n",
      "Time consumed is: 39.9337158203125\n"
     ]
    },
    {
     "name": "stderr",
     "output_type": "stream",
     "text": [
      "100%|██████████| 268/268 [00:38<00:00,  6.92it/s]\n"
     ]
    },
    {
     "name": "stdout",
     "output_type": "stream",
     "text": [
      "Epoch:  24  Loss:  tensor(0.5181, grad_fn=<AddBackward0>)  RMSE in test set: tensor(0.8561, grad_fn=<PowBackward0>) MAE in test set:  tensor(0.6601, grad_fn=<L1LossBackward0>)\n",
      "Time consumed is: 38.71811628341675\n"
     ]
    },
    {
     "name": "stderr",
     "output_type": "stream",
     "text": [
      "100%|██████████| 268/268 [00:38<00:00,  6.99it/s]\n"
     ]
    },
    {
     "name": "stdout",
     "output_type": "stream",
     "text": [
      "Epoch:  25  Loss:  tensor(0.5230, grad_fn=<AddBackward0>)  RMSE in test set: tensor(0.8556, grad_fn=<PowBackward0>) MAE in test set:  tensor(0.6589, grad_fn=<L1LossBackward0>)\n",
      "Time consumed is: 38.37137007713318\n"
     ]
    },
    {
     "name": "stderr",
     "output_type": "stream",
     "text": [
      "100%|██████████| 268/268 [00:39<00:00,  6.78it/s]\n"
     ]
    },
    {
     "name": "stdout",
     "output_type": "stream",
     "text": [
      "Epoch:  26  Loss:  tensor(0.5029, grad_fn=<AddBackward0>)  RMSE in test set: tensor(0.8542, grad_fn=<PowBackward0>) MAE in test set:  tensor(0.6577, grad_fn=<L1LossBackward0>)\n",
      "Time consumed is: 39.51225304603577\n"
     ]
    },
    {
     "name": "stderr",
     "output_type": "stream",
     "text": [
      "100%|██████████| 268/268 [00:38<00:00,  7.03it/s]\n"
     ]
    },
    {
     "name": "stdout",
     "output_type": "stream",
     "text": [
      "Epoch:  27  Loss:  tensor(0.4996, grad_fn=<AddBackward0>)  RMSE in test set: tensor(0.8528, grad_fn=<PowBackward0>) MAE in test set:  tensor(0.6564, grad_fn=<L1LossBackward0>)\n",
      "Time consumed is: 38.15871524810791\n"
     ]
    },
    {
     "name": "stderr",
     "output_type": "stream",
     "text": [
      "100%|██████████| 268/268 [00:39<00:00,  6.83it/s]\n"
     ]
    },
    {
     "name": "stdout",
     "output_type": "stream",
     "text": [
      "Epoch:  28  Loss:  tensor(0.4981, grad_fn=<AddBackward0>)  RMSE in test set: tensor(0.8520, grad_fn=<PowBackward0>) MAE in test set:  tensor(0.6552, grad_fn=<L1LossBackward0>)\n",
      "Time consumed is: 39.253901958465576\n"
     ]
    },
    {
     "name": "stderr",
     "output_type": "stream",
     "text": [
      "100%|██████████| 268/268 [00:38<00:00,  7.00it/s]\n"
     ]
    },
    {
     "name": "stdout",
     "output_type": "stream",
     "text": [
      "Epoch:  29  Loss:  tensor(0.4901, grad_fn=<AddBackward0>)  RMSE in test set: tensor(0.8501, grad_fn=<PowBackward0>) MAE in test set:  tensor(0.6536, grad_fn=<L1LossBackward0>)\n",
      "Time consumed is: 38.31525659561157\n"
     ]
    },
    {
     "name": "stderr",
     "output_type": "stream",
     "text": [
      "100%|██████████| 268/268 [00:39<00:00,  6.82it/s]\n"
     ]
    },
    {
     "name": "stdout",
     "output_type": "stream",
     "text": [
      "Epoch:  30  Loss:  tensor(0.4859, grad_fn=<AddBackward0>)  RMSE in test set: tensor(0.8496, grad_fn=<PowBackward0>) MAE in test set:  tensor(0.6528, grad_fn=<L1LossBackward0>)\n",
      "Time consumed is: 39.33275055885315\n"
     ]
    },
    {
     "name": "stderr",
     "output_type": "stream",
     "text": [
      "100%|██████████| 268/268 [00:38<00:00,  7.05it/s]\n"
     ]
    },
    {
     "name": "stdout",
     "output_type": "stream",
     "text": [
      "Epoch:  31  Loss:  tensor(0.4866, grad_fn=<AddBackward0>)  RMSE in test set: tensor(0.8491, grad_fn=<PowBackward0>) MAE in test set:  tensor(0.6514, grad_fn=<L1LossBackward0>)\n",
      "Time consumed is: 38.04550075531006\n"
     ]
    },
    {
     "name": "stderr",
     "output_type": "stream",
     "text": [
      "100%|██████████| 268/268 [00:39<00:00,  6.83it/s]\n"
     ]
    },
    {
     "name": "stdout",
     "output_type": "stream",
     "text": [
      "Epoch:  32  Loss:  tensor(0.4979, grad_fn=<AddBackward0>)  RMSE in test set: tensor(0.8487, grad_fn=<PowBackward0>) MAE in test set:  tensor(0.6504, grad_fn=<L1LossBackward0>)\n",
      "Time consumed is: 39.24691152572632\n"
     ]
    },
    {
     "name": "stderr",
     "output_type": "stream",
     "text": [
      "100%|██████████| 268/268 [00:37<00:00,  7.09it/s]\n"
     ]
    },
    {
     "name": "stdout",
     "output_type": "stream",
     "text": [
      "Epoch:  33  Loss:  tensor(0.4800, grad_fn=<AddBackward0>)  RMSE in test set: tensor(0.8479, grad_fn=<PowBackward0>) MAE in test set:  tensor(0.6495, grad_fn=<L1LossBackward0>)\n",
      "Time consumed is: 37.797823667526245\n"
     ]
    },
    {
     "name": "stderr",
     "output_type": "stream",
     "text": [
      "100%|██████████| 268/268 [00:39<00:00,  6.76it/s]\n"
     ]
    },
    {
     "name": "stdout",
     "output_type": "stream",
     "text": [
      "Epoch:  34  Loss:  tensor(0.4776, grad_fn=<AddBackward0>)  RMSE in test set: tensor(0.8477, grad_fn=<PowBackward0>) MAE in test set:  tensor(0.6486, grad_fn=<L1LossBackward0>)\n",
      "Time consumed is: 39.652132749557495\n"
     ]
    },
    {
     "name": "stderr",
     "output_type": "stream",
     "text": [
      "100%|██████████| 268/268 [00:38<00:00,  7.05it/s]\n"
     ]
    },
    {
     "name": "stdout",
     "output_type": "stream",
     "text": [
      "Epoch:  35  Loss:  tensor(0.4842, grad_fn=<AddBackward0>)  RMSE in test set: tensor(0.8470, grad_fn=<PowBackward0>) MAE in test set:  tensor(0.6474, grad_fn=<L1LossBackward0>)\n",
      "Time consumed is: 38.03400254249573\n"
     ]
    },
    {
     "name": "stderr",
     "output_type": "stream",
     "text": [
      "100%|██████████| 268/268 [00:38<00:00,  7.04it/s]\n"
     ]
    },
    {
     "name": "stdout",
     "output_type": "stream",
     "text": [
      "Epoch:  36  Loss:  tensor(0.4713, grad_fn=<AddBackward0>)  RMSE in test set: tensor(0.8469, grad_fn=<PowBackward0>) MAE in test set:  tensor(0.6463, grad_fn=<L1LossBackward0>)\n",
      "Time consumed is: 38.08831787109375\n"
     ]
    },
    {
     "name": "stderr",
     "output_type": "stream",
     "text": [
      "100%|██████████| 268/268 [00:39<00:00,  6.82it/s]\n"
     ]
    },
    {
     "name": "stdout",
     "output_type": "stream",
     "text": [
      "Epoch:  37  Loss:  tensor(0.4666, grad_fn=<AddBackward0>)  RMSE in test set: tensor(0.8463, grad_fn=<PowBackward0>) MAE in test set:  tensor(0.6451, grad_fn=<L1LossBackward0>)\n",
      "Time consumed is: 39.289135694503784\n"
     ]
    },
    {
     "name": "stderr",
     "output_type": "stream",
     "text": [
      "100%|██████████| 268/268 [00:38<00:00,  7.04it/s]\n"
     ]
    },
    {
     "name": "stdout",
     "output_type": "stream",
     "text": [
      "Epoch:  38  Loss:  tensor(0.4353, grad_fn=<AddBackward0>)  RMSE in test set: tensor(0.8326, grad_fn=<PowBackward0>) MAE in test set:  tensor(0.6314, grad_fn=<L1LossBackward0>)\n",
      "Time consumed is: 38.09621977806091\n"
     ]
    },
    {
     "name": "stderr",
     "output_type": "stream",
     "text": [
      "100%|██████████| 268/268 [00:39<00:00,  6.84it/s]\n"
     ]
    },
    {
     "name": "stdout",
     "output_type": "stream",
     "text": [
      "Epoch:  39  Loss:  tensor(0.4300, grad_fn=<AddBackward0>)  RMSE in test set: tensor(0.8311, grad_fn=<PowBackward0>) MAE in test set:  tensor(0.6293, grad_fn=<L1LossBackward0>)\n",
      "Time consumed is: 39.17782115936279\n"
     ]
    },
    {
     "name": "stderr",
     "output_type": "stream",
     "text": [
      "100%|██████████| 268/268 [00:37<00:00,  7.13it/s]\n"
     ]
    },
    {
     "name": "stdout",
     "output_type": "stream",
     "text": [
      "Epoch:  40  Loss:  tensor(0.4266, grad_fn=<AddBackward0>)  RMSE in test set: tensor(0.8305, grad_fn=<PowBackward0>) MAE in test set:  tensor(0.6283, grad_fn=<L1LossBackward0>)\n",
      "Time consumed is: 37.60648560523987\n"
     ]
    },
    {
     "name": "stderr",
     "output_type": "stream",
     "text": [
      "100%|██████████| 268/268 [00:39<00:00,  6.84it/s]\n"
     ]
    },
    {
     "name": "stdout",
     "output_type": "stream",
     "text": [
      "Epoch:  41  Loss:  tensor(0.4241, grad_fn=<AddBackward0>)  RMSE in test set: tensor(0.8301, grad_fn=<PowBackward0>) MAE in test set:  tensor(0.6275, grad_fn=<L1LossBackward0>)\n",
      "Time consumed is: 39.167654275894165\n"
     ]
    },
    {
     "name": "stderr",
     "output_type": "stream",
     "text": [
      "100%|██████████| 268/268 [00:37<00:00,  7.19it/s]\n"
     ]
    },
    {
     "name": "stdout",
     "output_type": "stream",
     "text": [
      "Epoch:  42  Loss:  tensor(0.4222, grad_fn=<AddBackward0>)  RMSE in test set: tensor(0.8299, grad_fn=<PowBackward0>) MAE in test set:  tensor(0.6269, grad_fn=<L1LossBackward0>)\n",
      "Time consumed is: 37.29906439781189\n"
     ]
    },
    {
     "name": "stderr",
     "output_type": "stream",
     "text": [
      "100%|██████████| 268/268 [00:39<00:00,  6.84it/s]\n"
     ]
    },
    {
     "name": "stdout",
     "output_type": "stream",
     "text": [
      "Epoch:  43  Loss:  tensor(0.4206, grad_fn=<AddBackward0>)  RMSE in test set: tensor(0.8297, grad_fn=<PowBackward0>) MAE in test set:  tensor(0.6263, grad_fn=<L1LossBackward0>)\n",
      "Time consumed is: 39.20238518714905\n"
     ]
    },
    {
     "name": "stderr",
     "output_type": "stream",
     "text": [
      "100%|██████████| 268/268 [00:37<00:00,  7.06it/s]\n"
     ]
    },
    {
     "name": "stdout",
     "output_type": "stream",
     "text": [
      "Epoch:  44  Loss:  tensor(0.4189, grad_fn=<AddBackward0>)  RMSE in test set: tensor(0.8296, grad_fn=<PowBackward0>) MAE in test set:  tensor(0.6258, grad_fn=<L1LossBackward0>)\n",
      "Time consumed is: 37.96918821334839\n"
     ]
    },
    {
     "name": "stderr",
     "output_type": "stream",
     "text": [
      "100%|██████████| 268/268 [00:38<00:00,  7.02it/s]\n"
     ]
    },
    {
     "name": "stdout",
     "output_type": "stream",
     "text": [
      "Epoch:  45  Loss:  tensor(0.3996, grad_fn=<AddBackward0>)  RMSE in test set: tensor(0.8262, grad_fn=<PowBackward0>) MAE in test set:  tensor(0.6220, grad_fn=<L1LossBackward0>)\n",
      "Time consumed is: 38.20493721961975\n"
     ]
    },
    {
     "name": "stderr",
     "output_type": "stream",
     "text": [
      "100%|██████████| 268/268 [00:37<00:00,  7.08it/s]\n"
     ]
    },
    {
     "name": "stdout",
     "output_type": "stream",
     "text": [
      "Epoch:  46  Loss:  tensor(0.3965, grad_fn=<AddBackward0>)  RMSE in test set: tensor(0.8256, grad_fn=<PowBackward0>) MAE in test set:  tensor(0.6212, grad_fn=<L1LossBackward0>)\n",
      "Time consumed is: 37.86972379684448\n"
     ]
    },
    {
     "name": "stderr",
     "output_type": "stream",
     "text": [
      "100%|██████████| 268/268 [00:37<00:00,  7.10it/s]\n"
     ]
    },
    {
     "name": "stdout",
     "output_type": "stream",
     "text": [
      "Epoch:  47  Loss:  tensor(0.3946, grad_fn=<AddBackward0>)  RMSE in test set: tensor(0.8253, grad_fn=<PowBackward0>) MAE in test set:  tensor(0.6207, grad_fn=<L1LossBackward0>)\n",
      "Time consumed is: 37.78286409378052\n"
     ]
    },
    {
     "name": "stderr",
     "output_type": "stream",
     "text": [
      "100%|██████████| 268/268 [00:39<00:00,  6.84it/s]\n"
     ]
    },
    {
     "name": "stdout",
     "output_type": "stream",
     "text": [
      "Epoch:  48  Loss:  tensor(0.3931, grad_fn=<AddBackward0>)  RMSE in test set: tensor(0.8252, grad_fn=<PowBackward0>) MAE in test set:  tensor(0.6204, grad_fn=<L1LossBackward0>)\n",
      "Time consumed is: 39.21175742149353\n"
     ]
    },
    {
     "name": "stderr",
     "output_type": "stream",
     "text": [
      "100%|██████████| 268/268 [00:38<00:00,  7.04it/s]\n"
     ]
    },
    {
     "name": "stdout",
     "output_type": "stream",
     "text": [
      "Epoch:  49  Loss:  tensor(0.3919, grad_fn=<AddBackward0>)  RMSE in test set: tensor(0.8251, grad_fn=<PowBackward0>) MAE in test set:  tensor(0.6201, grad_fn=<L1LossBackward0>)\n",
      "Time consumed is: 38.070815324783325\n"
     ]
    }
   ],
   "source": [
    "lrs = [1e-2]\n",
    "dims = [8]\n",
    "regs = [1e-6]\n",
    "batch_sizes = [256]\n",
    "num_epochs = 50\n",
    "res_reg, models_reg,qnm = grid(lrs,dims,regs,batch_sizes,num_epochs,trainset,testset)"
   ]
  },
  {
   "cell_type": "code",
   "execution_count": null,
   "metadata": {
    "colab": {
     "base_uri": "https://localhost:8080/"
    },
    "id": "nEr3PLUeQRo3",
    "outputId": "e6f9cdd4-afbb-4464-a2a2-3858987d38b5"
   },
   "outputs": [
    {
     "name": "stdout",
     "output_type": "stream",
     "text": [
      "Looking in indexes: https://pypi.org/simple, https://us-python.pkg.dev/colab-wheels/public/simple/\n",
      "Collecting umap-learn\n",
      "  Downloading umap-learn-0.5.3.tar.gz (88 kB)\n",
      "\u001b[K     |████████████████████████████████| 88 kB 4.6 MB/s \n",
      "\u001b[?25hRequirement already satisfied: numpy>=1.17 in /usr/local/lib/python3.7/dist-packages (from umap-learn) (1.21.6)\n",
      "Requirement already satisfied: scikit-learn>=0.22 in /usr/local/lib/python3.7/dist-packages (from umap-learn) (1.0.2)\n",
      "Requirement already satisfied: scipy>=1.0 in /usr/local/lib/python3.7/dist-packages (from umap-learn) (1.7.3)\n",
      "Requirement already satisfied: numba>=0.49 in /usr/local/lib/python3.7/dist-packages (from umap-learn) (0.56.0)\n",
      "Collecting pynndescent>=0.5\n",
      "  Downloading pynndescent-0.5.7.tar.gz (1.1 MB)\n",
      "\u001b[K     |████████████████████████████████| 1.1 MB 20.6 MB/s \n",
      "\u001b[?25hRequirement already satisfied: tqdm in /usr/local/lib/python3.7/dist-packages (from umap-learn) (4.64.0)\n",
      "Requirement already satisfied: setuptools in /usr/local/lib/python3.7/dist-packages (from numba>=0.49->umap-learn) (57.4.0)\n",
      "Requirement already satisfied: importlib-metadata in /usr/local/lib/python3.7/dist-packages (from numba>=0.49->umap-learn) (4.12.0)\n",
      "Requirement already satisfied: llvmlite<0.40,>=0.39.0dev0 in /usr/local/lib/python3.7/dist-packages (from numba>=0.49->umap-learn) (0.39.0)\n",
      "Requirement already satisfied: joblib>=0.11 in /usr/local/lib/python3.7/dist-packages (from pynndescent>=0.5->umap-learn) (1.1.0)\n",
      "Requirement already satisfied: threadpoolctl>=2.0.0 in /usr/local/lib/python3.7/dist-packages (from scikit-learn>=0.22->umap-learn) (3.1.0)\n",
      "Requirement already satisfied: typing-extensions>=3.6.4 in /usr/local/lib/python3.7/dist-packages (from importlib-metadata->numba>=0.49->umap-learn) (4.1.1)\n",
      "Requirement already satisfied: zipp>=0.5 in /usr/local/lib/python3.7/dist-packages (from importlib-metadata->numba>=0.49->umap-learn) (3.8.1)\n",
      "Building wheels for collected packages: umap-learn, pynndescent\n",
      "  Building wheel for umap-learn (setup.py) ... \u001b[?25l\u001b[?25hdone\n",
      "  Created wheel for umap-learn: filename=umap_learn-0.5.3-py3-none-any.whl size=82829 sha256=b3a7f76ac0b23333a055f78035b1d2b46357f082f7de54b5f5de288dc1f3b2b9\n",
      "  Stored in directory: /root/.cache/pip/wheels/b3/52/a5/1fd9e3e76a7ab34f134c07469cd6f16e27ef3a37aeff1fe821\n",
      "  Building wheel for pynndescent (setup.py) ... \u001b[?25l\u001b[?25hdone\n",
      "  Created wheel for pynndescent: filename=pynndescent-0.5.7-py3-none-any.whl size=54286 sha256=8ffc93f747d5d5c61404b7ca10c2eca7e7085388b3f369fcf1af540f5f94deea\n",
      "  Stored in directory: /root/.cache/pip/wheels/7f/2a/f8/7bd5dcec71bd5c669f6f574db3113513696b98f3f9b51f496c\n",
      "Successfully built umap-learn pynndescent\n",
      "Installing collected packages: pynndescent, umap-learn\n",
      "Successfully installed pynndescent-0.5.7 umap-learn-0.5.3\n",
      "Looking in indexes: https://pypi.org/simple, https://us-python.pkg.dev/colab-wheels/public/simple/\n",
      "Requirement already satisfied: umap-learn[plot] in /usr/local/lib/python3.7/dist-packages (0.5.3)\n",
      "Requirement already satisfied: numba>=0.49 in /usr/local/lib/python3.7/dist-packages (from umap-learn[plot]) (0.56.0)\n",
      "Requirement already satisfied: numpy>=1.17 in /usr/local/lib/python3.7/dist-packages (from umap-learn[plot]) (1.21.6)\n",
      "Requirement already satisfied: pynndescent>=0.5 in /usr/local/lib/python3.7/dist-packages (from umap-learn[plot]) (0.5.7)\n",
      "Requirement already satisfied: scikit-learn>=0.22 in /usr/local/lib/python3.7/dist-packages (from umap-learn[plot]) (1.0.2)\n",
      "Requirement already satisfied: tqdm in /usr/local/lib/python3.7/dist-packages (from umap-learn[plot]) (4.64.0)\n",
      "Requirement already satisfied: scipy>=1.0 in /usr/local/lib/python3.7/dist-packages (from umap-learn[plot]) (1.7.3)\n",
      "Requirement already satisfied: matplotlib in /usr/local/lib/python3.7/dist-packages (from umap-learn[plot]) (3.2.2)\n",
      "Requirement already satisfied: colorcet in /usr/local/lib/python3.7/dist-packages (from umap-learn[plot]) (3.0.0)\n",
      "Requirement already satisfied: holoviews in /usr/local/lib/python3.7/dist-packages (from umap-learn[plot]) (1.14.9)\n",
      "Requirement already satisfied: bokeh in /usr/local/lib/python3.7/dist-packages (from umap-learn[plot]) (2.3.3)\n",
      "Requirement already satisfied: pandas in /usr/local/lib/python3.7/dist-packages (from umap-learn[plot]) (1.3.5)\n",
      "Requirement already satisfied: scikit-image in /usr/local/lib/python3.7/dist-packages (from umap-learn[plot]) (0.18.3)\n",
      "Collecting datashader\n",
      "  Downloading datashader-0.14.2-py2.py3-none-any.whl (18.2 MB)\n",
      "\u001b[K     |████████████████████████████████| 18.2 MB 799 kB/s \n",
      "\u001b[?25hRequirement already satisfied: seaborn in /usr/local/lib/python3.7/dist-packages (from umap-learn[plot]) (0.11.2)\n",
      "Requirement already satisfied: importlib-metadata in /usr/local/lib/python3.7/dist-packages (from numba>=0.49->umap-learn[plot]) (4.12.0)\n",
      "Requirement already satisfied: setuptools in /usr/local/lib/python3.7/dist-packages (from numba>=0.49->umap-learn[plot]) (57.4.0)\n",
      "Requirement already satisfied: llvmlite<0.40,>=0.39.0dev0 in /usr/local/lib/python3.7/dist-packages (from numba>=0.49->umap-learn[plot]) (0.39.0)\n",
      "Requirement already satisfied: joblib>=0.11 in /usr/local/lib/python3.7/dist-packages (from pynndescent>=0.5->umap-learn[plot]) (1.1.0)\n",
      "Requirement already satisfied: threadpoolctl>=2.0.0 in /usr/local/lib/python3.7/dist-packages (from scikit-learn>=0.22->umap-learn[plot]) (3.1.0)\n",
      "Requirement already satisfied: typing-extensions>=3.7.4 in /usr/local/lib/python3.7/dist-packages (from bokeh->umap-learn[plot]) (4.1.1)\n",
      "Requirement already satisfied: python-dateutil>=2.1 in /usr/local/lib/python3.7/dist-packages (from bokeh->umap-learn[plot]) (2.8.2)\n",
      "Requirement already satisfied: PyYAML>=3.10 in /usr/local/lib/python3.7/dist-packages (from bokeh->umap-learn[plot]) (6.0)\n",
      "Requirement already satisfied: Jinja2>=2.9 in /usr/local/lib/python3.7/dist-packages (from bokeh->umap-learn[plot]) (2.11.3)\n",
      "Requirement already satisfied: packaging>=16.8 in /usr/local/lib/python3.7/dist-packages (from bokeh->umap-learn[plot]) (21.3)\n",
      "Requirement already satisfied: pillow>=7.1.0 in /usr/local/lib/python3.7/dist-packages (from bokeh->umap-learn[plot]) (7.1.2)\n",
      "Requirement already satisfied: tornado>=5.1 in /usr/local/lib/python3.7/dist-packages (from bokeh->umap-learn[plot]) (5.1.1)\n",
      "Requirement already satisfied: MarkupSafe>=0.23 in /usr/local/lib/python3.7/dist-packages (from Jinja2>=2.9->bokeh->umap-learn[plot]) (2.0.1)\n",
      "Requirement already satisfied: pyparsing!=3.0.5,>=2.0.2 in /usr/local/lib/python3.7/dist-packages (from packaging>=16.8->bokeh->umap-learn[plot]) (3.0.9)\n",
      "Requirement already satisfied: six>=1.5 in /usr/local/lib/python3.7/dist-packages (from python-dateutil>=2.1->bokeh->umap-learn[plot]) (1.15.0)\n",
      "Requirement already satisfied: param>=1.7.0 in /usr/local/lib/python3.7/dist-packages (from colorcet->umap-learn[plot]) (1.12.2)\n",
      "Requirement already satisfied: pyct>=0.4.4 in /usr/local/lib/python3.7/dist-packages (from colorcet->umap-learn[plot]) (0.4.8)\n",
      "Requirement already satisfied: requests in /usr/local/lib/python3.7/dist-packages (from datashader->umap-learn[plot]) (2.23.0)\n",
      "Collecting datashape>=0.5.1\n",
      "  Downloading datashape-0.5.2.tar.gz (76 kB)\n",
      "\u001b[K     |████████████████████████████████| 76 kB 6.3 MB/s \n",
      "\u001b[?25hRequirement already satisfied: dask[complete] in /usr/local/lib/python3.7/dist-packages (from datashader->umap-learn[plot]) (2022.2.0)\n",
      "Requirement already satisfied: xarray>=0.9.6 in /usr/local/lib/python3.7/dist-packages (from datashader->umap-learn[plot]) (0.20.2)\n",
      "Requirement already satisfied: multipledispatch>=0.4.7 in /usr/local/lib/python3.7/dist-packages (from datashape>=0.5.1->datashader->umap-learn[plot]) (0.6.0)\n",
      "Requirement already satisfied: pytz>=2017.3 in /usr/local/lib/python3.7/dist-packages (from pandas->umap-learn[plot]) (2022.2.1)\n",
      "Requirement already satisfied: fsspec>=0.6.0 in /usr/local/lib/python3.7/dist-packages (from dask[complete]->datashader->umap-learn[plot]) (2022.7.1)\n",
      "Requirement already satisfied: toolz>=0.8.2 in /usr/local/lib/python3.7/dist-packages (from dask[complete]->datashader->umap-learn[plot]) (0.12.0)\n",
      "Requirement already satisfied: partd>=0.3.10 in /usr/local/lib/python3.7/dist-packages (from dask[complete]->datashader->umap-learn[plot]) (1.3.0)\n",
      "Requirement already satisfied: cloudpickle>=1.1.1 in /usr/local/lib/python3.7/dist-packages (from dask[complete]->datashader->umap-learn[plot]) (1.5.0)\n",
      "Requirement already satisfied: distributed==2022.02.0 in /usr/local/lib/python3.7/dist-packages (from dask[complete]->datashader->umap-learn[plot]) (2022.2.0)\n",
      "Requirement already satisfied: msgpack>=0.6.0 in /usr/local/lib/python3.7/dist-packages (from distributed==2022.02.0->dask[complete]->datashader->umap-learn[plot]) (1.0.4)\n",
      "Requirement already satisfied: click>=6.6 in /usr/local/lib/python3.7/dist-packages (from distributed==2022.02.0->dask[complete]->datashader->umap-learn[plot]) (7.1.2)\n",
      "Requirement already satisfied: sortedcontainers!=2.0.0,!=2.0.1 in /usr/local/lib/python3.7/dist-packages (from distributed==2022.02.0->dask[complete]->datashader->umap-learn[plot]) (2.4.0)\n",
      "Requirement already satisfied: tblib>=1.6.0 in /usr/local/lib/python3.7/dist-packages (from distributed==2022.02.0->dask[complete]->datashader->umap-learn[plot]) (1.7.0)\n",
      "Requirement already satisfied: zict>=0.1.3 in /usr/local/lib/python3.7/dist-packages (from distributed==2022.02.0->dask[complete]->datashader->umap-learn[plot]) (2.2.0)\n",
      "Requirement already satisfied: psutil>=5.0 in /usr/local/lib/python3.7/dist-packages (from distributed==2022.02.0->dask[complete]->datashader->umap-learn[plot]) (5.4.8)\n",
      "Requirement already satisfied: locket in /usr/local/lib/python3.7/dist-packages (from partd>=0.3.10->dask[complete]->datashader->umap-learn[plot]) (1.0.0)\n",
      "Requirement already satisfied: heapdict in /usr/local/lib/python3.7/dist-packages (from zict>=0.1.3->distributed==2022.02.0->dask[complete]->datashader->umap-learn[plot]) (1.0.1)\n",
      "Requirement already satisfied: pyviz-comms>=0.7.4 in /usr/local/lib/python3.7/dist-packages (from holoviews->umap-learn[plot]) (2.2.1)\n",
      "Requirement already satisfied: panel>=0.8.0 in /usr/local/lib/python3.7/dist-packages (from holoviews->umap-learn[plot]) (0.12.1)\n",
      "Requirement already satisfied: bleach in /usr/local/lib/python3.7/dist-packages (from panel>=0.8.0->holoviews->umap-learn[plot]) (5.0.1)\n",
      "Requirement already satisfied: markdown in /usr/local/lib/python3.7/dist-packages (from panel>=0.8.0->holoviews->umap-learn[plot]) (3.4.1)\n",
      "Requirement already satisfied: webencodings in /usr/local/lib/python3.7/dist-packages (from bleach->panel>=0.8.0->holoviews->umap-learn[plot]) (0.5.1)\n",
      "Requirement already satisfied: zipp>=0.5 in /usr/local/lib/python3.7/dist-packages (from importlib-metadata->numba>=0.49->umap-learn[plot]) (3.8.1)\n",
      "Requirement already satisfied: kiwisolver>=1.0.1 in /usr/local/lib/python3.7/dist-packages (from matplotlib->umap-learn[plot]) (1.4.4)\n",
      "Requirement already satisfied: cycler>=0.10 in /usr/local/lib/python3.7/dist-packages (from matplotlib->umap-learn[plot]) (0.11.0)\n",
      "Requirement already satisfied: idna<3,>=2.5 in /usr/local/lib/python3.7/dist-packages (from requests->datashader->umap-learn[plot]) (2.10)\n",
      "Requirement already satisfied: certifi>=2017.4.17 in /usr/local/lib/python3.7/dist-packages (from requests->datashader->umap-learn[plot]) (2022.6.15)\n",
      "Requirement already satisfied: urllib3!=1.25.0,!=1.25.1,<1.26,>=1.21.1 in /usr/local/lib/python3.7/dist-packages (from requests->datashader->umap-learn[plot]) (1.24.3)\n",
      "Requirement already satisfied: chardet<4,>=3.0.2 in /usr/local/lib/python3.7/dist-packages (from requests->datashader->umap-learn[plot]) (3.0.4)\n",
      "Requirement already satisfied: PyWavelets>=1.1.1 in /usr/local/lib/python3.7/dist-packages (from scikit-image->umap-learn[plot]) (1.3.0)\n",
      "Requirement already satisfied: networkx>=2.0 in /usr/local/lib/python3.7/dist-packages (from scikit-image->umap-learn[plot]) (2.6.3)\n",
      "Requirement already satisfied: tifffile>=2019.7.26 in /usr/local/lib/python3.7/dist-packages (from scikit-image->umap-learn[plot]) (2021.11.2)\n",
      "Requirement already satisfied: imageio>=2.3.0 in /usr/local/lib/python3.7/dist-packages (from scikit-image->umap-learn[plot]) (2.9.0)\n",
      "Building wheels for collected packages: datashape\n",
      "  Building wheel for datashape (setup.py) ... \u001b[?25l\u001b[?25hdone\n",
      "  Created wheel for datashape: filename=datashape-0.5.2-py3-none-any.whl size=59438 sha256=a9c5882a213cda51f8d30b68815317b904252816384c2606d9dd968274eca657\n",
      "  Stored in directory: /root/.cache/pip/wheels/b5/b7/80/333a5c3312ed4cd54f5d5b869868c14e0c6002cb5c7238b52d\n",
      "Successfully built datashape\n",
      "Installing collected packages: datashape, datashader\n",
      "Successfully installed datashader-0.14.2 datashape-0.5.2\n"
     ]
    }
   ],
   "source": [
    "!pip install umap-learn\n",
    "!pip install \"umap-learn[plot]\""
   ]
  },
  {
   "cell_type": "code",
   "execution_count": null,
   "metadata": {
    "colab": {
     "background_save": true
    },
    "id": "R4gJnuxuQRr9"
   },
   "outputs": [],
   "source": [
    "import sklearn.datasets\n",
    "import pandas as pd\n",
    "import numpy as np\n",
    "import umap\n",
    "from umap import UMAP\n",
    "import umap.plot"
   ]
  },
  {
   "cell_type": "code",
   "execution_count": null,
   "metadata": {
    "colab": {
     "background_save": true
    },
    "id": "7E610C9-QRtf"
   },
   "outputs": [],
   "source": [
    "import networkx as nx\n",
    "import matplotlib.pyplot as plt\n",
    "\n",
    "\n",
    "def xiba(hehe,model):\n",
    "    users_index = hehe.iloc[:, 0].values\n",
    "    users = torch.LongTensor(users_index).to(DEVICE)\n",
    "    actors_id = hehe.iloc[:, 2]\n",
    "    directors_id = hehe.iloc[:, 3]\n",
    "    genres_id = hehe.iloc[:, 4]\n",
    "    rating = torch.FloatTensor(\n",
    "        hehe.iloc[:, 5].values).to(DEVICE)\n",
    "    prediction,scores,contribute_actors,contribute_directors,contribute_genres, cnm = model(users, actors_id, directors_id, genres_id)\n",
    "    return prediction,scores,contribute_actors,contribute_directors,contribute_genres,cnm"
   ]
  },
  {
   "cell_type": "code",
   "execution_count": 50,
   "metadata": {
    "id": "wpMlt0zYQRxK"
   },
   "outputs": [],
   "source": [
    "prediction, scores, contribute_actors, contribute_directors, contribute_genres,cnm = xiba(testset,models_reg[0])"
   ]
  },
  {
   "cell_type": "code",
   "execution_count": 34,
   "metadata": {
    "colab": {
     "base_uri": "https://localhost:8080/"
    },
    "id": "pTOQkzH8R9PD",
    "outputId": "c4c6cb03-33c7-4e78-9227-15d261740281"
   },
   "outputs": [
    {
     "data": {
      "text/plain": [
       "tensor([4., 3., 3.,  ..., 5., 2., 5.])"
      ]
     },
     "execution_count": 34,
     "metadata": {},
     "output_type": "execute_result"
    }
   ],
   "source": [
    "rating = torch.FloatTensor(\n",
    "        testset.iloc[:, 5].values)\n",
    "rating"
   ]
  },
  {
   "cell_type": "code",
   "execution_count": 95,
   "metadata": {
    "id": "BzFwTB0-R9SB"
   },
   "outputs": [],
   "source": [
    "i = 17121 ## the index of user-item interaction in the testset\n",
    "dict_actors = {v:k for k,v in actors_dict.items()}\n",
    "dict_directors = {v:k for k,v in directors_dict.items()}\n",
    "dict_genres = {v:k for k,v in genres_dict.items()}\n",
    "\n",
    "\n",
    "importance = scores.cpu().detach().numpy()\n",
    "arg_actors = cnm[0][i].detach().numpy()\n",
    "arg_directors = cnm[1][i].detach().numpy()\n",
    "arg_genres = cnm[2][i].detach().numpy()\n",
    "\n",
    "info = testset.iloc[i]\n",
    "movies = info['movie']\n",
    "actors_id = info['actors']\n",
    "directors_id = info['director']\n",
    "genres_id = info['genre']\n",
    "\n",
    "actors_name = itemgetter(*actors_id)(dict_actors)\n",
    "directors_name = itemgetter(*directors_id)(dict_directors)\n",
    "\n",
    "genres_name = itemgetter(*genres_id)(dict_genres)"
   ]
  },
  {
   "cell_type": "code",
   "execution_count": 96,
   "metadata": {
    "colab": {
     "base_uri": "https://localhost:8080/",
     "height": 423
    },
    "id": "L5DOHj5iR9Uo",
    "outputId": "bd263c12-f7aa-41e5-91ca-3a0799b09975"
   },
   "outputs": [
    {
     "data": {
      "text/plain": [
       "{('Christian Bale', 224): Text(1.5, 2.0, '0.0'),\n",
       " ('Jennifer Jason Leigh', 224): Text(1.5, 4.0, '0.0'),\n",
       " ('Aitana Sánchez-Gijón', 224): Text(4.0, 6.0, '0.0'),\n",
       " ('Brad Anderson', 224): Text(6.0, 4.0, '0.0'),\n",
       " ('Drama', 224): Text(6.0, 2.0, '2.08'),\n",
       " ('Thriller', 224): Text(4.0, 2.0, '2.17')}"
      ]
     },
     "execution_count": 96,
     "metadata": {},
     "output_type": "execute_result"
    },
    {
     "data": {
      "image/png": "[encoded data removed]",
      "text/plain": [
       "<Figure size 432x288 with 1 Axes>"
      ]
     },
     "metadata": {},
     "output_type": "display_data"
    }
   ],
   "source": [
    "import networkx as nx\n",
    "import matplotlib.pyplot as plt\n",
    "\n",
    "G=nx.DiGraph()\n",
    "\n",
    "G.add_node(actors_name[0],pos=(-1,0))\n",
    "G.add_node(actors_name[1],pos=(-1,4))\n",
    "G.add_node(actors_name[2],pos=(4,8))\n",
    "G.add_node(directors_name,pos=(8,4))\n",
    "G.add_node(genres_name[0],pos=(8,0))\n",
    "G.add_node(genres_name[1],pos=(4,0))\n",
    "G.add_node(movies,pos=(4,4))\n",
    "\n",
    "\n",
    "G.add_edge(actors_name[0],movies,weight=round(importance[i][0] * (max(arg_actors[0],0))/ 3,2))\n",
    "G.add_edge(actors_name[1],movies,weight=round(importance[i][0] *(max(arg_actors[1],0)) / 3,2))\n",
    "G.add_edge(actors_name[2],movies,weight=round(importance[i][0] *(max(arg_actors[2],0)) / 3,2))\n",
    "G.add_edge(directors_name,movies,weight=round(importance[i][1] *(max(arg_directors[0],0)) / 1,2))\n",
    "G.add_edge(genres_name[0],movies,weight=round(importance[i][2] *(float(arg_genres[0])) / 2,2))\n",
    "G.add_edge(genres_name[1],movies,weight=round(importance[i][2] *(float(arg_genres[1])) / 2,2))\n",
    "\n",
    "\n",
    "pos=nx.get_node_attributes(G,'pos')\n",
    "nx.draw(G,pos,with_labels=True)\n",
    "labels = nx.get_edge_attributes(G,'weight')\n",
    "nx.draw_networkx_edge_labels(G,pos,edge_labels=labels)"
   ]
  },
  {
   "cell_type": "code",
   "execution_count": 94,
   "metadata": {
    "colab": {
     "base_uri": "https://localhost:8080/",
     "height": 424
    },
    "id": "avZN4tP9R90K",
    "outputId": "4f5344d1-b764-4222-ddfd-54ddeaa19c44"
   },
   "outputs": [
    {
     "data": {
      "text/html": [
       "\n",
       "  <div id=\"df-a4132e9a-58b7-45e2-b346-25d1491dbb63\">\n",
       "    <div class=\"colab-df-container\">\n",
       "      <div>\n",
       "<style scoped>\n",
       "    .dataframe tbody tr th:only-of-type {\n",
       "        vertical-align: middle;\n",
       "    }\n",
       "\n",
       "    .dataframe tbody tr th {\n",
       "        vertical-align: top;\n",
       "    }\n",
       "\n",
       "    .dataframe thead th {\n",
       "        text-align: right;\n",
       "    }\n",
       "</style>\n",
       "<table border=\"1\" class=\"dataframe\">\n",
       "  <thead>\n",
       "    <tr style=\"text-align: right;\">\n",
       "      <th></th>\n",
       "      <th>user_id</th>\n",
       "      <th>movie</th>\n",
       "      <th>actors</th>\n",
       "      <th>director</th>\n",
       "      <th>genre</th>\n",
       "      <th>user_rating</th>\n",
       "    </tr>\n",
       "  </thead>\n",
       "  <tbody>\n",
       "    <tr>\n",
       "      <th>0</th>\n",
       "      <td>99</td>\n",
       "      <td>140</td>\n",
       "      <td>[153, 255, 69, 456, 450]</td>\n",
       "      <td>[604]</td>\n",
       "      <td>[610, 616, 613]</td>\n",
       "      <td>4.0</td>\n",
       "    </tr>\n",
       "    <tr>\n",
       "      <th>1</th>\n",
       "      <td>2307</td>\n",
       "      <td>140</td>\n",
       "      <td>[153, 255, 69, 456, 450]</td>\n",
       "      <td>[604]</td>\n",
       "      <td>[610, 616, 613]</td>\n",
       "      <td>3.0</td>\n",
       "    </tr>\n",
       "    <tr>\n",
       "      <th>2</th>\n",
       "      <td>1066</td>\n",
       "      <td>140</td>\n",
       "      <td>[153, 255, 69, 456, 450]</td>\n",
       "      <td>[604]</td>\n",
       "      <td>[610, 616, 613]</td>\n",
       "      <td>3.0</td>\n",
       "    </tr>\n",
       "    <tr>\n",
       "      <th>3</th>\n",
       "      <td>2208</td>\n",
       "      <td>140</td>\n",
       "      <td>[153, 255, 69, 456, 450]</td>\n",
       "      <td>[604]</td>\n",
       "      <td>[610, 616, 613]</td>\n",
       "      <td>4.0</td>\n",
       "    </tr>\n",
       "    <tr>\n",
       "      <th>4</th>\n",
       "      <td>2106</td>\n",
       "      <td>140</td>\n",
       "      <td>[153, 255, 69, 456, 450]</td>\n",
       "      <td>[604]</td>\n",
       "      <td>[610, 616, 613]</td>\n",
       "      <td>4.0</td>\n",
       "    </tr>\n",
       "    <tr>\n",
       "      <th>...</th>\n",
       "      <td>...</td>\n",
       "      <td>...</td>\n",
       "      <td>...</td>\n",
       "      <td>...</td>\n",
       "      <td>...</td>\n",
       "      <td>...</td>\n",
       "    </tr>\n",
       "    <tr>\n",
       "      <th>17117</th>\n",
       "      <td>1336</td>\n",
       "      <td>224</td>\n",
       "      <td>[237, 264, 507]</td>\n",
       "      <td>[606]</td>\n",
       "      <td>[610, 617]</td>\n",
       "      <td>4.0</td>\n",
       "    </tr>\n",
       "    <tr>\n",
       "      <th>17118</th>\n",
       "      <td>670</td>\n",
       "      <td>224</td>\n",
       "      <td>[237, 264, 507]</td>\n",
       "      <td>[606]</td>\n",
       "      <td>[610, 617]</td>\n",
       "      <td>1.0</td>\n",
       "    </tr>\n",
       "    <tr>\n",
       "      <th>17119</th>\n",
       "      <td>1650</td>\n",
       "      <td>224</td>\n",
       "      <td>[237, 264, 507]</td>\n",
       "      <td>[606]</td>\n",
       "      <td>[610, 617]</td>\n",
       "      <td>5.0</td>\n",
       "    </tr>\n",
       "    <tr>\n",
       "      <th>17120</th>\n",
       "      <td>63</td>\n",
       "      <td>224</td>\n",
       "      <td>[237, 264, 507]</td>\n",
       "      <td>[606]</td>\n",
       "      <td>[610, 617]</td>\n",
       "      <td>2.0</td>\n",
       "    </tr>\n",
       "    <tr>\n",
       "      <th>17121</th>\n",
       "      <td>109</td>\n",
       "      <td>224</td>\n",
       "      <td>[237, 264, 507]</td>\n",
       "      <td>[606]</td>\n",
       "      <td>[610, 617]</td>\n",
       "      <td>5.0</td>\n",
       "    </tr>\n",
       "  </tbody>\n",
       "</table>\n",
       "<p>17122 rows × 6 columns</p>\n",
       "</div>\n",
       "      <button class=\"colab-df-convert\" onclick=\"convertToInteractive('df-a4132e9a-58b7-45e2-b346-25d1491dbb63')\"\n",
       "              title=\"Convert this dataframe to an interactive table.\"\n",
       "              style=\"display:none;\">\n",
       "        \n",
       "  <svg xmlns=\"http://www.w3.org/2000/svg\" height=\"24px\"viewBox=\"0 0 24 24\"\n",
       "       width=\"24px\">\n",
       "    <path d=\"M0 0h24v24H0V0z\" fill=\"none\"/>\n",
       "    <path d=\"M18.56 5.44l.94 2.06.94-2.06 2.06-.94-2.06-.94-.94-2.06-.94 2.06-2.06.94zm-11 1L8.5 8.5l.94-2.06 2.06-.94-2.06-.94L8.5 2.5l-.94 2.06-2.06.94zm10 10l.94 2.06.94-2.06 2.06-.94-2.06-.94-.94-2.06-.94 2.06-2.06.94z\"/><path d=\"M17.41 7.96l-1.37-1.37c-.4-.4-.92-.59-1.43-.59-.52 0-1.04.2-1.43.59L10.3 9.45l-7.72 7.72c-.78.78-.78 2.05 0 2.83L4 21.41c.39.39.9.59 1.41.59.51 0 1.02-.2 1.41-.59l7.78-7.78 2.81-2.81c.8-.78.8-2.07 0-2.86zM5.41 20L4 18.59l7.72-7.72 1.47 1.35L5.41 20z\"/>\n",
       "  </svg>\n",
       "      </button>\n",
       "      \n",
       "  <style>\n",
       "    .colab-df-container {\n",
       "      display:flex;\n",
       "      flex-wrap:wrap;\n",
       "      gap: 12px;\n",
       "    }\n",
       "\n",
       "    .colab-df-convert {\n",
       "      background-color: #E8F0FE;\n",
       "      border: none;\n",
       "      border-radius: 50%;\n",
       "      cursor: pointer;\n",
       "      display: none;\n",
       "      fill: #1967D2;\n",
       "      height: 32px;\n",
       "      padding: 0 0 0 0;\n",
       "      width: 32px;\n",
       "    }\n",
       "\n",
       "    .colab-df-convert:hover {\n",
       "      background-color: #E2EBFA;\n",
       "      box-shadow: 0px 1px 2px rgba(60, 64, 67, 0.3), 0px 1px 3px 1px rgba(60, 64, 67, 0.15);\n",
       "      fill: #174EA6;\n",
       "    }\n",
       "\n",
       "    [theme=dark] .colab-df-convert {\n",
       "      background-color: #3B4455;\n",
       "      fill: #D2E3FC;\n",
       "    }\n",
       "\n",
       "    [theme=dark] .colab-df-convert:hover {\n",
       "      background-color: #434B5C;\n",
       "      box-shadow: 0px 1px 3px 1px rgba(0, 0, 0, 0.15);\n",
       "      filter: drop-shadow(0px 1px 2px rgba(0, 0, 0, 0.3));\n",
       "      fill: #FFFFFF;\n",
       "    }\n",
       "  </style>\n",
       "\n",
       "      <script>\n",
       "        const buttonEl =\n",
       "          document.querySelector('#df-a4132e9a-58b7-45e2-b346-25d1491dbb63 button.colab-df-convert');\n",
       "        buttonEl.style.display =\n",
       "          google.colab.kernel.accessAllowed ? 'block' : 'none';\n",
       "\n",
       "        async function convertToInteractive(key) {\n",
       "          const element = document.querySelector('#df-a4132e9a-58b7-45e2-b346-25d1491dbb63');\n",
       "          const dataTable =\n",
       "            await google.colab.kernel.invokeFunction('convertToInteractive',\n",
       "                                                     [key], {});\n",
       "          if (!dataTable) return;\n",
       "\n",
       "          const docLinkHtml = 'Like what you see? Visit the ' +\n",
       "            '<a target=\"_blank\" href=https://colab.research.google.com/notebooks/data_table.ipynb>data table notebook</a>'\n",
       "            + ' to learn more about interactive tables.';\n",
       "          element.innerHTML = '';\n",
       "          dataTable['output_type'] = 'display_data';\n",
       "          await google.colab.output.renderOutput(dataTable, element);\n",
       "          const docLink = document.createElement('div');\n",
       "          docLink.innerHTML = docLinkHtml;\n",
       "          element.appendChild(docLink);\n",
       "        }\n",
       "      </script>\n",
       "    </div>\n",
       "  </div>\n",
       "  "
      ],
      "text/plain": [
       "       user_id  movie                    actors director            genre  \\\n",
       "0           99    140  [153, 255, 69, 456, 450]    [604]  [610, 616, 613]   \n",
       "1         2307    140  [153, 255, 69, 456, 450]    [604]  [610, 616, 613]   \n",
       "2         1066    140  [153, 255, 69, 456, 450]    [604]  [610, 616, 613]   \n",
       "3         2208    140  [153, 255, 69, 456, 450]    [604]  [610, 616, 613]   \n",
       "4         2106    140  [153, 255, 69, 456, 450]    [604]  [610, 616, 613]   \n",
       "...        ...    ...                       ...      ...              ...   \n",
       "17117     1336    224           [237, 264, 507]    [606]       [610, 617]   \n",
       "17118      670    224           [237, 264, 507]    [606]       [610, 617]   \n",
       "17119     1650    224           [237, 264, 507]    [606]       [610, 617]   \n",
       "17120       63    224           [237, 264, 507]    [606]       [610, 617]   \n",
       "17121      109    224           [237, 264, 507]    [606]       [610, 617]   \n",
       "\n",
       "       user_rating  \n",
       "0              4.0  \n",
       "1              3.0  \n",
       "2              3.0  \n",
       "3              4.0  \n",
       "4              4.0  \n",
       "...            ...  \n",
       "17117          4.0  \n",
       "17118          1.0  \n",
       "17119          5.0  \n",
       "17120          2.0  \n",
       "17121          5.0  \n",
       "\n",
       "[17122 rows x 6 columns]"
      ]
     },
     "execution_count": 94,
     "metadata": {},
     "output_type": "execute_result"
    }
   ],
   "source": [
    "testset"
   ]
  },
  {
   "cell_type": "code",
   "execution_count": null,
   "metadata": {
    "id": "tLgqr9VPo6ZC"
   },
   "outputs": [],
   "source": []
  },
  {
   "cell_type": "code",
   "execution_count": 79,
   "metadata": {
    "colab": {
     "base_uri": "https://localhost:8080/",
     "height": 388
    },
    "id": "xS-QVS1Po6bO",
    "outputId": "fd30ccb0-cae0-4787-e064-c94c601d822b"
   },
   "outputs": [
    {
     "data": {
      "image/png": "[encoded data removed]",
      "text/plain": [
       "<Figure size 1080x432 with 1 Axes>"
      ]
     },
     "metadata": {
      "needs_background": "light"
     },
     "output_type": "display_data"
    }
   ],
   "source": [
    "X = scores.cpu().data.numpy()\n",
    "from sklearn.cluster import KMeans\n",
    "inertia = []   \n",
    "\n",
    "for k in range(1,11):  \n",
    "    algorithm = (KMeans(n_clusters=k,  \n",
    "                       init=\"k-means++\",  \n",
    "                       n_init=10,  \n",
    "                       max_iter=300,  \n",
    "                       tol=0.0001,  \n",
    "                       random_state=111,  \n",
    "                       algorithm=\"full\"))  \n",
    "    algorithm.fit(X)  \n",
    "    inertia.append(algorithm.inertia_) \n",
    "plt.figure(1,figsize=(15,6))\n",
    "plt.plot(np.arange(1,11), inertia, 'o')  \n",
    "plt.plot(np.arange(1,11), inertia, '-', alpha=0.5)\n",
    "\n",
    "plt.xlabel(\"Choose of K\")\n",
    "plt.ylabel(\"Interia\")\n",
    "plt.show()"
   ]
  },
  {
   "cell_type": "code",
   "execution_count": null,
   "metadata": {
    "id": "n1pKYhgovFAt"
   },
   "outputs": [],
   "source": [
    "### It can be observed that after 3, even if we increase K, the effect of clustering does not improve, therefore, the number of clusters is chosen to be 3"
   ]
  },
  {
   "cell_type": "code",
   "execution_count": 81,
   "metadata": {
    "colab": {
     "base_uri": "https://localhost:8080/",
     "height": 391
    },
    "id": "557mOuYqo6fq",
    "outputId": "f2d0f0ea-b1c9-40cd-a733-1c6249146e7f"
   },
   "outputs": [
    {
     "name": "stdout",
     "output_type": "stream",
     "text": [
      "Starting compute t-SNE Embedding...\n"
     ]
    },
    {
     "name": "stderr",
     "output_type": "stream",
     "text": [
      "/usr/local/lib/python3.7/dist-packages/sklearn/manifold/_t_sne.py:793: FutureWarning: The default learning rate in TSNE will change from 200.0 to 'auto' in 1.2.\n",
      "  FutureWarning,\n",
      "/usr/local/lib/python3.7/dist-packages/sklearn/manifold/_t_sne.py:986: FutureWarning: The PCA initialization in TSNE will change to have the standard deviation of PC1 equal to 1e-4 in 1.2. This will ensure better convergence.\n",
      "  FutureWarning,\n"
     ]
    },
    {
     "data": {
      "image/png": "[encoded data removed]",
      "text/plain": [
       "<Figure size 432x288 with 1 Axes>"
      ]
     },
     "metadata": {
      "needs_background": "light"
     },
     "output_type": "display_data"
    }
   ],
   "source": [
    "estimators = KMeans(n_clusters=3)\n",
    "estimators.fit(X)\n",
    "labele = estimators.labels_\n",
    "from sklearn.manifold import TSNE\n",
    "import matplotlib.pyplot as plt\n",
    "data, label, n_samples, n_features,title = X, labele, 17122, 3,'Cluster of users according to importances of contexts'\n",
    "print('Starting compute t-SNE Embedding...')\n",
    "ts = TSNE(n_components=2, init='pca', random_state=0)\n",
    "\n",
    "reslut = ts.fit_transform(data)\n",
    "\n",
    "x_min, x_max = np.min(reslut, 0), np.max(reslut, 0)\n",
    "reslut = (reslut - x_min) / (x_max - x_min)\n",
    "\n",
    "\n",
    "\n",
    "fig = plt.figure()\n",
    "ax = plt.subplot(111)\n",
    "for i in range(reslut.shape[0]):\n",
    "    plt.text(reslut[i, 0], reslut[i, 1], str(label[i]), color=plt.cm.Set1(label[i]),\n",
    "                 fontdict={'weight': 'bold', 'size': 7})\n",
    "plt.xlabel('Component 1')\n",
    "plt.ylabel('Component 2')\n",
    "plt.text(0.015,0.93, 'Cluster 2', fontsize=15)\n",
    "plt.text(0.015,0.10, 'Cluster 1', fontsize=15)\n",
    "plt.text(0.80,0.9, 'Cluster 3', fontsize=15)\n",
    "plt.xticks()\n",
    "plt.yticks()\n",
    "plt.show()"
   ]
  },
  {
   "cell_type": "code",
   "execution_count": null,
   "metadata": {
    "id": "bCoopn6tu80M"
   },
   "outputs": [],
   "source": []
  },
  {
   "cell_type": "code",
   "execution_count": null,
   "metadata": {
    "id": "K3XF63pYu84l"
   },
   "outputs": [],
   "source": []
  },
  {
   "cell_type": "code",
   "execution_count": null,
   "metadata": {
    "id": "BE8ArE0pu86n"
   },
   "outputs": [],
   "source": []
  },
  {
   "cell_type": "code",
   "execution_count": null,
   "metadata": {
    "id": "h2e-kyhOu8-g"
   },
   "outputs": [],
   "source": [
    "### As a matter of fact, other methods of cluster such as UMAP can be applied."
   ]
  },
  {
   "cell_type": "code",
   "execution_count": 88,
   "metadata": {
    "colab": {
     "base_uri": "https://localhost:8080/",
     "height": 284
    },
    "id": "ZncBctRwo6x6",
    "outputId": "d75821b0-c124-4cd7-dded-26339a172a24"
   },
   "outputs": [
    {
     "data": {
      "image/png": "[encoded data removed]",
      "text/plain": [
       "<Figure size 432x288 with 1 Axes>"
      ]
     },
     "metadata": {
      "needs_background": "light"
     },
     "output_type": "display_data"
    }
   ],
   "source": [
    "mapper = UMAP().fit(X)\n",
    "reslut = UMAP().fit_transform(X)\n",
    "\n",
    "x_min, x_max = np.min(reslut, 0), np.max(reslut, 0)\n",
    "reslut = (reslut - x_min) / (x_max - x_min)\n",
    "fig = plt.figure()\n",
    "ax = plt.subplot(111)\n",
    "for i in range(reslut.shape[0]):\n",
    "    plt.text(reslut[i, 0], reslut[i, 1], '+', color=plt.cm.Set1(labele[i]),\n",
    "                 fontdict={'weight': 'bold', 'size': 7})\n",
    "plt.xlabel('Component 1')\n",
    "plt.ylabel('Component 2')\n",
    "plt.xticks()\n",
    "plt.yticks()\n",
    "plt.show()"
   ]
  },
  {
   "cell_type": "code",
   "execution_count": 89,
   "metadata": {
    "colab": {
     "base_uri": "https://localhost:8080/",
     "height": 693
    },
    "id": "80X27Fm0o60q",
    "outputId": "5b3f6e57-a1e6-474e-aecb-d920a5942440"
   },
   "outputs": [
    {
     "name": "stderr",
     "output_type": "stream",
     "text": [
      "WARNING:matplotlib.axes._axes:*c* argument looks like a single numeric RGB or RGBA sequence, which should be avoided as value-mapping will have precedence in case its length matches with *x* & *y*.  Please use the *color* keyword-argument or provide a 2-D array with a single row if you intend to specify the same RGB or RGBA value for all points.\n"
     ]
    },
    {
     "data": {
      "text/plain": [
       "<matplotlib.axes._subplots.AxesSubplot at 0x7f1165f1e450>"
      ]
     },
     "execution_count": 89,
     "metadata": {},
     "output_type": "execute_result"
    },
    {
     "data": {
      "image/png": "[encoded data removed]",
      "text/plain": [
       "<Figure size 800x800 with 1 Axes>"
      ]
     },
     "metadata": {},
     "output_type": "display_data"
    }
   ],
   "source": [
    "umap.plot.points(mapper)"
   ]
  },
  {
   "cell_type": "code",
   "execution_count": 90,
   "metadata": {
    "colab": {
     "base_uri": "https://localhost:8080/",
     "height": 655
    },
    "id": "eeAepAvqo63V",
    "outputId": "7b40ad3c-8fb1-4fd7-8a5c-85612398925c"
   },
   "outputs": [
    {
     "data": {
      "text/plain": [
       "<matplotlib.axes._subplots.AxesSubplot at 0x7f116dd3f810>"
      ]
     },
     "execution_count": 90,
     "metadata": {},
     "output_type": "execute_result"
    },
    {
     "data": {
      "image/png": "[encoded data removed]",
      "text/plain": [
       "<Figure size 800x800 with 1 Axes>"
      ]
     },
     "metadata": {},
     "output_type": "display_data"
    }
   ],
   "source": [
    "umap.plot.points(mapper, labels=labele, color_key_cmap='Paired', theme='fire')\n"
   ]
  },
  {
   "cell_type": "code",
   "execution_count": 91,
   "metadata": {
    "colab": {
     "base_uri": "https://localhost:8080/",
     "height": 285
    },
    "id": "Xx-_znXHo66E",
    "outputId": "c36ad2a5-b896-42ad-cc56-92f40c96c71b"
   },
   "outputs": [
    {
     "data": {
      "text/plain": [
       "<matplotlib.axes._subplots.AxesSubplot at 0x7f116d0fab50>"
      ]
     },
     "execution_count": 91,
     "metadata": {},
     "output_type": "execute_result"
    },
    {
     "data": {
      "image/png": "[encoded data removed]",
      "text/plain": [
       "<Figure size 432x288 with 1 Axes>"
      ]
     },
     "metadata": {},
     "output_type": "display_data"
    }
   ],
   "source": [
    "umap.plot.diagnostic(mapper, diagnostic_type='pca')"
   ]
  },
  {
   "cell_type": "code",
   "execution_count": 92,
   "metadata": {
    "colab": {
     "base_uri": "https://localhost:8080/",
     "height": 285
    },
    "id": "rlFVrBMBqEKj",
    "outputId": "8c651240-5c98-4428-afa7-f05cf4c90e27"
   },
   "outputs": [
    {
     "data": {
      "text/plain": [
       "<matplotlib.axes._subplots.AxesSubplot at 0x7f116d0fac90>"
      ]
     },
     "execution_count": 92,
     "metadata": {},
     "output_type": "execute_result"
    },
    {
     "data": {
      "image/png": "[encoded data removed]",
      "text/plain": [
       "<Figure size 432x288 with 1 Axes>"
      ]
     },
     "metadata": {},
     "output_type": "display_data"
    }
   ],
   "source": [
    "umap.plot.diagnostic(mapper, diagnostic_type='vq')\n"
   ]
  }
 ],
 "metadata": {
  "colab": {
   "provenance": []
  },
  "kernelspec": {
   "display_name": "Python 3",
   "language": "python",
   "name": "python3"
  },
  "language_info": {
   "codemirror_mode": {
    "name": "ipython",
    "version": 3
   },
   "file_extension": ".py",
   "mimetype": "text/x-python",
   "name": "python",
   "nbconvert_exporter": "python",
   "pygments_lexer": "ipython3",
   "version": "3.8.3"
  }
 },
 "nbformat": 4,
 "nbformat_minor": 1
}
